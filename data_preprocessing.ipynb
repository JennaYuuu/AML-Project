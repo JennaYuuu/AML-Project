{
 "cells": [
  {
   "cell_type": "code",
   "execution_count": 13,
   "metadata": {},
   "outputs": [],
   "source": [
    "import pandas as pd\n",
    "from sklearn.model_selection import train_test_split\n",
    "from sklearn.preprocessing import LabelEncoder\n",
    "from category_encoders import TargetEncoder\n",
    "from sklearn.experimental import enable_iterative_imputer\n",
    "from sklearn.impute import IterativeImputer\n",
    "from imblearn.over_sampling import RandomOverSampler, SMOTE"
   ]
  },
  {
   "cell_type": "code",
   "execution_count": 2,
   "metadata": {},
   "outputs": [
    {
     "data": {
      "text/plain": [
       "(91713, 85)"
      ]
     },
     "execution_count": 2,
     "metadata": {},
     "output_type": "execute_result"
    }
   ],
   "source": [
    "df_patient = pd.read_csv('dataset.csv')\n",
    "df_patient.shape"
   ]
  },
  {
   "cell_type": "code",
   "execution_count": 3,
   "metadata": {},
   "outputs": [
    {
     "data": {
      "text/plain": [
       "Index(['encounter_id', 'patient_id', 'hospital_id', 'age', 'bmi',\n",
       "       'elective_surgery', 'ethnicity', 'gender', 'height', 'icu_admit_source',\n",
       "       'icu_id', 'icu_stay_type', 'icu_type', 'pre_icu_los_days', 'weight',\n",
       "       'apache_2_diagnosis', 'apache_3j_diagnosis', 'apache_post_operative',\n",
       "       'arf_apache', 'gcs_eyes_apache', 'gcs_motor_apache',\n",
       "       'gcs_unable_apache', 'gcs_verbal_apache', 'heart_rate_apache',\n",
       "       'intubated_apache', 'map_apache', 'resprate_apache', 'temp_apache',\n",
       "       'ventilated_apache', 'd1_diasbp_max', 'd1_diasbp_min',\n",
       "       'd1_diasbp_noninvasive_max', 'd1_diasbp_noninvasive_min',\n",
       "       'd1_heartrate_max', 'd1_heartrate_min', 'd1_mbp_max', 'd1_mbp_min',\n",
       "       'd1_mbp_noninvasive_max', 'd1_mbp_noninvasive_min', 'd1_resprate_max',\n",
       "       'd1_resprate_min', 'd1_spo2_max', 'd1_spo2_min', 'd1_sysbp_max',\n",
       "       'd1_sysbp_min', 'd1_sysbp_noninvasive_max', 'd1_sysbp_noninvasive_min',\n",
       "       'd1_temp_max', 'd1_temp_min', 'h1_diasbp_max', 'h1_diasbp_min',\n",
       "       'h1_diasbp_noninvasive_max', 'h1_diasbp_noninvasive_min',\n",
       "       'h1_heartrate_max', 'h1_heartrate_min', 'h1_mbp_max', 'h1_mbp_min',\n",
       "       'h1_mbp_noninvasive_max', 'h1_mbp_noninvasive_min', 'h1_resprate_max',\n",
       "       'h1_resprate_min', 'h1_spo2_max', 'h1_spo2_min', 'h1_sysbp_max',\n",
       "       'h1_sysbp_min', 'h1_sysbp_noninvasive_max', 'h1_sysbp_noninvasive_min',\n",
       "       'd1_glucose_max', 'd1_glucose_min', 'd1_potassium_max',\n",
       "       'd1_potassium_min', 'apache_4a_hospital_death_prob',\n",
       "       'apache_4a_icu_death_prob', 'aids', 'cirrhosis', 'diabetes_mellitus',\n",
       "       'hepatic_failure', 'immunosuppression', 'leukemia', 'lymphoma',\n",
       "       'solid_tumor_with_metastasis', 'apache_3j_bodysystem',\n",
       "       'apache_2_bodysystem', 'Unnamed: 83', 'hospital_death'],\n",
       "      dtype='object')"
      ]
     },
     "execution_count": 3,
     "metadata": {},
     "output_type": "execute_result"
    }
   ],
   "source": [
    "df_patient.columns"
   ]
  },
  {
   "cell_type": "markdown",
   "metadata": {},
   "source": [
    "* Drop columns \n",
    "1. with high correlation and leave the one with lower missing value rate.\n",
    "2. not intuitive to use for training model."
   ]
  },
  {
   "cell_type": "code",
   "execution_count": 4,
   "metadata": {},
   "outputs": [
    {
     "data": {
      "text/plain": [
       "(91713, 67)"
      ]
     },
     "execution_count": 4,
     "metadata": {},
     "output_type": "execute_result"
    }
   ],
   "source": [
    "drop_columns = ['encounter_id', \n",
    "    'patient_id', \n",
    "    'apache_post_operative',\n",
    "    'd1_diasbp_noninvasive_max',\n",
    "    'd1_diasbp_noninvasive_min',\n",
    "    'd1_mbp_noninvasive_max',\n",
    "    'd1_mbp_noninvasive_min',\n",
    "    'd1_sysbp_noninvasive_max',\n",
    "    'd1_sysbp_noninvasive_min',\n",
    "    'h1_diasbp_noninvasive_max',\n",
    "    'h1_diasbp_noninvasive_min',\n",
    "    'h1_mbp_noninvasive_max',\n",
    "    'h1_mbp_noninvasive_min',\n",
    "    'h1_sysbp_noninvasive_max',\n",
    "    'h1_sysbp_noninvasive_min',\n",
    "    'apache_4a_hospital_death_prob',\n",
    "    'apache_3j_bodysystem',\n",
    "    'Unnamed: 83'\n",
    "]\n",
    "df_patient_drop = df_patient.drop(columns=drop_columns)\n",
    "df_patient_drop.shape"
   ]
  },
  {
   "cell_type": "markdown",
   "metadata": {},
   "source": [
    "* Create a sheet with # of missing value, percentage of missing value and type of columns"
   ]
  },
  {
   "cell_type": "code",
   "execution_count": 5,
   "metadata": {},
   "outputs": [],
   "source": [
    "df_patient_naSum = pd.DataFrame(df_patient_drop.isna().sum())\n",
    "df_patient_naSum = df_patient_naSum.set_axis(['missing_number'], axis = 1)\n",
    "df_patient_naSum = df_patient_naSum.rename_axis('column_name')\n",
    "df_patient_naSum['missing_percentage'] = df_patient_naSum['missing_number']/(df_patient_drop.shape[0])\n",
    "df_patient_naSum['type'] = df_patient_drop.dtypes\n"
   ]
  },
  {
   "cell_type": "markdown",
   "metadata": {},
   "source": [
    "* Find columns which need to encode"
   ]
  },
  {
   "cell_type": "code",
   "execution_count": 6,
   "metadata": {},
   "outputs": [
    {
     "name": "stdout",
     "output_type": "stream",
     "text": [
      "['ethnicity', 'gender', 'icu_admit_source', 'icu_stay_type', 'icu_type', 'apache_2_bodysystem']\n"
     ]
    }
   ],
   "source": [
    "df_object_type = pd.DataFrame(df_patient_naSum[df_patient_naSum['type'] == 'object']['type'])\n",
    "encode_columns = df_object_type.index.tolist()\n",
    "print(encode_columns)"
   ]
  },
  {
   "cell_type": "markdown",
   "metadata": {},
   "source": [
    "* As we can see from the dataframe below, we decide to apply label encoding to gender and target encoding to other columns."
   ]
  },
  {
   "cell_type": "code",
   "execution_count": 7,
   "metadata": {},
   "outputs": [
    {
     "data": {
      "text/html": [
       "<div>\n",
       "<style scoped>\n",
       "    .dataframe tbody tr th:only-of-type {\n",
       "        vertical-align: middle;\n",
       "    }\n",
       "\n",
       "    .dataframe tbody tr th {\n",
       "        vertical-align: top;\n",
       "    }\n",
       "\n",
       "    .dataframe thead th {\n",
       "        text-align: right;\n",
       "    }\n",
       "</style>\n",
       "<table border=\"1\" class=\"dataframe\">\n",
       "  <thead>\n",
       "    <tr style=\"text-align: right;\">\n",
       "      <th></th>\n",
       "      <th>type</th>\n",
       "      <th>category_number</th>\n",
       "    </tr>\n",
       "    <tr>\n",
       "      <th>column_name</th>\n",
       "      <th></th>\n",
       "      <th></th>\n",
       "    </tr>\n",
       "  </thead>\n",
       "  <tbody>\n",
       "    <tr>\n",
       "      <th>ethnicity</th>\n",
       "      <td>object</td>\n",
       "      <td>6</td>\n",
       "    </tr>\n",
       "    <tr>\n",
       "      <th>gender</th>\n",
       "      <td>object</td>\n",
       "      <td>2</td>\n",
       "    </tr>\n",
       "    <tr>\n",
       "      <th>icu_admit_source</th>\n",
       "      <td>object</td>\n",
       "      <td>5</td>\n",
       "    </tr>\n",
       "    <tr>\n",
       "      <th>icu_stay_type</th>\n",
       "      <td>object</td>\n",
       "      <td>3</td>\n",
       "    </tr>\n",
       "    <tr>\n",
       "      <th>icu_type</th>\n",
       "      <td>object</td>\n",
       "      <td>8</td>\n",
       "    </tr>\n",
       "    <tr>\n",
       "      <th>apache_2_bodysystem</th>\n",
       "      <td>object</td>\n",
       "      <td>10</td>\n",
       "    </tr>\n",
       "  </tbody>\n",
       "</table>\n",
       "</div>"
      ],
      "text/plain": [
       "                       type  category_number\n",
       "column_name                                 \n",
       "ethnicity            object                6\n",
       "gender               object                2\n",
       "icu_admit_source     object                5\n",
       "icu_stay_type        object                3\n",
       "icu_type             object                8\n",
       "apache_2_bodysystem  object               10"
      ]
     },
     "execution_count": 7,
     "metadata": {},
     "output_type": "execute_result"
    }
   ],
   "source": [
    "category_list = []\n",
    "for column in encode_columns:\n",
    "    category_list.append(df_patient_drop[column].nunique())\n",
    "df_object_type['category_number'] = pd.Series(category_list, index=df_object_type.index)\n",
    "df_object_type\n"
   ]
  },
  {
   "cell_type": "markdown",
   "metadata": {},
   "source": [
    "* Train Test Splitting\n",
    "1. The target feature is highly unbalanced so a stratified train test split should be used."
   ]
  },
  {
   "cell_type": "code",
   "execution_count": 8,
   "metadata": {},
   "outputs": [
    {
     "data": {
      "text/plain": [
       "0    83798\n",
       "1     7915\n",
       "Name: hospital_death, dtype: int64"
      ]
     },
     "execution_count": 8,
     "metadata": {},
     "output_type": "execute_result"
    }
   ],
   "source": [
    "df_patient_drop['hospital_death'].value_counts()"
   ]
  },
  {
   "cell_type": "code",
   "execution_count": 9,
   "metadata": {},
   "outputs": [
    {
     "name": "stdout",
     "output_type": "stream",
     "text": [
      "Shape of developemnt X set: (73370, 66)\n",
      "Shape of test X set: (18343, 66)\n"
     ]
    }
   ],
   "source": [
    "patient_X = df_patient_drop.drop(columns=['hospital_death'])\n",
    "patient_y = pd.DataFrame(df_patient_drop['hospital_death'])\n",
    "patient_X_dev, patient_X_test, patient_y_dev, patient_y_test = train_test_split(patient_X, patient_y, \n",
    "    test_size=0.2, random_state=42, stratify=patient_y)\n",
    "print(\"Shape of developemnt X set: {}\".format(patient_X_dev.shape))\n",
    "print(\"Shape of test X set: {}\".format(patient_X_test.shape))"
   ]
  },
  {
   "cell_type": "markdown",
   "metadata": {},
   "source": [
    "* Encoding\n",
    "1. Label Encoding gender\n",
    "2. Target encoding the rest"
   ]
  },
  {
   "cell_type": "code",
   "execution_count": 10,
   "metadata": {},
   "outputs": [],
   "source": [
    "le = LabelEncoder()\n",
    "patient_X_dev['gender'] = le.fit_transform(patient_X_dev['gender'])\n",
    "patient_X_test['gender'] = le.transform(patient_X_test['gender'])\n",
    "\n",
    "te = TargetEncoder(cols = ['ethnicity', \n",
    "    'icu_admit_source', \n",
    "    'icu_stay_type', \n",
    "    'icu_type', \n",
    "    'apache_2_bodysystem',\n",
    "    'hospital_id'],\n",
    "    min_samples_leaf=20, smoothing=10)\n",
    "patient_X_dev = te.fit_transform(patient_X_dev, patient_y_dev)\n",
    "patient_X_test = te.transform(patient_X_test, patient_y_test)"
   ]
  },
  {
   "cell_type": "markdown",
   "metadata": {},
   "source": [
    "* Apply MICE to impute the missing value"
   ]
  },
  {
   "cell_type": "code",
   "execution_count": 11,
   "metadata": {},
   "outputs": [
    {
     "name": "stderr",
     "output_type": "stream",
     "text": [
      "c:\\Users\\Alex\\AppData\\Local\\Programs\\Python\\Python39\\lib\\site-packages\\sklearn\\impute\\_iterative.py:713: ConvergenceWarning: [IterativeImputer] Early stopping criterion not reached.\n",
      "  warnings.warn(\n"
     ]
    }
   ],
   "source": [
    "imp = IterativeImputer(max_iter=10, random_state=42)\n",
    "patient_X_dev_temp = imp.fit_transform(patient_X_dev)\n",
    "patient_X_dev = pd.DataFrame(patient_X_dev_temp, columns = patient_X_dev.columns)\n",
    "patient_X_test_temp = imp.transform(patient_X_test)\n",
    "patient_X_test = pd.DataFrame(patient_X_test_temp, columns = patient_X_test.columns)"
   ]
  },
  {
   "cell_type": "code",
   "execution_count": 12,
   "metadata": {},
   "outputs": [],
   "source": [
    "for column in patient_X_test.columns:\n",
    "    if patient_X_test[column].isna().sum() != 0:\n",
    "        print(column)"
   ]
  },
  {
   "cell_type": "markdown",
   "metadata": {},
   "source": [
    "* Apply Random oversampling and SMOTE to the development set."
   ]
  },
  {
   "cell_type": "code",
   "execution_count": 14,
   "metadata": {},
   "outputs": [
    {
     "name": "stdout",
     "output_type": "stream",
     "text": [
      "Lables Count after Random Oversampling: \n",
      " hospital_death\n",
      "0                 67038\n",
      "1                 67038\n",
      "dtype: int64\n",
      "Shape of Development Set:  (134076, 66)\n"
     ]
    }
   ],
   "source": [
    "ros = RandomOverSampler(random_state=42)\n",
    "patient_X_dev_os, patient_y_dev_os = ros.fit_resample(patient_X_dev, patient_y_dev)\n",
    "\n",
    "print('Lables Count after Random Oversampling: \\n', patient_y_dev_os.value_counts())\n",
    "print('Shape of Development Set: ', patient_X_dev_os.shape)"
   ]
  },
  {
   "cell_type": "code",
   "execution_count": 15,
   "metadata": {},
   "outputs": [
    {
     "name": "stdout",
     "output_type": "stream",
     "text": [
      "Lables Count after Random Oversampling: \n",
      " hospital_death\n",
      "0                 67038\n",
      "1                 67038\n",
      "dtype: int64\n",
      "Shape of Development Set:  (134076, 66)\n"
     ]
    }
   ],
   "source": [
    "smote = SMOTE(random_state=42)\n",
    "patient_X_dev_smote, patient_y_dev_smote = smote.fit_resample(patient_X_dev, patient_y_dev)\n",
    "\n",
    "print('Lables Count after Random Oversampling: \\n', patient_y_dev_smote.value_counts())\n",
    "print('Shape of Development Set: ', patient_X_dev_smote.shape)"
   ]
  }
 ],
 "metadata": {
  "kernelspec": {
   "display_name": "Python 3.9.10 64-bit",
   "language": "python",
   "name": "python3"
  },
  "language_info": {
   "codemirror_mode": {
    "name": "ipython",
    "version": 3
   },
   "file_extension": ".py",
   "mimetype": "text/x-python",
   "name": "python",
   "nbconvert_exporter": "python",
   "pygments_lexer": "ipython3",
   "version": "3.9.10"
  },
  "orig_nbformat": 4,
  "vscode": {
   "interpreter": {
    "hash": "ba4c651cdc5ec17c511bce19f294202fdc45305f9de1f927c569f32faa173ead"
   }
  }
 },
 "nbformat": 4,
 "nbformat_minor": 2
}
