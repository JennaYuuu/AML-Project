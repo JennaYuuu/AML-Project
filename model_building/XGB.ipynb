{
  "cells": [
    {
      "cell_type": "markdown",
      "id": "268d7c3c",
      "metadata": {
        "id": "268d7c3c"
      },
      "source": [
        "# Imports"
      ]
    },
    {
      "cell_type": "code",
      "execution_count": 1,
      "id": "621acb0a",
      "metadata": {
        "id": "621acb0a"
      },
      "outputs": [],
      "source": [
        "import pandas as pd\n",
        "import numpy as np\n",
        "from sklearn.preprocessing import StandardScaler\n",
        "from sklearn.pipeline import make_pipeline\n",
        "from sklearn.model_selection import GridSearchCV\n",
        "from sklearn.model_selection import RandomizedSearchCV\n",
        "from xgboost import XGBClassifier\n",
        "from xgboost import plot_importance\n",
        "from sklearn.metrics import f1_score\n",
        "from sklearn.metrics import accuracy_score\n",
        "from sklearn.metrics import brier_score_loss\n",
        "from sklearn.metrics import roc_auc_score\n",
        "from sklearn.metrics import average_precision_score"
      ]
    },
    {
      "cell_type": "markdown",
      "id": "916f1966",
      "metadata": {
        "id": "916f1966"
      },
      "source": [
        "# Data"
      ]
    },
    {
      "cell_type": "code",
      "execution_count": 2,
      "id": "e4548893",
      "metadata": {
        "id": "e4548893"
      },
      "outputs": [],
      "source": [
        "dev = pd.read_csv('Data/dev.csv')\n",
        "X_dev = dev.drop(columns=['hospital_death'])\n",
        "y_dev = dev['hospital_death']\n",
        "\n",
        "dev_us = pd.read_csv('Data/dev_us.csv')\n",
        "X_dev_us = dev_us.drop(columns=['hospital_death'])\n",
        "y_dev_us = dev_us['hospital_death']\n",
        "\n",
        "dev_os = pd.read_csv('Data/dev_os.csv')\n",
        "X_dev_os = dev_os.drop(columns=['hospital_death'])\n",
        "y_dev_os = dev_os['hospital_death']\n",
        "\n",
        "dev_smote = pd.read_csv('Data/dev_smote.csv')\n",
        "X_dev_smote = dev_smote.drop(columns=['hospital_death'])\n",
        "y_dev_smote = dev_smote['hospital_death']\n",
        "\n",
        "dev_pca95 = pd.read_pickle('Data/dev_pca95.pkl')\n",
        "X_dev_pca95 = dev_pca95.drop(columns=['hospital_death'])\n",
        "y_dev_pca95 = dev_pca95['hospital_death']\n",
        "\n",
        "dev_us_pca95 = pd.read_pickle('Data/dev_us_pca95.pkl')\n",
        "X_dev_us_pca95 = dev_us_pca95.drop(columns=['hospital_death'])\n",
        "y_dev_us_pca95 = dev_us_pca95['hospital_death']\n",
        "\n",
        "dev_os_pca95 = pd.read_pickle('Data/dev_os_pca95.pkl')\n",
        "X_dev_os_pca95 = dev_os_pca95.drop(columns=['hospital_death'])\n",
        "y_dev_os_pca95 = dev_os_pca95['hospital_death']\n",
        "\n",
        "dev_smote_pca95 = pd.read_pickle('Data/dev_smote_pca95.pkl')\n",
        "X_dev_smote_pca95 = dev_smote_pca95.drop(columns=['hospital_death'])\n",
        "y_dev_smote_pca95 = dev_smote_pca95['hospital_death']\n",
        "\n",
        "test = pd.read_csv(\"Data/test.csv\")\n",
        "X_test = test.drop(columns=['hospital_death'])\n",
        "y_test = test['hospital_death']\n",
        "\n",
        "test_pca95 = pd.read_pickle(\"Data/test_pca95.pkl\")\n",
        "X_test_pca95 = test_pca95.drop(columns=['hospital_death'])\n",
        "y_test_pca95 = test_pca95['hospital_death']\n",
        "\n",
        "test_us_pca95 = pd.read_pickle(\"Data/test_us_pca95.pkl\")\n",
        "X_test_us_pca95 = test_us_pca95.drop(columns=['hospital_death'])\n",
        "y_test_us_pca95 = test_us_pca95['hospital_death']\n",
        "\n",
        "test_os_pca95 = pd.read_pickle(\"Data/test_os_pca95.pkl\")\n",
        "X_test_os_pca95 = test_os_pca95.drop(columns=['hospital_death'])\n",
        "y_test_os_pca95 = test_os_pca95['hospital_death']\n",
        "\n",
        "test_smote_pca95 = pd.read_pickle(\"Data/test_smote_pca95.pkl\")\n",
        "X_test_smote_pca95 = test_smote_pca95.drop(columns=['hospital_death'])\n",
        "y_test_smote_pca95 = test_smote_pca95['hospital_death']\n",
        "\n",
        "data = {\n",
        "    \"original\": (X_dev, y_dev, X_test, y_test),\n",
        "    \"us\": (X_dev_us, y_dev_us, X_test, y_test),\n",
        "    \"os\": (X_dev_os, y_dev_os, X_test, y_test),\n",
        "    \"smote\": (X_dev_smote, y_dev_smote, X_test, y_test)\n",
        "}\n",
        "\n",
        "pca_data = {\n",
        "    \"pca95\": (X_dev_pca95, y_dev_pca95, X_test_pca95, y_test_pca95),\n",
        "    \"us_pca95\": (X_dev_us_pca95, y_dev_us_pca95, X_test_us_pca95, y_test_us_pca95),\n",
        "    \"os_pca95\": (X_dev_os_pca95, y_dev_os_pca95, X_test_os_pca95, y_test_os_pca95),\n",
        "    \"smote_pca95\": (X_dev_smote_pca95, y_dev_smote_pca95, X_test_smote_pca95, y_test_smote_pca95)\n",
        "}\n"
      ]
    },
    {
      "cell_type": "markdown",
      "source": [
        "# XGB"
      ],
      "metadata": {
        "id": "rhStV8IJNpfo"
      },
      "id": "rhStV8IJNpfo"
    },
    {
      "cell_type": "markdown",
      "source": [
        "##Default Settings"
      ],
      "metadata": {
        "id": "lN12m-bdg3en"
      },
      "id": "lN12m-bdg3en"
    },
    {
      "cell_type": "code",
      "source": [
        "xgb_pipe = make_pipeline(StandardScaler(), XGBClassifier())\n",
        "\n",
        "for key in data.keys():\n",
        "    xgb_pipe.fit(data[key][0], data[key][1])\n",
        "    y_pred=xgb_pipe.predict(data[key][2])\n",
        "    print(\"XGB / {} [Accuracy]: {}\".format(key, accuracy_score(data[key][3], y_pred)))\n",
        "    print(\"XGB / {} [Average Precision]: {}\".format(key, average_precision_score(data[key][3], y_pred)))\n",
        "    print(\"XGB / {} [ROC AUC]: {}\".format(key, roc_auc_score(data[key][3], y_pred)))\n",
        "    print(\"XGB / {} [F1]: {}\".format(key, f1_score(data[key][3], y_pred)))"
      ],
      "metadata": {
        "colab": {
          "base_uri": "https://localhost:8080/"
        },
        "id": "j1KTt_6Rg3Ls",
        "outputId": "60ee865a-8342-4c31-9df0-4f9d747c79c0"
      },
      "id": "j1KTt_6Rg3Ls",
      "execution_count": 4,
      "outputs": [
        {
          "output_type": "stream",
          "name": "stdout",
          "text": [
            "XGB / original [Accuracy]: 0.9277653600828654\n",
            "XGB / original [Average Precision]: 0.26314106578370905\n",
            "XGB / original [ROC AUC]: 0.6392674930685068\n",
            "XGB / original [F1]: 0.4097995545657016\n",
            "XGB / us [Accuracy]: 0.8106634683530503\n",
            "XGB / us [Average Precision]: 0.24746886226323092\n",
            "XGB / us [ROC AUC]: 0.8074370511867591\n",
            "XGB / us [F1]: 0.4228020608276549\n",
            "XGB / os [Accuracy]: 0.8140980210434499\n",
            "XGB / os [Average Precision]: 0.25017306240647774\n",
            "XGB / os [ROC AUC]: 0.8084584570247423\n",
            "XGB / os [F1]: 0.42669804976462683\n",
            "XGB / smote [Accuracy]: 0.9161533009867524\n",
            "XGB / smote [Average Precision]: 0.2771021941440256\n",
            "XGB / smote [ROC AUC]: 0.70213065205035\n",
            "XGB / smote [F1]: 0.477226376614548\n"
          ]
        }
      ]
    },
    {
      "cell_type": "markdown",
      "source": [
        "###PCA Dataset"
      ],
      "metadata": {
        "id": "zwyEWSIJgeG-"
      },
      "id": "zwyEWSIJgeG-"
    },
    {
      "cell_type": "code",
      "source": [
        "xgb_pca_pipe = make_pipeline(StandardScaler(), XGBClassifier())\n",
        "\n",
        "for key in pca_data.keys():\n",
        "    xgb_pca_pipe.fit(pca_data[key][0], pca_data[key][1])\n",
        "    y_pred=xgb_pca_pipe.predict(pca_data[key][2])\n",
        "    print(\"Histgradient Boosting with PCA / {} [Accuracy]: {}\".format(key, accuracy_score(pca_data[key][3], y_pred)))\n",
        "    print(\"Histgradient Boosting with PCA / {} [Average Precision]: {}\".format(key, average_precision_score(pca_data[key][3], y_pred)))\n",
        "    print(\"Histgradient Boosting with PCA / {} [ROC AUC]: {}\".format(key, roc_auc_score(pca_data[key][3], y_pred)))\n",
        "    print(\"Histgradient Boosting with PCA / {} [F1]: {}\".format(key, f1_score(pca_data[key][3], y_pred)))"
      ],
      "metadata": {
        "colab": {
          "base_uri": "https://localhost:8080/",
          "height": 565
        },
        "id": "WiwQaBAlg2yV",
        "outputId": "0a0ff1fc-1ce2-4210-b578-ffddb0f143de"
      },
      "id": "WiwQaBAlg2yV",
      "execution_count": 6,
      "outputs": [
        {
          "output_type": "stream",
          "name": "stdout",
          "text": [
            "Histgradient Boosting with PCA / pca95 [Accuracy]: 0.9254211415798942\n",
            "Histgradient Boosting with PCA / pca95 [Average Precision]: 0.23043925615748748\n",
            "Histgradient Boosting with PCA / pca95 [ROC AUC]: 0.611670557700629\n",
            "Histgradient Boosting with PCA / pca95 [F1]: 0.34980988593155893\n",
            "Histgradient Boosting with PCA / us_pca95 [Accuracy]: 0.9137000490650384\n",
            "Histgradient Boosting with PCA / us_pca95 [Average Precision]: 0.08629995093496157\n",
            "Histgradient Boosting with PCA / us_pca95 [ROC AUC]: 0.5\n",
            "Histgradient Boosting with PCA / us_pca95 [F1]: 0.0\n"
          ]
        },
        {
          "output_type": "stream",
          "name": "stderr",
          "text": [
            "/usr/local/lib/python3.8/dist-packages/sklearn/base.py:450: UserWarning: X does not have valid feature names, but StandardScaler was fitted with feature names\n",
            "  warnings.warn(\n"
          ]
        },
        {
          "output_type": "error",
          "ename": "ValueError",
          "evalue": "ignored",
          "traceback": [
            "\u001b[0;31m---------------------------------------------------------------------------\u001b[0m",
            "\u001b[0;31mValueError\u001b[0m                                Traceback (most recent call last)",
            "\u001b[0;32m<ipython-input-6-d1ef4fe344db>\u001b[0m in \u001b[0;36m<module>\u001b[0;34m\u001b[0m\n\u001b[1;32m      3\u001b[0m \u001b[0;32mfor\u001b[0m \u001b[0mkey\u001b[0m \u001b[0;32min\u001b[0m \u001b[0mpca_data\u001b[0m\u001b[0;34m.\u001b[0m\u001b[0mkeys\u001b[0m\u001b[0;34m(\u001b[0m\u001b[0;34m)\u001b[0m\u001b[0;34m:\u001b[0m\u001b[0;34m\u001b[0m\u001b[0;34m\u001b[0m\u001b[0m\n\u001b[1;32m      4\u001b[0m     \u001b[0mxgb_pca_pipe\u001b[0m\u001b[0;34m.\u001b[0m\u001b[0mfit\u001b[0m\u001b[0;34m(\u001b[0m\u001b[0mpca_data\u001b[0m\u001b[0;34m[\u001b[0m\u001b[0mkey\u001b[0m\u001b[0;34m]\u001b[0m\u001b[0;34m[\u001b[0m\u001b[0;36m0\u001b[0m\u001b[0;34m]\u001b[0m\u001b[0;34m,\u001b[0m \u001b[0mpca_data\u001b[0m\u001b[0;34m[\u001b[0m\u001b[0mkey\u001b[0m\u001b[0;34m]\u001b[0m\u001b[0;34m[\u001b[0m\u001b[0;36m1\u001b[0m\u001b[0;34m]\u001b[0m\u001b[0;34m)\u001b[0m\u001b[0;34m\u001b[0m\u001b[0;34m\u001b[0m\u001b[0m\n\u001b[0;32m----> 5\u001b[0;31m     \u001b[0my_pred\u001b[0m\u001b[0;34m=\u001b[0m\u001b[0mxgb_pca_pipe\u001b[0m\u001b[0;34m.\u001b[0m\u001b[0mpredict\u001b[0m\u001b[0;34m(\u001b[0m\u001b[0mpca_data\u001b[0m\u001b[0;34m[\u001b[0m\u001b[0mkey\u001b[0m\u001b[0;34m]\u001b[0m\u001b[0;34m[\u001b[0m\u001b[0;36m2\u001b[0m\u001b[0;34m]\u001b[0m\u001b[0;34m)\u001b[0m\u001b[0;34m\u001b[0m\u001b[0;34m\u001b[0m\u001b[0m\n\u001b[0m\u001b[1;32m      6\u001b[0m     \u001b[0mprint\u001b[0m\u001b[0;34m(\u001b[0m\u001b[0;34m\"Histgradient Boosting with PCA / {} [Accuracy]: {}\"\u001b[0m\u001b[0;34m.\u001b[0m\u001b[0mformat\u001b[0m\u001b[0;34m(\u001b[0m\u001b[0mkey\u001b[0m\u001b[0;34m,\u001b[0m \u001b[0maccuracy_score\u001b[0m\u001b[0;34m(\u001b[0m\u001b[0mpca_data\u001b[0m\u001b[0;34m[\u001b[0m\u001b[0mkey\u001b[0m\u001b[0;34m]\u001b[0m\u001b[0;34m[\u001b[0m\u001b[0;36m3\u001b[0m\u001b[0;34m]\u001b[0m\u001b[0;34m,\u001b[0m \u001b[0my_pred\u001b[0m\u001b[0;34m)\u001b[0m\u001b[0;34m)\u001b[0m\u001b[0;34m)\u001b[0m\u001b[0;34m\u001b[0m\u001b[0;34m\u001b[0m\u001b[0m\n\u001b[1;32m      7\u001b[0m     \u001b[0mprint\u001b[0m\u001b[0;34m(\u001b[0m\u001b[0;34m\"Histgradient Boosting with PCA / {} [Average Precision]: {}\"\u001b[0m\u001b[0;34m.\u001b[0m\u001b[0mformat\u001b[0m\u001b[0;34m(\u001b[0m\u001b[0mkey\u001b[0m\u001b[0;34m,\u001b[0m \u001b[0maverage_precision_score\u001b[0m\u001b[0;34m(\u001b[0m\u001b[0mpca_data\u001b[0m\u001b[0;34m[\u001b[0m\u001b[0mkey\u001b[0m\u001b[0;34m]\u001b[0m\u001b[0;34m[\u001b[0m\u001b[0;36m3\u001b[0m\u001b[0;34m]\u001b[0m\u001b[0;34m,\u001b[0m \u001b[0my_pred\u001b[0m\u001b[0;34m)\u001b[0m\u001b[0;34m)\u001b[0m\u001b[0;34m)\u001b[0m\u001b[0;34m\u001b[0m\u001b[0;34m\u001b[0m\u001b[0m\n",
            "\u001b[0;32m/usr/local/lib/python3.8/dist-packages/sklearn/utils/metaestimators.py\u001b[0m in \u001b[0;36m<lambda>\u001b[0;34m(*args, **kwargs)\u001b[0m\n\u001b[1;32m    111\u001b[0m \u001b[0;34m\u001b[0m\u001b[0m\n\u001b[1;32m    112\u001b[0m             \u001b[0;31m# lambda, but not partial, allows help() to work with update_wrapper\u001b[0m\u001b[0;34m\u001b[0m\u001b[0;34m\u001b[0m\u001b[0;34m\u001b[0m\u001b[0m\n\u001b[0;32m--> 113\u001b[0;31m             \u001b[0mout\u001b[0m \u001b[0;34m=\u001b[0m \u001b[0;32mlambda\u001b[0m \u001b[0;34m*\u001b[0m\u001b[0margs\u001b[0m\u001b[0;34m,\u001b[0m \u001b[0;34m**\u001b[0m\u001b[0mkwargs\u001b[0m\u001b[0;34m:\u001b[0m \u001b[0mself\u001b[0m\u001b[0;34m.\u001b[0m\u001b[0mfn\u001b[0m\u001b[0;34m(\u001b[0m\u001b[0mobj\u001b[0m\u001b[0;34m,\u001b[0m \u001b[0;34m*\u001b[0m\u001b[0margs\u001b[0m\u001b[0;34m,\u001b[0m \u001b[0;34m**\u001b[0m\u001b[0mkwargs\u001b[0m\u001b[0;34m)\u001b[0m  \u001b[0;31m# noqa\u001b[0m\u001b[0;34m\u001b[0m\u001b[0;34m\u001b[0m\u001b[0m\n\u001b[0m\u001b[1;32m    114\u001b[0m         \u001b[0;32melse\u001b[0m\u001b[0;34m:\u001b[0m\u001b[0;34m\u001b[0m\u001b[0;34m\u001b[0m\u001b[0m\n\u001b[1;32m    115\u001b[0m \u001b[0;34m\u001b[0m\u001b[0m\n",
            "\u001b[0;32m/usr/local/lib/python3.8/dist-packages/sklearn/pipeline.py\u001b[0m in \u001b[0;36mpredict\u001b[0;34m(self, X, **predict_params)\u001b[0m\n\u001b[1;32m    467\u001b[0m         \u001b[0mXt\u001b[0m \u001b[0;34m=\u001b[0m \u001b[0mX\u001b[0m\u001b[0;34m\u001b[0m\u001b[0;34m\u001b[0m\u001b[0m\n\u001b[1;32m    468\u001b[0m         \u001b[0;32mfor\u001b[0m \u001b[0m_\u001b[0m\u001b[0;34m,\u001b[0m \u001b[0mname\u001b[0m\u001b[0;34m,\u001b[0m \u001b[0mtransform\u001b[0m \u001b[0;32min\u001b[0m \u001b[0mself\u001b[0m\u001b[0;34m.\u001b[0m\u001b[0m_iter\u001b[0m\u001b[0;34m(\u001b[0m\u001b[0mwith_final\u001b[0m\u001b[0;34m=\u001b[0m\u001b[0;32mFalse\u001b[0m\u001b[0;34m)\u001b[0m\u001b[0;34m:\u001b[0m\u001b[0;34m\u001b[0m\u001b[0;34m\u001b[0m\u001b[0m\n\u001b[0;32m--> 469\u001b[0;31m             \u001b[0mXt\u001b[0m \u001b[0;34m=\u001b[0m \u001b[0mtransform\u001b[0m\u001b[0;34m.\u001b[0m\u001b[0mtransform\u001b[0m\u001b[0;34m(\u001b[0m\u001b[0mXt\u001b[0m\u001b[0;34m)\u001b[0m\u001b[0;34m\u001b[0m\u001b[0;34m\u001b[0m\u001b[0m\n\u001b[0m\u001b[1;32m    470\u001b[0m         \u001b[0;32mreturn\u001b[0m \u001b[0mself\u001b[0m\u001b[0;34m.\u001b[0m\u001b[0msteps\u001b[0m\u001b[0;34m[\u001b[0m\u001b[0;34m-\u001b[0m\u001b[0;36m1\u001b[0m\u001b[0;34m]\u001b[0m\u001b[0;34m[\u001b[0m\u001b[0;36m1\u001b[0m\u001b[0;34m]\u001b[0m\u001b[0;34m.\u001b[0m\u001b[0mpredict\u001b[0m\u001b[0;34m(\u001b[0m\u001b[0mXt\u001b[0m\u001b[0;34m,\u001b[0m \u001b[0;34m**\u001b[0m\u001b[0mpredict_params\u001b[0m\u001b[0;34m)\u001b[0m\u001b[0;34m\u001b[0m\u001b[0;34m\u001b[0m\u001b[0m\n\u001b[1;32m    471\u001b[0m \u001b[0;34m\u001b[0m\u001b[0m\n",
            "\u001b[0;32m/usr/local/lib/python3.8/dist-packages/sklearn/preprocessing/_data.py\u001b[0m in \u001b[0;36mtransform\u001b[0;34m(self, X, copy)\u001b[0m\n\u001b[1;32m    971\u001b[0m \u001b[0;34m\u001b[0m\u001b[0m\n\u001b[1;32m    972\u001b[0m         \u001b[0mcopy\u001b[0m \u001b[0;34m=\u001b[0m \u001b[0mcopy\u001b[0m \u001b[0;32mif\u001b[0m \u001b[0mcopy\u001b[0m \u001b[0;32mis\u001b[0m \u001b[0;32mnot\u001b[0m \u001b[0;32mNone\u001b[0m \u001b[0;32melse\u001b[0m \u001b[0mself\u001b[0m\u001b[0;34m.\u001b[0m\u001b[0mcopy\u001b[0m\u001b[0;34m\u001b[0m\u001b[0;34m\u001b[0m\u001b[0m\n\u001b[0;32m--> 973\u001b[0;31m         X = self._validate_data(\n\u001b[0m\u001b[1;32m    974\u001b[0m             \u001b[0mX\u001b[0m\u001b[0;34m,\u001b[0m\u001b[0;34m\u001b[0m\u001b[0;34m\u001b[0m\u001b[0m\n\u001b[1;32m    975\u001b[0m             \u001b[0mreset\u001b[0m\u001b[0;34m=\u001b[0m\u001b[0;32mFalse\u001b[0m\u001b[0;34m,\u001b[0m\u001b[0;34m\u001b[0m\u001b[0;34m\u001b[0m\u001b[0m\n",
            "\u001b[0;32m/usr/local/lib/python3.8/dist-packages/sklearn/base.py\u001b[0m in \u001b[0;36m_validate_data\u001b[0;34m(self, X, y, reset, validate_separately, **check_params)\u001b[0m\n\u001b[1;32m    583\u001b[0m \u001b[0;34m\u001b[0m\u001b[0m\n\u001b[1;32m    584\u001b[0m         \u001b[0;32mif\u001b[0m \u001b[0;32mnot\u001b[0m \u001b[0mno_val_X\u001b[0m \u001b[0;32mand\u001b[0m \u001b[0mcheck_params\u001b[0m\u001b[0;34m.\u001b[0m\u001b[0mget\u001b[0m\u001b[0;34m(\u001b[0m\u001b[0;34m\"ensure_2d\"\u001b[0m\u001b[0;34m,\u001b[0m \u001b[0;32mTrue\u001b[0m\u001b[0;34m)\u001b[0m\u001b[0;34m:\u001b[0m\u001b[0;34m\u001b[0m\u001b[0;34m\u001b[0m\u001b[0m\n\u001b[0;32m--> 585\u001b[0;31m             \u001b[0mself\u001b[0m\u001b[0;34m.\u001b[0m\u001b[0m_check_n_features\u001b[0m\u001b[0;34m(\u001b[0m\u001b[0mX\u001b[0m\u001b[0;34m,\u001b[0m \u001b[0mreset\u001b[0m\u001b[0;34m=\u001b[0m\u001b[0mreset\u001b[0m\u001b[0;34m)\u001b[0m\u001b[0;34m\u001b[0m\u001b[0;34m\u001b[0m\u001b[0m\n\u001b[0m\u001b[1;32m    586\u001b[0m \u001b[0;34m\u001b[0m\u001b[0m\n\u001b[1;32m    587\u001b[0m         \u001b[0;32mreturn\u001b[0m \u001b[0mout\u001b[0m\u001b[0;34m\u001b[0m\u001b[0;34m\u001b[0m\u001b[0m\n",
            "\u001b[0;32m/usr/local/lib/python3.8/dist-packages/sklearn/base.py\u001b[0m in \u001b[0;36m_check_n_features\u001b[0;34m(self, X, reset)\u001b[0m\n\u001b[1;32m    398\u001b[0m \u001b[0;34m\u001b[0m\u001b[0m\n\u001b[1;32m    399\u001b[0m         \u001b[0;32mif\u001b[0m \u001b[0mn_features\u001b[0m \u001b[0;34m!=\u001b[0m \u001b[0mself\u001b[0m\u001b[0;34m.\u001b[0m\u001b[0mn_features_in_\u001b[0m\u001b[0;34m:\u001b[0m\u001b[0;34m\u001b[0m\u001b[0;34m\u001b[0m\u001b[0m\n\u001b[0;32m--> 400\u001b[0;31m             raise ValueError(\n\u001b[0m\u001b[1;32m    401\u001b[0m                 \u001b[0;34mf\"X has {n_features} features, but {self.__class__.__name__} \"\u001b[0m\u001b[0;34m\u001b[0m\u001b[0;34m\u001b[0m\u001b[0m\n\u001b[1;32m    402\u001b[0m                 \u001b[0;34mf\"is expecting {self.n_features_in_} features as input.\"\u001b[0m\u001b[0;34m\u001b[0m\u001b[0;34m\u001b[0m\u001b[0m\n",
            "\u001b[0;31mValueError\u001b[0m: X has 47 features, but StandardScaler is expecting 66 features as input."
          ]
        }
      ]
    },
    {
      "cell_type": "markdown",
      "source": [
        "##Hyperparmeter Tuning"
      ],
      "metadata": {
        "id": "ks4UhhIggz18"
      },
      "id": "ks4UhhIggz18"
    },
    {
      "cell_type": "markdown",
      "source": [
        "###Tuning Original"
      ],
      "metadata": {
        "id": "EXFN5H49gmzy"
      },
      "id": "EXFN5H49gmzy"
    },
    {
      "cell_type": "code",
      "source": [
        "xgb_params = {\n",
        "    'xgbclassifier__max_depth': [10, 50, 100],\n",
        "    'xgbclassifier__min_samples_leaf': [1, 2, 4],\n",
        "    'xgbclassifier__n_estimators': [50, 100, 500],\n",
        "    'xgbclassifier__learning_rate': [0.01,0.1,1,10]\n",
        "}\n",
        "\n",
        "xgb_pipe = make_pipeline(StandardScaler(), XGBClassifier())\n",
        "xgb_grid = RandomizedSearchCV(xgb_pipe, xgb_params, n_iter=5 ,cv = None, scoring='accuracy', refit=True, n_jobs = -1)\n",
        "\n",
        "for key in data.keys():\n",
        "    if key=='original':\n",
        "      xgb_grid.fit(data[key][0], data[key][1])\n",
        "      y_pred=xgb_grid.predict(data[key][2])\n",
        "      print(\"XGB / {} [Accuracy]: {}\".format(key, accuracy_score(data[key][3], y_pred)))\n",
        "      print(\"XGB / {} [Average Precision]: {}\".format(key, average_precision_score(data[key][3], y_pred)))\n",
        "      print(\"XGB / {} [ROC AUC]: {}\".format(key, roc_auc_score(data[key][3], y_pred)))\n",
        "      print(\"XGB / {} [F1]: {}\".format(key, f1_score(data[key][3], y_pred)))\n"
      ],
      "metadata": {
        "id": "mzsc_RAaNtQL",
        "colab": {
          "base_uri": "https://localhost:8080/"
        },
        "outputId": "d6006bb0-2138-41dc-c6e9-95b6fafc5afb"
      },
      "id": "mzsc_RAaNtQL",
      "execution_count": 7,
      "outputs": [
        {
          "output_type": "stream",
          "name": "stdout",
          "text": [
            "XGB / original [Accuracy]: 0.9300005451670937\n",
            "XGB / original [Average Precision]: 0.2803232024904499\n",
            "XGB / original [ROC AUC]: 0.6462111041088413\n",
            "XGB / original [F1]: 0.42780748663101603\n"
          ]
        }
      ]
    },
    {
      "cell_type": "code",
      "source": [
        "for key in data.keys():\n",
        "  if key=='original':\n",
        "    print(\"XGB / {} : {}\".format(key, xgb_grid.best_params_))"
      ],
      "metadata": {
        "colab": {
          "base_uri": "https://localhost:8080/"
        },
        "id": "EIgvwiyF52KW",
        "outputId": "9752664f-4f70-4857-ae44-57c801c97b0c"
      },
      "id": "EIgvwiyF52KW",
      "execution_count": 8,
      "outputs": [
        {
          "output_type": "stream",
          "name": "stdout",
          "text": [
            "XGB / original : {'xgbclassifier__n_estimators': 500, 'xgbclassifier__min_samples_leaf': 2, 'xgbclassifier__max_depth': 50, 'xgbclassifier__learning_rate': 0.01}\n"
          ]
        }
      ]
    },
    {
      "cell_type": "markdown",
      "source": [
        "###Tuning Smote"
      ],
      "metadata": {
        "id": "6FlXYON2gq5g"
      },
      "id": "6FlXYON2gq5g"
    },
    {
      "cell_type": "code",
      "source": [
        "xgb_params = {\n",
        "    'xgbclassifier__max_depth': [10, 50, 100],\n",
        "    'xgbclassifier__min_samples_leaf': [1, 2, 4],\n",
        "    'xgbclassifier__n_estimators': [50, 100, 500],\n",
        "    'xgbclassifier__learning_rate': [0.01,0.1,1,10]\n",
        "}\n",
        "smote_xgb_pipe = make_pipeline(StandardScaler(), XGBClassifier())\n",
        "smote_xgb_grid = RandomizedSearchCV(smote_xgb_pipe, xgb_params, n_iter=5 ,cv = None, scoring='accuracy', refit=True, n_jobs = -1)\n",
        "\n",
        "xgb_params = {\n",
        "    'xgbclassifier__max_depth': [10, 50, 70],\n",
        "    'xgbclassifier__min_samples_leaf': [1, 2, 4],\n",
        "    'xgbclassifier__n_estimators': [50, 100, 500, 700],\n",
        "    'xgbclassifier__learning_rate': [0.01,0.1,1,10]\n",
        "}\n",
        "\n",
        "for key in data.keys():\n",
        "    if key== ('smote'):\n",
        "      smote_xgb_grid.fit(data[key][0], data[key][1])\n",
        "      smote_y_pred=smote_xgb_grid.predict(data[key][2])\n",
        "      print(\"XGB / {} [Accuracy]: {}\".format(key, accuracy_score(data[key][3], smote_y_pred)))\n",
        "      print(\"XGB / {} [Average Precision]: {}\".format(key, average_precision_score(data[key][3], smote_y_pred)))\n",
        "      print(\"XGB / {} [ROC AUC]: {}\".format(key, roc_auc_score(data[key][3], smote_y_pred)))\n",
        "      print(\"XGB / {} [F1]: {}\".format(key, f1_score(data[key][3], smote_y_pred)))"
      ],
      "metadata": {
        "colab": {
          "base_uri": "https://localhost:8080/"
        },
        "id": "-Tk_DoVD6BBe",
        "outputId": "3c56ba87-9578-49eb-ecd3-4a1adb4ae220"
      },
      "id": "-Tk_DoVD6BBe",
      "execution_count": 4,
      "outputs": [
        {
          "output_type": "stream",
          "name": "stdout",
          "text": [
            "XGB / smote [Accuracy]: 0.9247124243580658\n",
            "XGB / smote [Average Precision]: 0.2703417126082993\n",
            "XGB / smote [ROC AUC]: 0.6647690369182107\n",
            "XGB / smote [F1]: 0.4456041750301084\n"
          ]
        }
      ]
    }
  ],
  "metadata": {
    "kernelspec": {
      "display_name": "Python 3 (ipykernel)",
      "language": "python",
      "name": "python3"
    },
    "language_info": {
      "codemirror_mode": {
        "name": "ipython",
        "version": 3
      },
      "file_extension": ".py",
      "mimetype": "text/x-python",
      "name": "python",
      "nbconvert_exporter": "python",
      "pygments_lexer": "ipython3",
      "version": "3.9.12"
    },
    "colab": {
      "provenance": []
    }
  },
  "nbformat": 4,
  "nbformat_minor": 5
}