{
  "nbformat": 4,
  "nbformat_minor": 0,
  "metadata": {
    "colab": {
      "provenance": []
    },
    "kernelspec": {
      "name": "python3",
      "display_name": "Python 3"
    },
    "language_info": {
      "name": "python"
    },
    "accelerator": "GPU",
    "gpuClass": "standard"
  },
  "cells": [
    {
      "cell_type": "markdown",
      "source": [
        "AML Project (Survival Prediction) Neural Network Model"
      ],
      "metadata": {
        "id": "6AvHbnZ71y74"
      }
    },
    {
      "cell_type": "markdown",
      "source": [
        "We will use the first block of code to import all the required libraries"
      ],
      "metadata": {
        "id": "UuWPm8zlL9JS"
      }
    },
    {
      "cell_type": "code",
      "source": [
        "import numpy as np\n",
        "import pandas as pd\n",
        "import matplotlib.pyplot as plt\n",
        "import seaborn as sns\n",
        "from sklearn.model_selection import train_test_split, GridSearchCV\n",
        "import keras\n",
        "from keras.models import Sequential\n",
        "from keras.layers import Dense\n",
        "from sklearn.metrics import (accuracy_score, \n",
        "                            roc_auc_score, roc_curve, auc)\n",
        "from sklearn.metrics import recall_score\n",
        "from sklearn.metrics import average_precision_score\n",
        "from sklearn.metrics import f1_score\n",
        "from tqdm import tqdm\n",
        "import warnings\n",
        "warnings.filterwarnings('ignore')\n",
        "# import shap\n",
        "pd.set_option('display.max_rows', 250)"
      ],
      "metadata": {
        "id": "DQBit_u-RHUm"
      },
      "execution_count": 1,
      "outputs": []
    },
    {
      "cell_type": "markdown",
      "source": [
        "We will then load the hospital patient survival dataset into our notebook."
      ],
      "metadata": {
        "id": "TgE_70CAL-ll"
      }
    },
    {
      "cell_type": "code",
      "source": [
        "from google.colab import files \n",
        "uploadfile = files.upload()"
      ],
      "metadata": {
        "colab": {
          "base_uri": "https://localhost:8080/",
          "height": 74
        },
        "id": "iYe2--wF2A6B",
        "outputId": "393a1422-506c-4abe-d91d-9fc7d9238c32"
      },
      "execution_count": 2,
      "outputs": [
        {
          "output_type": "display_data",
          "data": {
            "text/plain": [
              "<IPython.core.display.HTML object>"
            ],
            "text/html": [
              "\n",
              "     <input type=\"file\" id=\"files-9b5ef57d-03aa-4223-bec0-9fcb03f73db0\" name=\"files[]\" multiple disabled\n",
              "        style=\"border:none\" />\n",
              "     <output id=\"result-9b5ef57d-03aa-4223-bec0-9fcb03f73db0\">\n",
              "      Upload widget is only available when the cell has been executed in the\n",
              "      current browser session. Please rerun this cell to enable.\n",
              "      </output>\n",
              "      <script>// Copyright 2017 Google LLC\n",
              "//\n",
              "// Licensed under the Apache License, Version 2.0 (the \"License\");\n",
              "// you may not use this file except in compliance with the License.\n",
              "// You may obtain a copy of the License at\n",
              "//\n",
              "//      http://www.apache.org/licenses/LICENSE-2.0\n",
              "//\n",
              "// Unless required by applicable law or agreed to in writing, software\n",
              "// distributed under the License is distributed on an \"AS IS\" BASIS,\n",
              "// WITHOUT WARRANTIES OR CONDITIONS OF ANY KIND, either express or implied.\n",
              "// See the License for the specific language governing permissions and\n",
              "// limitations under the License.\n",
              "\n",
              "/**\n",
              " * @fileoverview Helpers for google.colab Python module.\n",
              " */\n",
              "(function(scope) {\n",
              "function span(text, styleAttributes = {}) {\n",
              "  const element = document.createElement('span');\n",
              "  element.textContent = text;\n",
              "  for (const key of Object.keys(styleAttributes)) {\n",
              "    element.style[key] = styleAttributes[key];\n",
              "  }\n",
              "  return element;\n",
              "}\n",
              "\n",
              "// Max number of bytes which will be uploaded at a time.\n",
              "const MAX_PAYLOAD_SIZE = 100 * 1024;\n",
              "\n",
              "function _uploadFiles(inputId, outputId) {\n",
              "  const steps = uploadFilesStep(inputId, outputId);\n",
              "  const outputElement = document.getElementById(outputId);\n",
              "  // Cache steps on the outputElement to make it available for the next call\n",
              "  // to uploadFilesContinue from Python.\n",
              "  outputElement.steps = steps;\n",
              "\n",
              "  return _uploadFilesContinue(outputId);\n",
              "}\n",
              "\n",
              "// This is roughly an async generator (not supported in the browser yet),\n",
              "// where there are multiple asynchronous steps and the Python side is going\n",
              "// to poll for completion of each step.\n",
              "// This uses a Promise to block the python side on completion of each step,\n",
              "// then passes the result of the previous step as the input to the next step.\n",
              "function _uploadFilesContinue(outputId) {\n",
              "  const outputElement = document.getElementById(outputId);\n",
              "  const steps = outputElement.steps;\n",
              "\n",
              "  const next = steps.next(outputElement.lastPromiseValue);\n",
              "  return Promise.resolve(next.value.promise).then((value) => {\n",
              "    // Cache the last promise value to make it available to the next\n",
              "    // step of the generator.\n",
              "    outputElement.lastPromiseValue = value;\n",
              "    return next.value.response;\n",
              "  });\n",
              "}\n",
              "\n",
              "/**\n",
              " * Generator function which is called between each async step of the upload\n",
              " * process.\n",
              " * @param {string} inputId Element ID of the input file picker element.\n",
              " * @param {string} outputId Element ID of the output display.\n",
              " * @return {!Iterable<!Object>} Iterable of next steps.\n",
              " */\n",
              "function* uploadFilesStep(inputId, outputId) {\n",
              "  const inputElement = document.getElementById(inputId);\n",
              "  inputElement.disabled = false;\n",
              "\n",
              "  const outputElement = document.getElementById(outputId);\n",
              "  outputElement.innerHTML = '';\n",
              "\n",
              "  const pickedPromise = new Promise((resolve) => {\n",
              "    inputElement.addEventListener('change', (e) => {\n",
              "      resolve(e.target.files);\n",
              "    });\n",
              "  });\n",
              "\n",
              "  const cancel = document.createElement('button');\n",
              "  inputElement.parentElement.appendChild(cancel);\n",
              "  cancel.textContent = 'Cancel upload';\n",
              "  const cancelPromise = new Promise((resolve) => {\n",
              "    cancel.onclick = () => {\n",
              "      resolve(null);\n",
              "    };\n",
              "  });\n",
              "\n",
              "  // Wait for the user to pick the files.\n",
              "  const files = yield {\n",
              "    promise: Promise.race([pickedPromise, cancelPromise]),\n",
              "    response: {\n",
              "      action: 'starting',\n",
              "    }\n",
              "  };\n",
              "\n",
              "  cancel.remove();\n",
              "\n",
              "  // Disable the input element since further picks are not allowed.\n",
              "  inputElement.disabled = true;\n",
              "\n",
              "  if (!files) {\n",
              "    return {\n",
              "      response: {\n",
              "        action: 'complete',\n",
              "      }\n",
              "    };\n",
              "  }\n",
              "\n",
              "  for (const file of files) {\n",
              "    const li = document.createElement('li');\n",
              "    li.append(span(file.name, {fontWeight: 'bold'}));\n",
              "    li.append(span(\n",
              "        `(${file.type || 'n/a'}) - ${file.size} bytes, ` +\n",
              "        `last modified: ${\n",
              "            file.lastModifiedDate ? file.lastModifiedDate.toLocaleDateString() :\n",
              "                                    'n/a'} - `));\n",
              "    const percent = span('0% done');\n",
              "    li.appendChild(percent);\n",
              "\n",
              "    outputElement.appendChild(li);\n",
              "\n",
              "    const fileDataPromise = new Promise((resolve) => {\n",
              "      const reader = new FileReader();\n",
              "      reader.onload = (e) => {\n",
              "        resolve(e.target.result);\n",
              "      };\n",
              "      reader.readAsArrayBuffer(file);\n",
              "    });\n",
              "    // Wait for the data to be ready.\n",
              "    let fileData = yield {\n",
              "      promise: fileDataPromise,\n",
              "      response: {\n",
              "        action: 'continue',\n",
              "      }\n",
              "    };\n",
              "\n",
              "    // Use a chunked sending to avoid message size limits. See b/62115660.\n",
              "    let position = 0;\n",
              "    do {\n",
              "      const length = Math.min(fileData.byteLength - position, MAX_PAYLOAD_SIZE);\n",
              "      const chunk = new Uint8Array(fileData, position, length);\n",
              "      position += length;\n",
              "\n",
              "      const base64 = btoa(String.fromCharCode.apply(null, chunk));\n",
              "      yield {\n",
              "        response: {\n",
              "          action: 'append',\n",
              "          file: file.name,\n",
              "          data: base64,\n",
              "        },\n",
              "      };\n",
              "\n",
              "      let percentDone = fileData.byteLength === 0 ?\n",
              "          100 :\n",
              "          Math.round((position / fileData.byteLength) * 100);\n",
              "      percent.textContent = `${percentDone}% done`;\n",
              "\n",
              "    } while (position < fileData.byteLength);\n",
              "  }\n",
              "\n",
              "  // All done.\n",
              "  yield {\n",
              "    response: {\n",
              "      action: 'complete',\n",
              "    }\n",
              "  };\n",
              "}\n",
              "\n",
              "scope.google = scope.google || {};\n",
              "scope.google.colab = scope.google.colab || {};\n",
              "scope.google.colab._files = {\n",
              "  _uploadFiles,\n",
              "  _uploadFilesContinue,\n",
              "};\n",
              "})(self);\n",
              "</script> "
            ]
          },
          "metadata": {}
        },
        {
          "output_type": "stream",
          "name": "stdout",
          "text": [
            "Saving dataset.csv to dataset.csv\n"
          ]
        }
      ]
    },
    {
      "cell_type": "markdown",
      "source": [
        "We will then read that file"
      ],
      "metadata": {
        "id": "DXMvMGw8MI4Y"
      }
    },
    {
      "cell_type": "code",
      "source": [
        "import io\n",
        "hospital_ds = pd.read_csv(io.BytesIO(uploadfile['dataset.csv']))"
      ],
      "metadata": {
        "id": "hTDD1U0G35sj"
      },
      "execution_count": 3,
      "outputs": []
    },
    {
      "cell_type": "markdown",
      "source": [
        "We will check the dimensions of the dataset"
      ],
      "metadata": {
        "id": "rmBgEnUZMLF7"
      }
    },
    {
      "cell_type": "code",
      "source": [
        "hospital_ds.shape"
      ],
      "metadata": {
        "colab": {
          "base_uri": "https://localhost:8080/"
        },
        "id": "Z84NCHGM38z3",
        "outputId": "79937221-872a-4b82-c7ae-c3aaaa4e714c"
      },
      "execution_count": 4,
      "outputs": [
        {
          "output_type": "execute_result",
          "data": {
            "text/plain": [
              "(91713, 85)"
            ]
          },
          "metadata": {},
          "execution_count": 4
        }
      ]
    },
    {
      "cell_type": "markdown",
      "source": [
        "We will then check the columns that have a lot of missing values. Here we will be using a threshold of 25000 missing values"
      ],
      "metadata": {
        "id": "bPfVVr7aMRGW"
      }
    },
    {
      "cell_type": "code",
      "source": [
        "high_missing= hospital_ds.isnull().sum(axis=0)[hospital_ds.isnull().sum(axis=0) > 25000]\n",
        "len(high_missing)"
      ],
      "metadata": {
        "colab": {
          "base_uri": "https://localhost:8080/"
        },
        "id": "buRzCcCi47BY",
        "outputId": "0f8f0390-7685-488e-c30a-05d60448bfdc"
      },
      "execution_count": 5,
      "outputs": [
        {
          "output_type": "execute_result",
          "data": {
            "text/plain": [
              "1"
            ]
          },
          "metadata": {},
          "execution_count": 5
        }
      ]
    },
    {
      "cell_type": "markdown",
      "source": [
        "Since this column has a very ;arge proportion of missing values, we can drop this column with such a large number of missing values"
      ],
      "metadata": {
        "id": "9zSdM7rY67Fm"
      }
    },
    {
      "cell_type": "code",
      "source": [
        "hospital_ds.drop(high_missing.index.tolist(), axis=1,inplace = True)\n",
        "             "
      ],
      "metadata": {
        "id": "GjoImKqG59oB"
      },
      "execution_count": 6,
      "outputs": []
    },
    {
      "cell_type": "markdown",
      "source": [
        "In addition , there are some columns which do not serve as any sort of predictors , so we will drop them too."
      ],
      "metadata": {
        "id": "t_R_LP0d6s3u"
      }
    },
    {
      "cell_type": "code",
      "source": [
        "hospital_ds.drop(['encounter_id', 'icu_admit_source', 'icu_id', 'icu_stay_type', 'patient_id', 'hospital_id'],axis=1,inplace = True)"
      ],
      "metadata": {
        "id": "rDZbmGBL5u8a"
      },
      "execution_count": 7,
      "outputs": []
    },
    {
      "cell_type": "markdown",
      "source": [
        "We will now make a list of columns with numerical data."
      ],
      "metadata": {
        "id": "WIaF_q8iMqUV"
      }
    },
    {
      "cell_type": "code",
      "source": [
        "numerical_features=[]\n",
        "for col in hospital_ds.columns:\n",
        "    if (hospital_ds[col].dtype==int)or (hospital_ds[col].dtype==float):\n",
        "        numerical_features.append(col)"
      ],
      "metadata": {
        "id": "TQhTv5VP6mvl"
      },
      "execution_count": 8,
      "outputs": []
    },
    {
      "cell_type": "markdown",
      "source": [
        "We will now replace the missing values in these columns by using the median. (The analysis has been done in the EDA notebook)"
      ],
      "metadata": {
        "id": "NxyQN7JnM4q2"
      }
    },
    {
      "cell_type": "code",
      "source": [
        "for col in hospital_ds.columns:\n",
        "    if col in numerical_features :\n",
        "        hospital_ds[col].fillna(hospital_ds[col].median(), inplace=True)"
      ],
      "metadata": {
        "id": "ICFRoPmd7MTo"
      },
      "execution_count": 9,
      "outputs": []
    },
    {
      "cell_type": "markdown",
      "source": [
        "We will now handle the categorical data. The first step being we will sepearate out the columns that have numerical categorical data and the ones that have string categorical data."
      ],
      "metadata": {
        "id": "G6JpCCL6BHJ1"
      }
    },
    {
      "cell_type": "code",
      "source": [
        "numcategory = [\n",
        " 'elective_surgery',\n",
        " 'apache_post_operative',\n",
        " 'arf_apache',\n",
        " 'gcs_unable_apache',\n",
        " 'intubated_apache',\n",
        " 'ventilated_apache',\n",
        " 'aids',\n",
        " 'cirrhosis',\n",
        " 'diabetes_mellitus',\n",
        " 'hepatic_failure',\n",
        " 'immunosuppression',\n",
        " 'leukemia',\n",
        " 'lymphoma',\n",
        " 'solid_tumor_with_metastasis']\n",
        "\n",
        "categorical = ['ethnicity',\n",
        " 'gender',\n",
        " 'icu_type',\n",
        " 'apache_3j_bodysystem',\n",
        " 'apache_2_bodysystem']"
      ],
      "metadata": {
        "id": "fvoAKrCVA5bw"
      },
      "execution_count": 10,
      "outputs": []
    },
    {
      "cell_type": "markdown",
      "source": [
        "We will create lists of columns with and without the categorical data\n"
      ],
      "metadata": {
        "id": "IYQ8GgxlOCxg"
      }
    },
    {
      "cell_type": "code",
      "source": [
        "nnvar = hospital_ds[numcategory + categorical + ['hospital_death']].columns.tolist()\n",
        "numericvar = hospital_ds.drop(nnvar,axis=1).columns.tolist()"
      ],
      "metadata": {
        "id": "mCfOTuXKA_Y7"
      },
      "execution_count": 11,
      "outputs": []
    },
    {
      "cell_type": "markdown",
      "source": [
        "  We will replace the missing values in the categorical column using the mode."
      ],
      "metadata": {
        "id": "QlY3nXAAOJ0B"
      }
    },
    {
      "cell_type": "code",
      "source": [
        "for column in numcategory:\n",
        "    hospital_ds[column] = hospital_ds[column].astype('Int64')\n",
        "for column in numcategory:\n",
        "    hospital_ds[column] = hospital_ds[column].fillna(hospital_ds[column].mode()[0])"
      ],
      "metadata": {
        "id": "bYzTLsmGBviz"
      },
      "execution_count": 12,
      "outputs": []
    },
    {
      "cell_type": "markdown",
      "source": [
        "In case, there are any missing values in the dataset after filling in the columns with median/mode , we will drop those rows"
      ],
      "metadata": {
        "id": "QMiDVn5EOV0l"
      }
    },
    {
      "cell_type": "code",
      "source": [
        "finalds = hospital_ds.dropna(axis=0)"
      ],
      "metadata": {
        "id": "5eMIXXSUE3PX"
      },
      "execution_count": 13,
      "outputs": []
    },
    {
      "cell_type": "markdown",
      "source": [
        "We will now handle the categorical variables by performing one-hot encoding"
      ],
      "metadata": {
        "id": "R7WQHKixOkGB"
      }
    },
    {
      "cell_type": "code",
      "source": [
        "hospital_data = pd.get_dummies(finalds,prefix='isin',prefix_sep='_',columns=categorical,drop_first=False)\n",
        "hospital_data.reset_index(drop = True, inplace = True)\n",
        "hospital_data.columns = [x.lower() for x in hospital_data.columns.tolist()]\n",
        "hospital_data = hospital_data.loc[:,~hospital_data.columns.duplicated()]\n",
        "t = hospital_data['arf_apache'].dtype\n",
        "for columns in (hospital_data.columns.tolist()):\n",
        "    if hospital_data[columns].values.dtype == 'uint8' or t == hospital_data[columns].values.dtype:\n",
        "        hospital_data[columns] = hospital_data[columns].astype(int)"
      ],
      "metadata": {
        "id": "-4bPlq9qKG6F"
      },
      "execution_count": 14,
      "outputs": []
    },
    {
      "cell_type": "markdown",
      "source": [
        "We will now prepare the training and the test sets for the model (Since there are such a large number of features and so many values , we will be limiting the model to operate only on the important features)"
      ],
      "metadata": {
        "id": "zMjRWIbDQQQf"
      }
    },
    {
      "cell_type": "code",
      "source": [
        "X = hospital_data.drop(['hospital_death'], axis=1)\n",
        "y = hospital_data['hospital_death']\n",
        "\n",
        "X_new = X[['apache_4a_hospital_death_prob','apache_4a_icu_death_prob','age','d1_spo2_min','d1_resprate_max','d1_heartrate_min']]\n",
        "\n",
        "X_train, X_test, y_train, y_test = train_test_split(X_new, y, test_size=0.30, random_state=11, stratify = y)"
      ],
      "metadata": {
        "id": "nVVTRpbsOiuv"
      },
      "execution_count": 15,
      "outputs": []
    },
    {
      "cell_type": "markdown",
      "source": [
        "We will now define the layers of our sequential model:"
      ],
      "metadata": {
        "id": "3zFxXt7kQ6em"
      }
    },
    {
      "cell_type": "code",
      "source": [
        "model = Sequential()\n",
        "model.add(Dense(10, input_dim=6, activation='relu'))\n",
        "model.add(Dense(5, activation='relu'))\n",
        "model.add(Dense(30, activation='softmax'))\n",
        "model.add(Dense(1,activation='sigmoid'))"
      ],
      "metadata": {
        "id": "cq9j1NcrOv1X"
      },
      "execution_count": 16,
      "outputs": []
    },
    {
      "cell_type": "code",
      "source": [
        "print(model.summary())"
      ],
      "metadata": {
        "colab": {
          "base_uri": "https://localhost:8080/"
        },
        "id": "n0QRVnYxP5Ki",
        "outputId": "8f9501cf-c802-4721-8b36-2fa7fe186bb7"
      },
      "execution_count": 17,
      "outputs": [
        {
          "output_type": "stream",
          "name": "stdout",
          "text": [
            "Model: \"sequential\"\n",
            "_________________________________________________________________\n",
            " Layer (type)                Output Shape              Param #   \n",
            "=================================================================\n",
            " dense (Dense)               (None, 10)                70        \n",
            "                                                                 \n",
            " dense_1 (Dense)             (None, 5)                 55        \n",
            "                                                                 \n",
            " dense_2 (Dense)             (None, 30)                180       \n",
            "                                                                 \n",
            " dense_3 (Dense)             (None, 1)                 31        \n",
            "                                                                 \n",
            "=================================================================\n",
            "Total params: 336\n",
            "Trainable params: 336\n",
            "Non-trainable params: 0\n",
            "_________________________________________________________________\n",
            "None\n"
          ]
        }
      ]
    },
    {
      "cell_type": "code",
      "source": [
        "import tensorflow as tf\n",
        "opt = tf.keras.optimizers.SGD(learning_rate=0.00001)"
      ],
      "metadata": {
        "id": "xFf8VmZAP6TM"
      },
      "execution_count": 18,
      "outputs": []
    },
    {
      "cell_type": "code",
      "source": [
        "model.compile(loss='binary_crossentropy', optimizer=\"adam\", metrics=['accuracy'])"
      ],
      "metadata": {
        "id": "1mOaaFJ7Q7Ra"
      },
      "execution_count": 19,
      "outputs": []
    },
    {
      "cell_type": "code",
      "source": [
        "history = model.fit(X_train, y_train,validation_data=(X_test,y_test), epochs=20, batch_size=64)"
      ],
      "metadata": {
        "colab": {
          "base_uri": "https://localhost:8080/"
        },
        "id": "_8qrX_OaQ-Ij",
        "outputId": "6f4114ce-a393-4c26-8ec0-be0929b2365e"
      },
      "execution_count": 20,
      "outputs": [
        {
          "output_type": "stream",
          "name": "stdout",
          "text": [
            "Epoch 1/20\n",
            "970/970 [==============================] - 7s 5ms/step - loss: 0.3927 - accuracy: 0.9120 - val_loss: 0.3107 - val_accuracy: 0.9135\n",
            "Epoch 2/20\n",
            "970/970 [==============================] - 4s 4ms/step - loss: 0.2893 - accuracy: 0.9135 - val_loss: 0.2746 - val_accuracy: 0.9135\n",
            "Epoch 3/20\n",
            "970/970 [==============================] - 4s 4ms/step - loss: 0.2684 - accuracy: 0.9135 - val_loss: 0.2656 - val_accuracy: 0.9135\n",
            "Epoch 4/20\n",
            "970/970 [==============================] - 4s 4ms/step - loss: 0.2612 - accuracy: 0.9145 - val_loss: 0.2618 - val_accuracy: 0.9154\n",
            "Epoch 5/20\n",
            "970/970 [==============================] - 4s 4ms/step - loss: 0.2516 - accuracy: 0.9165 - val_loss: 0.2439 - val_accuracy: 0.9163\n",
            "Epoch 6/20\n",
            "970/970 [==============================] - 4s 4ms/step - loss: 0.2370 - accuracy: 0.9177 - val_loss: 0.2327 - val_accuracy: 0.9196\n",
            "Epoch 7/20\n",
            "970/970 [==============================] - 4s 4ms/step - loss: 0.2277 - accuracy: 0.9202 - val_loss: 0.2262 - val_accuracy: 0.9219\n",
            "Epoch 8/20\n",
            "970/970 [==============================] - 4s 4ms/step - loss: 0.2239 - accuracy: 0.9218 - val_loss: 0.2234 - val_accuracy: 0.9237\n",
            "Epoch 9/20\n",
            "970/970 [==============================] - 4s 4ms/step - loss: 0.2220 - accuracy: 0.9220 - val_loss: 0.2203 - val_accuracy: 0.9237\n",
            "Epoch 10/20\n",
            "970/970 [==============================] - 4s 4ms/step - loss: 0.2204 - accuracy: 0.9223 - val_loss: 0.2237 - val_accuracy: 0.9221\n",
            "Epoch 11/20\n",
            "970/970 [==============================] - 4s 4ms/step - loss: 0.2198 - accuracy: 0.9228 - val_loss: 0.2177 - val_accuracy: 0.9240\n",
            "Epoch 12/20\n",
            "970/970 [==============================] - 4s 4ms/step - loss: 0.2188 - accuracy: 0.9229 - val_loss: 0.2231 - val_accuracy: 0.9235\n",
            "Epoch 13/20\n",
            "970/970 [==============================] - 4s 4ms/step - loss: 0.2187 - accuracy: 0.9231 - val_loss: 0.2176 - val_accuracy: 0.9248\n",
            "Epoch 14/20\n",
            "970/970 [==============================] - 4s 4ms/step - loss: 0.2178 - accuracy: 0.9228 - val_loss: 0.2180 - val_accuracy: 0.9244\n",
            "Epoch 15/20\n",
            "970/970 [==============================] - 4s 4ms/step - loss: 0.2186 - accuracy: 0.9228 - val_loss: 0.2169 - val_accuracy: 0.9248\n",
            "Epoch 16/20\n",
            "970/970 [==============================] - 4s 4ms/step - loss: 0.2183 - accuracy: 0.9232 - val_loss: 0.2182 - val_accuracy: 0.9246\n",
            "Epoch 17/20\n",
            "970/970 [==============================] - 4s 4ms/step - loss: 0.2172 - accuracy: 0.9230 - val_loss: 0.2172 - val_accuracy: 0.9249\n",
            "Epoch 18/20\n",
            "970/970 [==============================] - 4s 4ms/step - loss: 0.2175 - accuracy: 0.9233 - val_loss: 0.2266 - val_accuracy: 0.9234\n",
            "Epoch 19/20\n",
            "970/970 [==============================] - 4s 4ms/step - loss: 0.2162 - accuracy: 0.9236 - val_loss: 0.2235 - val_accuracy: 0.9243\n",
            "Epoch 20/20\n",
            "970/970 [==============================] - 4s 4ms/step - loss: 0.2163 - accuracy: 0.9233 - val_loss: 0.2171 - val_accuracy: 0.9229\n"
          ]
        }
      ]
    },
    {
      "cell_type": "code",
      "source": [
        "#a. displaying train vs validation loss over each epoch\n",
        "plt.plot(history.history['loss']) \n",
        "plt.plot(history.history['val_loss']) \n",
        "plt.title('Plot for Model Loss')  \n",
        "plt.xlabel('Epoch') \n",
        "plt.ylabel('Loss')\n",
        "plt.legend(['Train', 'Validation'], loc='upper right') \n",
        "plt.show()"
      ],
      "metadata": {
        "colab": {
          "base_uri": "https://localhost:8080/",
          "height": 295
        },
        "id": "YITpnTaLaCjf",
        "outputId": "8219a267-cea2-4505-a818-3fe16b44d4b5"
      },
      "execution_count": 21,
      "outputs": [
        {
          "output_type": "display_data",
          "data": {
            "text/plain": [
              "<Figure size 432x288 with 1 Axes>"
            ],
            "image/png": "[encoded data removed]"
          },
          "metadata": {
            "needs_background": "light"
          }
        }
      ]
    },
    {
      "cell_type": "code",
      "source": [
        "plt.plot(history.history['accuracy'])\n",
        "plt.plot(history.history['val_accuracy'])\n",
        "plt.title('Plot for Model accuracy')\n",
        "plt.xlabel('Epoch')\n",
        "plt.ylabel('Accuracy')\n",
        "plt.legend(['Train', 'Validation'], loc='upper left')\n",
        "plt.show()"
      ],
      "metadata": {
        "colab": {
          "base_uri": "https://localhost:8080/",
          "height": 295
        },
        "id": "V0BS-CJZaLZv",
        "outputId": "50af8f6b-a2e9-4352-921f-ae467a6c405f"
      },
      "execution_count": 22,
      "outputs": [
        {
          "output_type": "display_data",
          "data": {
            "text/plain": [
              "<Figure size 432x288 with 1 Axes>"
            ],
            "image/png": "[encoded data removed]"
          },
          "metadata": {
            "needs_background": "light"
          }
        }
      ]
    },
    {
      "cell_type": "markdown",
      "source": [
        "We will now prepare the predictions for evaluationg the model performance"
      ],
      "metadata": {
        "id": "IMf3451fRU8B"
      }
    },
    {
      "cell_type": "code",
      "source": [
        "predict_x=model.predict(X_test) \n",
        "predictions = (model.predict(X_test) > 0.5).astype(\"int32\")\n",
        "\n",
        "# We will reduce the above arrays to 1d array\n",
        "yhat_probs = predict_x[:, 0]\n",
        "yhat_classes = predictions[:, 0]"
      ],
      "metadata": {
        "colab": {
          "base_uri": "https://localhost:8080/"
        },
        "id": "zjArJA1TF-6S",
        "outputId": "252301fc-02ed-4e05-fc54-ab0cc9fa562e"
      },
      "execution_count": 23,
      "outputs": [
        {
          "output_type": "stream",
          "name": "stdout",
          "text": [
            "832/832 [==============================] - 1s 1ms/step\n",
            "832/832 [==============================] - 1s 1ms/step\n"
          ]
        }
      ]
    },
    {
      "cell_type": "code",
      "source": [
        "accuracy = accuracy_score(y_test, yhat_classes)\n",
        "print('The accuracy of the model on the Test dataset is %f' % accuracy)"
      ],
      "metadata": {
        "colab": {
          "base_uri": "https://localhost:8080/"
        },
        "id": "AETx6-dCGj7X",
        "outputId": "d2ba8c55-3c86-4e08-e74a-a368e3b1e694"
      },
      "execution_count": 24,
      "outputs": [
        {
          "output_type": "stream",
          "name": "stdout",
          "text": [
            "The accuracy of the model on the Test dataset is 0.922860\n"
          ]
        }
      ]
    },
    {
      "cell_type": "code",
      "source": [
        "precision = average_precision_score(y_test, yhat_classes)\n",
        "print('The average precision of the model on the Test dataset is %f' % precision)"
      ],
      "metadata": {
        "colab": {
          "base_uri": "https://localhost:8080/"
        },
        "id": "j3KvpF1HJCz5",
        "outputId": "bdc1bdbe-cb9b-43d0-c3bb-663fd9c0ea82"
      },
      "execution_count": 25,
      "outputs": [
        {
          "output_type": "stream",
          "name": "stdout",
          "text": [
            "The precision of the model on the Test dataset is 0.243337\n"
          ]
        }
      ]
    },
    {
      "cell_type": "code",
      "source": [
        "recall = recall_score(y_test, yhat_classes)\n",
        "print('The recall of the model on the Test dataset is %f' % recall)"
      ],
      "metadata": {
        "colab": {
          "base_uri": "https://localhost:8080/"
        },
        "id": "B2xmrsAeKBCn",
        "outputId": "e82e17e7-9d76-4764-835c-28cc92041ece"
      },
      "execution_count": 26,
      "outputs": [
        {
          "output_type": "stream",
          "name": "stdout",
          "text": [
            "The recall of the model on the Test dataset is 0.299435\n"
          ]
        }
      ]
    },
    {
      "cell_type": "code",
      "source": [
        "f1 = f1_score(y_test, yhat_classes)\n",
        "print('The f1 score of the model on the Test dataset is %f' % f1)"
      ],
      "metadata": {
        "colab": {
          "base_uri": "https://localhost:8080/"
        },
        "id": "oCeqWF-rKaWy",
        "outputId": "7828d075-dc53-46fc-87bb-08c0643e3557"
      },
      "execution_count": 27,
      "outputs": [
        {
          "output_type": "stream",
          "name": "stdout",
          "text": [
            "The f1 score of the model on the Test dataset is 0.401749\n"
          ]
        }
      ]
    },
    {
      "cell_type": "code",
      "source": [
        "auc = roc_auc_score(y_test, yhat_probs)\n",
        "print('The ROC AUC of the model on the Test dataset is %f' % auc)"
      ],
      "metadata": {
        "colab": {
          "base_uri": "https://localhost:8080/"
        },
        "id": "XwiXhsWBKguA",
        "outputId": "c8992410-aaed-4e58-e3fb-79c0ccc9c110"
      },
      "execution_count": 28,
      "outputs": [
        {
          "output_type": "stream",
          "name": "stdout",
          "text": [
            "The ROC AUC of the model on the Test dataset is 0.851444\n"
          ]
        }
      ]
    }
  ]
}