{
  "cells": [
    {
      "cell_type": "markdown",
      "id": "268d7c3c",
      "metadata": {
        "id": "268d7c3c"
      },
      "source": [
        "# Imports"
      ]
    },
    {
      "cell_type": "code",
      "execution_count": null,
      "id": "621acb0a",
      "metadata": {
        "id": "621acb0a"
      },
      "outputs": [],
      "source": [
        "import pandas as pd\n",
        "import numpy as np\n",
        "from sklearn.preprocessing import StandardScaler\n",
        "from sklearn.pipeline import make_pipeline\n",
        "from sklearn.model_selection import GridSearchCV\n",
        "from sklearn.model_selection import RandomizedSearchCV\n",
        "from xgboost import plot_importance\n",
        "from sklearn.ensemble import RandomForestClassifier\n",
        "from sklearn.metrics import f1_score\n",
        "from sklearn.metrics import accuracy_score\n",
        "from sklearn.metrics import roc_auc_score\n",
        "from sklearn.metrics import average_precision_score"
      ]
    },
    {
      "cell_type": "markdown",
      "id": "916f1966",
      "metadata": {
        "id": "916f1966"
      },
      "source": [
        "# Data"
      ]
    },
    {
      "cell_type": "code",
      "execution_count": 8,
      "id": "e4548893",
      "metadata": {
        "id": "e4548893"
      },
      "outputs": [],
      "source": [
        "dev = pd.read_csv('Data/dev.csv')\n",
        "X_dev = dev.drop(columns=['hospital_death'])\n",
        "y_dev = dev['hospital_death']\n",
        "\n",
        "dev_us = pd.read_csv('Data/dev_us.csv')\n",
        "X_dev_us = dev_us.drop(columns=['hospital_death'])\n",
        "y_dev_us = dev_us['hospital_death']\n",
        "\n",
        "dev_os = pd.read_csv('Data/dev_os.csv')\n",
        "X_dev_os = dev_os.drop(columns=['hospital_death'])\n",
        "y_dev_os = dev_os['hospital_death']\n",
        "\n",
        "dev_smote = pd.read_csv('Data/dev_smote.csv')\n",
        "X_dev_smote = dev_smote.drop(columns=['hospital_death'])\n",
        "y_dev_smote = dev_smote['hospital_death']\n",
        "\n",
        "dev_pca95 = pd.read_pickle('Data/dev_pca95.pkl')\n",
        "X_dev_pca95 = dev_pca95.drop(columns=['hospital_death'])\n",
        "y_dev_pca95 = dev_pca95['hospital_death']\n",
        "\n",
        "dev_us_pca95 = pd.read_pickle('Data/dev_us_pca95.pkl')\n",
        "X_dev_us_pca95 = dev_us_pca95.drop(columns=['hospital_death'])\n",
        "y_dev_us_pca95 = dev_us_pca95['hospital_death']\n",
        "\n",
        "dev_os_pca95 = pd.read_pickle('Data/dev_os_pca95.pkl')\n",
        "X_dev_os_pca95 = dev_os_pca95.drop(columns=['hospital_death'])\n",
        "y_dev_os_pca95 = dev_os_pca95['hospital_death']\n",
        "\n",
        "dev_smote_pca95 = pd.read_pickle('Data/dev_smote_pca95.pkl')\n",
        "X_dev_smote_pca95 = dev_smote_pca95.drop(columns=['hospital_death'])\n",
        "y_dev_smote_pca95 = dev_smote_pca95['hospital_death']\n",
        "\n",
        "test = pd.read_csv(\"Data/test.csv\")\n",
        "X_test = test.drop(columns=['hospital_death'])\n",
        "y_test = test['hospital_death']\n",
        "\n",
        "test_pca95 = pd.read_pickle(\"Data/test_pca95.pkl\")\n",
        "X_test_pca95 = test_pca95.drop(columns=['hospital_death'])\n",
        "y_test_pca95 = test_pca95['hospital_death']\n",
        "\n",
        "test_us_pca95 = pd.read_pickle(\"Data/test_us_pca95.pkl\")\n",
        "X_test_us_pca95 = test_us_pca95.drop(columns=['hospital_death'])\n",
        "y_test_us_pca95 = test_us_pca95['hospital_death']\n",
        "\n",
        "test_os_pca95 = pd.read_pickle(\"Data/test_os_pca95.pkl\")\n",
        "X_test_os_pca95 = test_os_pca95.drop(columns=['hospital_death'])\n",
        "y_test_os_pca95 = test_os_pca95['hospital_death']\n",
        "\n",
        "test_smote_pca95 = pd.read_pickle(\"Data/test_smote_pca95.pkl\")\n",
        "X_test_smote_pca95 = test_smote_pca95.drop(columns=['hospital_death'])\n",
        "y_test_smote_pca95 = test_smote_pca95['hospital_death']\n",
        "\n",
        "data = {\n",
        "    \"original\": (X_dev, y_dev, X_test, y_test),\n",
        "    \"us\": (X_dev_us, y_dev_us, X_test, y_test),\n",
        "    \"os\": (X_dev_os, y_dev_os, X_test, y_test),\n",
        "    \"smote\": (X_dev_smote, y_dev_smote, X_test, y_test)\n",
        "}\n",
        "\n",
        "pca_data = {\n",
        "    \"pca95\": (X_dev_pca95, y_dev_pca95, X_test_pca95, y_test_pca95),\n",
        "    \"us_pca95\": (X_dev_us_pca95, y_dev_us_pca95, X_test_us_pca95, y_test_us_pca95),\n",
        "    \"os_pca95\": (X_dev_os_pca95, y_dev_os_pca95, X_test_os_pca95, y_test_os_pca95),\n",
        "    \"smote_pca95\": (X_dev_smote_pca95, y_dev_smote_pca95, X_test_smote_pca95, y_test_smote_pca95)\n",
        "}\n"
      ]
    },
    {
      "cell_type": "markdown",
      "id": "f96c7795",
      "metadata": {
        "id": "f96c7795"
      },
      "source": [
        "# Random Forests\n"
      ]
    },
    {
      "cell_type": "markdown",
      "source": [
        "##Default Settings"
      ],
      "metadata": {
        "id": "kiKBVlwQ0Gm-"
      },
      "id": "kiKBVlwQ0Gm-"
    },
    {
      "cell_type": "code",
      "source": [
        "rf_pipe = make_pipeline(StandardScaler(), RandomForestClassifier())\n",
        "\n",
        "for key in data.keys():\n",
        "    rf_pipe.fit(data[key][0], data[key][1])\n",
        "    y_pred=rf_pipe.predict(data[key][2])\n",
        "    print(\"Random Forests / {} [Accuracy]: {}\".format(key, accuracy_score(data[key][3], y_pred)))\n",
        "    print(\"Random Forests / {} [Average Precision]: {}\".format(key, average_precision_score(data[key][3], y_pred)))\n",
        "    print(\"Random Forests / {} [ROC AUC]: {}\".format(key, roc_auc_score(data[key][3], y_pred)))\n",
        "    print(\"Random Forests / {} [F1]: {}\".format(key, f1_score(data[key][3], y_pred)))\n"
      ],
      "metadata": {
        "colab": {
          "base_uri": "https://localhost:8080/"
        },
        "id": "W4pr7s4jYVR1",
        "outputId": "54bc1808-9422-42ad-fea3-36681006593d"
      },
      "id": "W4pr7s4jYVR1",
      "execution_count": null,
      "outputs": [
        {
          "output_type": "stream",
          "name": "stdout",
          "text": [
            "Random Forests / original [Accuracy]: 0.9292373112358938\n",
            "Random Forests / original [Average Precision]: 0.2649018210630807\n",
            "Random Forests / original [ROC AUC]: 0.6297761531004391\n",
            "Random Forests / original [F1]: 0.3951537744641193\n",
            "Random Forests / us [Accuracy]: 0.8027040287848225\n",
            "Random Forests / us [Average Precision]: 0.23872948882220626\n",
            "Random Forests / us [ROC AUC]: 0.8010792813560548\n",
            "Random Forests / us [F1]: 0.4114490161001788\n",
            "Random Forests / os [Accuracy]: 0.9254211415798942\n",
            "Random Forests / os [Average Precision]: 0.2508254509612085\n",
            "Random Forests / os [ROC AUC]: 0.6379846768393899\n",
            "Random Forests / os [F1]: 0.40209790209790214\n",
            "Random Forests / smote [Accuracy]: 0.9181159025241237\n",
            "Random Forests / smote [Average Precision]: 0.25111008505566945\n",
            "Random Forests / smote [ROC AUC]: 0.6677377815000369\n",
            "Random Forests / smote [F1]: 0.43491346877351394\n"
          ]
        }
      ]
    },
    {
      "cell_type": "markdown",
      "source": [
        "###PCA Data"
      ],
      "metadata": {
        "id": "o59dZb8ehzA9"
      },
      "id": "o59dZb8ehzA9"
    },
    {
      "cell_type": "code",
      "source": [
        "rf_pca_pipe = make_pipeline(StandardScaler(), RandomForestClassifier())\n",
        "\n",
        "for key in pca_data.keys():\n",
        "    rf_pca_pipe.fit(pca_data[key][0], pca_data[key][1])\n",
        "    y_pred=rf_pca_pipe.predict(pca_data[key][2])\n",
        "    print(\"Random Forests with PCA / {} [Accuracy]: {}\".format(key, accuracy_score(pca_data[key][3], y_pred)))\n",
        "    print(\"Random Forests with PCA / {} [Average Precision]: {}\".format(key, average_precision_score(pca_data[key][3], y_pred)))\n",
        "    print(\"Random Forests with PCA / {} [ROC AUC]: {}\".format(key, roc_auc_score(pca_data[key][3], y_pred)))\n",
        "    print(\"Random Forests with PCA / {} [F1]: {}\".format(key, f1_score(pca_data[key][3], y_pred)))"
      ],
      "metadata": {
        "colab": {
          "base_uri": "https://localhost:8080/",
          "height": 565
        },
        "id": "RiueTMaaZ4dU",
        "outputId": "84caffb4-fcc0-4851-add2-742935b05f2e"
      },
      "id": "RiueTMaaZ4dU",
      "execution_count": null,
      "outputs": [
        {
          "output_type": "stream",
          "name": "stdout",
          "text": [
            "Random Forests with PCA / pca95 [Accuracy]: 0.9273292264078941\n",
            "Random Forests with PCA / pca95 [Average Precision]: 0.23512003088131542\n",
            "Random Forests with PCA / pca95 [ROC AUC]: 0.5998436739099954\n",
            "Random Forests with PCA / pca95 [F1]: 0.32642748863062154\n",
            "Random Forests with PCA / us_pca95 [Accuracy]: 0.9137000490650384\n",
            "Random Forests with PCA / us_pca95 [Average Precision]: 0.08629995093496157\n",
            "Random Forests with PCA / us_pca95 [ROC AUC]: 0.5\n",
            "Random Forests with PCA / us_pca95 [F1]: 0.0\n"
          ]
        },
        {
          "output_type": "stream",
          "name": "stderr",
          "text": [
            "/usr/local/lib/python3.8/dist-packages/sklearn/base.py:450: UserWarning: X does not have valid feature names, but StandardScaler was fitted with feature names\n",
            "  warnings.warn(\n"
          ]
        },
        {
          "output_type": "error",
          "ename": "ValueError",
          "evalue": "ignored",
          "traceback": [
            "\u001b[0;31m---------------------------------------------------------------------------\u001b[0m",
            "\u001b[0;31mValueError\u001b[0m                                Traceback (most recent call last)",
            "\u001b[0;32m<ipython-input-4-2507b360bd53>\u001b[0m in \u001b[0;36m<module>\u001b[0;34m\u001b[0m\n\u001b[1;32m      3\u001b[0m \u001b[0;32mfor\u001b[0m \u001b[0mkey\u001b[0m \u001b[0;32min\u001b[0m \u001b[0mpca_data\u001b[0m\u001b[0;34m.\u001b[0m\u001b[0mkeys\u001b[0m\u001b[0;34m(\u001b[0m\u001b[0;34m)\u001b[0m\u001b[0;34m:\u001b[0m\u001b[0;34m\u001b[0m\u001b[0;34m\u001b[0m\u001b[0m\n\u001b[1;32m      4\u001b[0m     \u001b[0mrf_pca_pipe\u001b[0m\u001b[0;34m.\u001b[0m\u001b[0mfit\u001b[0m\u001b[0;34m(\u001b[0m\u001b[0mpca_data\u001b[0m\u001b[0;34m[\u001b[0m\u001b[0mkey\u001b[0m\u001b[0;34m]\u001b[0m\u001b[0;34m[\u001b[0m\u001b[0;36m0\u001b[0m\u001b[0;34m]\u001b[0m\u001b[0;34m,\u001b[0m \u001b[0mpca_data\u001b[0m\u001b[0;34m[\u001b[0m\u001b[0mkey\u001b[0m\u001b[0;34m]\u001b[0m\u001b[0;34m[\u001b[0m\u001b[0;36m1\u001b[0m\u001b[0;34m]\u001b[0m\u001b[0;34m)\u001b[0m\u001b[0;34m\u001b[0m\u001b[0;34m\u001b[0m\u001b[0m\n\u001b[0;32m----> 5\u001b[0;31m     \u001b[0my_pred\u001b[0m\u001b[0;34m=\u001b[0m\u001b[0mrf_pca_pipe\u001b[0m\u001b[0;34m.\u001b[0m\u001b[0mpredict\u001b[0m\u001b[0;34m(\u001b[0m\u001b[0mpca_data\u001b[0m\u001b[0;34m[\u001b[0m\u001b[0mkey\u001b[0m\u001b[0;34m]\u001b[0m\u001b[0;34m[\u001b[0m\u001b[0;36m2\u001b[0m\u001b[0;34m]\u001b[0m\u001b[0;34m)\u001b[0m\u001b[0;34m\u001b[0m\u001b[0;34m\u001b[0m\u001b[0m\n\u001b[0m\u001b[1;32m      6\u001b[0m     \u001b[0mprint\u001b[0m\u001b[0;34m(\u001b[0m\u001b[0;34m\"Random Forests with PCA / {} [Accuracy]: {}\"\u001b[0m\u001b[0;34m.\u001b[0m\u001b[0mformat\u001b[0m\u001b[0;34m(\u001b[0m\u001b[0mkey\u001b[0m\u001b[0;34m,\u001b[0m \u001b[0maccuracy_score\u001b[0m\u001b[0;34m(\u001b[0m\u001b[0mpca_data\u001b[0m\u001b[0;34m[\u001b[0m\u001b[0mkey\u001b[0m\u001b[0;34m]\u001b[0m\u001b[0;34m[\u001b[0m\u001b[0;36m3\u001b[0m\u001b[0;34m]\u001b[0m\u001b[0;34m,\u001b[0m \u001b[0my_pred\u001b[0m\u001b[0;34m)\u001b[0m\u001b[0;34m)\u001b[0m\u001b[0;34m)\u001b[0m\u001b[0;34m\u001b[0m\u001b[0;34m\u001b[0m\u001b[0m\n\u001b[1;32m      7\u001b[0m     \u001b[0mprint\u001b[0m\u001b[0;34m(\u001b[0m\u001b[0;34m\"Random Forests with PCA / {} [Average Precision]: {}\"\u001b[0m\u001b[0;34m.\u001b[0m\u001b[0mformat\u001b[0m\u001b[0;34m(\u001b[0m\u001b[0mkey\u001b[0m\u001b[0;34m,\u001b[0m \u001b[0maverage_precision_score\u001b[0m\u001b[0;34m(\u001b[0m\u001b[0mpca_data\u001b[0m\u001b[0;34m[\u001b[0m\u001b[0mkey\u001b[0m\u001b[0;34m]\u001b[0m\u001b[0;34m[\u001b[0m\u001b[0;36m3\u001b[0m\u001b[0;34m]\u001b[0m\u001b[0;34m,\u001b[0m \u001b[0my_pred\u001b[0m\u001b[0;34m)\u001b[0m\u001b[0;34m)\u001b[0m\u001b[0;34m)\u001b[0m\u001b[0;34m\u001b[0m\u001b[0;34m\u001b[0m\u001b[0m\n",
            "\u001b[0;32m/usr/local/lib/python3.8/dist-packages/sklearn/utils/metaestimators.py\u001b[0m in \u001b[0;36m<lambda>\u001b[0;34m(*args, **kwargs)\u001b[0m\n\u001b[1;32m    111\u001b[0m \u001b[0;34m\u001b[0m\u001b[0m\n\u001b[1;32m    112\u001b[0m             \u001b[0;31m# lambda, but not partial, allows help() to work with update_wrapper\u001b[0m\u001b[0;34m\u001b[0m\u001b[0;34m\u001b[0m\u001b[0;34m\u001b[0m\u001b[0m\n\u001b[0;32m--> 113\u001b[0;31m             \u001b[0mout\u001b[0m \u001b[0;34m=\u001b[0m \u001b[0;32mlambda\u001b[0m \u001b[0;34m*\u001b[0m\u001b[0margs\u001b[0m\u001b[0;34m,\u001b[0m \u001b[0;34m**\u001b[0m\u001b[0mkwargs\u001b[0m\u001b[0;34m:\u001b[0m \u001b[0mself\u001b[0m\u001b[0;34m.\u001b[0m\u001b[0mfn\u001b[0m\u001b[0;34m(\u001b[0m\u001b[0mobj\u001b[0m\u001b[0;34m,\u001b[0m \u001b[0;34m*\u001b[0m\u001b[0margs\u001b[0m\u001b[0;34m,\u001b[0m \u001b[0;34m**\u001b[0m\u001b[0mkwargs\u001b[0m\u001b[0;34m)\u001b[0m  \u001b[0;31m# noqa\u001b[0m\u001b[0;34m\u001b[0m\u001b[0;34m\u001b[0m\u001b[0m\n\u001b[0m\u001b[1;32m    114\u001b[0m         \u001b[0;32melse\u001b[0m\u001b[0;34m:\u001b[0m\u001b[0;34m\u001b[0m\u001b[0;34m\u001b[0m\u001b[0m\n\u001b[1;32m    115\u001b[0m \u001b[0;34m\u001b[0m\u001b[0m\n",
            "\u001b[0;32m/usr/local/lib/python3.8/dist-packages/sklearn/pipeline.py\u001b[0m in \u001b[0;36mpredict\u001b[0;34m(self, X, **predict_params)\u001b[0m\n\u001b[1;32m    467\u001b[0m         \u001b[0mXt\u001b[0m \u001b[0;34m=\u001b[0m \u001b[0mX\u001b[0m\u001b[0;34m\u001b[0m\u001b[0;34m\u001b[0m\u001b[0m\n\u001b[1;32m    468\u001b[0m         \u001b[0;32mfor\u001b[0m \u001b[0m_\u001b[0m\u001b[0;34m,\u001b[0m \u001b[0mname\u001b[0m\u001b[0;34m,\u001b[0m \u001b[0mtransform\u001b[0m \u001b[0;32min\u001b[0m \u001b[0mself\u001b[0m\u001b[0;34m.\u001b[0m\u001b[0m_iter\u001b[0m\u001b[0;34m(\u001b[0m\u001b[0mwith_final\u001b[0m\u001b[0;34m=\u001b[0m\u001b[0;32mFalse\u001b[0m\u001b[0;34m)\u001b[0m\u001b[0;34m:\u001b[0m\u001b[0;34m\u001b[0m\u001b[0;34m\u001b[0m\u001b[0m\n\u001b[0;32m--> 469\u001b[0;31m             \u001b[0mXt\u001b[0m \u001b[0;34m=\u001b[0m \u001b[0mtransform\u001b[0m\u001b[0;34m.\u001b[0m\u001b[0mtransform\u001b[0m\u001b[0;34m(\u001b[0m\u001b[0mXt\u001b[0m\u001b[0;34m)\u001b[0m\u001b[0;34m\u001b[0m\u001b[0;34m\u001b[0m\u001b[0m\n\u001b[0m\u001b[1;32m    470\u001b[0m         \u001b[0;32mreturn\u001b[0m \u001b[0mself\u001b[0m\u001b[0;34m.\u001b[0m\u001b[0msteps\u001b[0m\u001b[0;34m[\u001b[0m\u001b[0;34m-\u001b[0m\u001b[0;36m1\u001b[0m\u001b[0;34m]\u001b[0m\u001b[0;34m[\u001b[0m\u001b[0;36m1\u001b[0m\u001b[0;34m]\u001b[0m\u001b[0;34m.\u001b[0m\u001b[0mpredict\u001b[0m\u001b[0;34m(\u001b[0m\u001b[0mXt\u001b[0m\u001b[0;34m,\u001b[0m \u001b[0;34m**\u001b[0m\u001b[0mpredict_params\u001b[0m\u001b[0;34m)\u001b[0m\u001b[0;34m\u001b[0m\u001b[0;34m\u001b[0m\u001b[0m\n\u001b[1;32m    471\u001b[0m \u001b[0;34m\u001b[0m\u001b[0m\n",
            "\u001b[0;32m/usr/local/lib/python3.8/dist-packages/sklearn/preprocessing/_data.py\u001b[0m in \u001b[0;36mtransform\u001b[0;34m(self, X, copy)\u001b[0m\n\u001b[1;32m    971\u001b[0m \u001b[0;34m\u001b[0m\u001b[0m\n\u001b[1;32m    972\u001b[0m         \u001b[0mcopy\u001b[0m \u001b[0;34m=\u001b[0m \u001b[0mcopy\u001b[0m \u001b[0;32mif\u001b[0m \u001b[0mcopy\u001b[0m \u001b[0;32mis\u001b[0m \u001b[0;32mnot\u001b[0m \u001b[0;32mNone\u001b[0m \u001b[0;32melse\u001b[0m \u001b[0mself\u001b[0m\u001b[0;34m.\u001b[0m\u001b[0mcopy\u001b[0m\u001b[0;34m\u001b[0m\u001b[0;34m\u001b[0m\u001b[0m\n\u001b[0;32m--> 973\u001b[0;31m         X = self._validate_data(\n\u001b[0m\u001b[1;32m    974\u001b[0m             \u001b[0mX\u001b[0m\u001b[0;34m,\u001b[0m\u001b[0;34m\u001b[0m\u001b[0;34m\u001b[0m\u001b[0m\n\u001b[1;32m    975\u001b[0m             \u001b[0mreset\u001b[0m\u001b[0;34m=\u001b[0m\u001b[0;32mFalse\u001b[0m\u001b[0;34m,\u001b[0m\u001b[0;34m\u001b[0m\u001b[0;34m\u001b[0m\u001b[0m\n",
            "\u001b[0;32m/usr/local/lib/python3.8/dist-packages/sklearn/base.py\u001b[0m in \u001b[0;36m_validate_data\u001b[0;34m(self, X, y, reset, validate_separately, **check_params)\u001b[0m\n\u001b[1;32m    583\u001b[0m \u001b[0;34m\u001b[0m\u001b[0m\n\u001b[1;32m    584\u001b[0m         \u001b[0;32mif\u001b[0m \u001b[0;32mnot\u001b[0m \u001b[0mno_val_X\u001b[0m \u001b[0;32mand\u001b[0m \u001b[0mcheck_params\u001b[0m\u001b[0;34m.\u001b[0m\u001b[0mget\u001b[0m\u001b[0;34m(\u001b[0m\u001b[0;34m\"ensure_2d\"\u001b[0m\u001b[0;34m,\u001b[0m \u001b[0;32mTrue\u001b[0m\u001b[0;34m)\u001b[0m\u001b[0;34m:\u001b[0m\u001b[0;34m\u001b[0m\u001b[0;34m\u001b[0m\u001b[0m\n\u001b[0;32m--> 585\u001b[0;31m             \u001b[0mself\u001b[0m\u001b[0;34m.\u001b[0m\u001b[0m_check_n_features\u001b[0m\u001b[0;34m(\u001b[0m\u001b[0mX\u001b[0m\u001b[0;34m,\u001b[0m \u001b[0mreset\u001b[0m\u001b[0;34m=\u001b[0m\u001b[0mreset\u001b[0m\u001b[0;34m)\u001b[0m\u001b[0;34m\u001b[0m\u001b[0;34m\u001b[0m\u001b[0m\n\u001b[0m\u001b[1;32m    586\u001b[0m \u001b[0;34m\u001b[0m\u001b[0m\n\u001b[1;32m    587\u001b[0m         \u001b[0;32mreturn\u001b[0m \u001b[0mout\u001b[0m\u001b[0;34m\u001b[0m\u001b[0;34m\u001b[0m\u001b[0m\n",
            "\u001b[0;32m/usr/local/lib/python3.8/dist-packages/sklearn/base.py\u001b[0m in \u001b[0;36m_check_n_features\u001b[0;34m(self, X, reset)\u001b[0m\n\u001b[1;32m    398\u001b[0m \u001b[0;34m\u001b[0m\u001b[0m\n\u001b[1;32m    399\u001b[0m         \u001b[0;32mif\u001b[0m \u001b[0mn_features\u001b[0m \u001b[0;34m!=\u001b[0m \u001b[0mself\u001b[0m\u001b[0;34m.\u001b[0m\u001b[0mn_features_in_\u001b[0m\u001b[0;34m:\u001b[0m\u001b[0;34m\u001b[0m\u001b[0;34m\u001b[0m\u001b[0m\n\u001b[0;32m--> 400\u001b[0;31m             raise ValueError(\n\u001b[0m\u001b[1;32m    401\u001b[0m                 \u001b[0;34mf\"X has {n_features} features, but {self.__class__.__name__} \"\u001b[0m\u001b[0;34m\u001b[0m\u001b[0;34m\u001b[0m\u001b[0m\n\u001b[1;32m    402\u001b[0m                 \u001b[0;34mf\"is expecting {self.n_features_in_} features as input.\"\u001b[0m\u001b[0;34m\u001b[0m\u001b[0;34m\u001b[0m\u001b[0m\n",
            "\u001b[0;31mValueError\u001b[0m: X has 47 features, but StandardScaler is expecting 66 features as input."
          ]
        }
      ]
    },
    {
      "cell_type": "markdown",
      "source": [
        "##Hyperparameter Tuning"
      ],
      "metadata": {
        "id": "Df8lexS10OkN"
      },
      "id": "Df8lexS10OkN"
    },
    {
      "cell_type": "markdown",
      "source": [
        "###Tuning original"
      ],
      "metadata": {
        "id": "M74c23aXh37N"
      },
      "id": "M74c23aXh37N"
    },
    {
      "cell_type": "code",
      "source": [
        "rf_params = {\n",
        "    'randomforestclassifier__max_depth': [10, 50, 100, None],\n",
        "    'randomforestclassifier__min_samples_leaf': [1, 2, 4],\n",
        "    'randomforestclassifier__n_estimators': [50, 100, 500]\n",
        "}\n",
        "\n",
        "rf_pipe = make_pipeline(StandardScaler(), RandomForestClassifier())\n",
        "rf_grid = RandomizedSearchCV(rf_pipe, rf_params, cv = None, refit=True, n_jobs = -1)\n",
        "\n",
        "for key in data.keys():\n",
        "    if key== ('original'):\n",
        "      rf_grid.fit(data[key][0], data[key][1])\n",
        "      y_pred=rf_grid.predict(data[key][2])\n",
        "      print(\"Random Forests / {} [Accuracy]: {}\".format(key, accuracy_score(data[key][3], y_pred)))\n",
        "      print(\"Random Forests / {} [Average Precision]: {}\".format(key, average_precision_score(data[key][3], y_pred)))\n",
        "      print(\"Random Forests / {} [ROC AUC]: {}\".format(key, roc_auc_score(data[key][3], y_pred)))\n",
        "      print(\"Random Forests / {} [F1]: {}\".format(key, f1_score(data[key][3], y_pred)))"
      ],
      "metadata": {
        "colab": {
          "base_uri": "https://localhost:8080/"
        },
        "id": "XKNAL8Nj2oQ_",
        "outputId": "ed58e8d9-8280-4e8d-f43d-0b0fb2796c06"
      },
      "id": "XKNAL8Nj2oQ_",
      "execution_count": null,
      "outputs": [
        {
          "output_type": "stream",
          "name": "stdout",
          "text": [
            "Random Forests / original [Accuracy]: 0.9295644114921223\n",
            "Random Forests / original [Average Precision]: 0.26725015096572957\n",
            "Random Forests / original [ROC AUC]: 0.6302411737479213\n",
            "Random Forests / original [F1]: 0.3968253968253968\n"
          ]
        }
      ]
    },
    {
      "cell_type": "code",
      "source": [
        "for key in data.keys():\n",
        "  if key=='original':\n",
        "    print(\"Random Forests / {} : {}\".format(key, rf_grid.best_params_))"
      ],
      "metadata": {
        "colab": {
          "base_uri": "https://localhost:8080/"
        },
        "id": "fjHTFa6nHp3J",
        "outputId": "d6147baf-6d62-40d5-d3ca-b0126ac09850"
      },
      "id": "fjHTFa6nHp3J",
      "execution_count": null,
      "outputs": [
        {
          "output_type": "stream",
          "name": "stdout",
          "text": [
            "Random Forests / original : {'randomforestclassifier__n_estimators': 500, 'randomforestclassifier__min_samples_leaf': 1, 'randomforestclassifier__max_depth': None}\n"
          ]
        }
      ]
    },
    {
      "cell_type": "markdown",
      "source": [
        "###Tuning Smote"
      ],
      "metadata": {
        "id": "sR9meQkbh66I"
      },
      "id": "sR9meQkbh66I"
    },
    {
      "cell_type": "code",
      "source": [
        "rf_params = {\n",
        "    'randomforestclassifier__max_depth': [10, 50, 100, None],\n",
        "    'randomforestclassifier__min_samples_leaf': [1, 2, 4],\n",
        "    'randomforestclassifier__n_estimators': [50, 100, 500]\n",
        "}\n",
        "\n",
        "smote_rf_pipe = make_pipeline(StandardScaler(), RandomForestClassifier())\n",
        "smote_rf_grid = RandomizedSearchCV(smote_rf_pipe, rf_params, n_iter=5,cv = None, refit=True, n_jobs = -1)\n",
        "\n",
        "for key in data.keys():\n",
        "    if key=='smote':\n",
        "      smote_rf_grid.fit(data[key][0], data[key][1])\n",
        "      smote_y_pred=smote_rf_grid.predict(data[key][2])\n",
        "      print(\"Random Forests / {} [Accuracy]: {}\".format(key, accuracy_score(data[key][3], smote_y_pred)))\n",
        "      print(\"Random Forests / {} [Average Precision]: {}\".format(key, average_precision_score(data[key][3], smote_y_pred)))\n",
        "      print(\"Random Forests / {} [ROC AUC]: {}\".format(key, roc_auc_score(data[key][3], smote_y_pred)))\n",
        "      print(\"Random Forests / {} [F1]: {}\".format(key, f1_score(data[key][3], smote_y_pred)))"
      ],
      "metadata": {
        "colab": {
          "base_uri": "https://localhost:8080/"
        },
        "id": "0D1Ut1lcIBpR",
        "outputId": "f5772ecb-5cf4-42fc-f527-b23a122c9856"
      },
      "id": "0D1Ut1lcIBpR",
      "execution_count": null,
      "outputs": [
        {
          "output_type": "stream",
          "name": "stdout",
          "text": [
            "Random Forests / smote [Accuracy]: 0.9211688382489233\n",
            "Random Forests / smote [Average Precision]: 0.26727203443688763\n",
            "Random Forests / smote [ROC AUC]: 0.6754149096079014\n",
            "Random Forests / smote [F1]: 0.4531013615733737\n"
          ]
        }
      ]
    },
    {
      "cell_type": "code",
      "source": [
        "for key in data.keys():\n",
        "  if key=='smote':\n",
        "    print(\"Random Forests / {} : {}\".format(key, smote_rf_grid.best_params_))"
      ],
      "metadata": {
        "colab": {
          "base_uri": "https://localhost:8080/"
        },
        "id": "HxUHl9qhhLDT",
        "outputId": "d94cb9c4-3d24-49df-8e6a-1133eed25e10"
      },
      "id": "HxUHl9qhhLDT",
      "execution_count": null,
      "outputs": [
        {
          "output_type": "stream",
          "name": "stdout",
          "text": [
            "Random Forests / smote : {'randomforestclassifier__n_estimators': 500, 'randomforestclassifier__min_samples_leaf': 1, 'randomforestclassifier__max_depth': None}\n"
          ]
        }
      ]
    },
    {
      "cell_type": "code",
      "source": [
        "original_rf_pipe = make_pipeline(StandardScaler(), RandomForestClassifier(n_estimators= 500, min_samples_leaf=1, max_depth= None))\n",
        "original_rf_pipe.fit(data['original'][0], data['original'][1])\n",
        "original_y_pred=original_rf_pipe.predict(data['original'][2])\n",
        "\n",
        "print(\"Histgradient Boosting / {} [Accuracy]: {}\".format('original', accuracy_score(data['original'][3], original_y_pred)))\n",
        "print(\"Histgradient Boosting / {} [Average Precision]: {}\".format('original', average_precision_score(data['original'][3], original_y_pred)))\n",
        "print(\"Histgradient Boosting / {} [ROC AUC]: {}\".format('original', roc_auc_score(data['original'][3], original_y_pred)))\n",
        "print(\"Histgradient Boosting / {} [F1]: {}\".format('original', f1_score(data['original'][3], original_y_pred)))"
      ],
      "metadata": {
        "id": "qP2GgXnk1sp-",
        "colab": {
          "base_uri": "https://localhost:8080/"
        },
        "outputId": "fb08402d-2f6f-4e78-9f51-9a3c5a942db9"
      },
      "id": "qP2GgXnk1sp-",
      "execution_count": 9,
      "outputs": [
        {
          "output_type": "stream",
          "name": "stdout",
          "text": [
            "Histgradient Boosting / original [Accuracy]: 0.9298915117483508\n",
            "Histgradient Boosting / original [Average Precision]: 0.2701509582491203\n",
            "Histgradient Boosting / original [ROC AUC]: 0.6315642634977543\n",
            "Histgradient Boosting / original [F1]: 0.4001865671641791\n"
          ]
        }
      ]
    },
    {
      "cell_type": "code",
      "source": [
        "print(data['original'][0].columns)"
      ],
      "metadata": {
        "colab": {
          "base_uri": "https://localhost:8080/"
        },
        "id": "dJPIdU6_5MQU",
        "outputId": "07296343-6169-4f4e-a587-546ce1ffd15f"
      },
      "id": "dJPIdU6_5MQU",
      "execution_count": 19,
      "outputs": [
        {
          "output_type": "stream",
          "name": "stdout",
          "text": [
            "Index(['hospital_id', 'age', 'bmi', 'elective_surgery', 'ethnicity', 'gender',\n",
            "       'height', 'icu_admit_source', 'icu_id', 'icu_stay_type', 'icu_type',\n",
            "       'pre_icu_los_days', 'weight', 'apache_2_diagnosis',\n",
            "       'apache_3j_diagnosis', 'arf_apache', 'gcs_eyes_apache',\n",
            "       'gcs_motor_apache', 'gcs_unable_apache', 'gcs_verbal_apache',\n",
            "       'heart_rate_apache', 'intubated_apache', 'map_apache',\n",
            "       'resprate_apache', 'temp_apache', 'ventilated_apache', 'd1_diasbp_max',\n",
            "       'd1_diasbp_min', 'd1_heartrate_max', 'd1_heartrate_min', 'd1_mbp_max',\n",
            "       'd1_mbp_min', 'd1_resprate_max', 'd1_resprate_min', 'd1_spo2_max',\n",
            "       'd1_spo2_min', 'd1_sysbp_max', 'd1_sysbp_min', 'd1_temp_max',\n",
            "       'd1_temp_min', 'h1_diasbp_max', 'h1_diasbp_min', 'h1_heartrate_max',\n",
            "       'h1_heartrate_min', 'h1_mbp_max', 'h1_mbp_min', 'h1_resprate_max',\n",
            "       'h1_resprate_min', 'h1_spo2_max', 'h1_spo2_min', 'h1_sysbp_max',\n",
            "       'h1_sysbp_min', 'd1_glucose_max', 'd1_glucose_min', 'd1_potassium_max',\n",
            "       'd1_potassium_min', 'apache_4a_icu_death_prob', 'aids', 'cirrhosis',\n",
            "       'diabetes_mellitus', 'hepatic_failure', 'immunosuppression', 'leukemia',\n",
            "       'lymphoma', 'solid_tumor_with_metastasis', 'apache_2_bodysystem'],\n",
            "      dtype='object')\n"
          ]
        }
      ]
    },
    {
      "cell_type": "code",
      "source": [
        "import seaborn as sns\n",
        "feature_names=data['original'][0].columns\n",
        "\n",
        "feat_imps=zip(feature_names, original_rf_pipe.named_steps['randomforestclassifier'].feature_importances_)\n",
        "feats, imps= zip(*(sorted(list(filter(lambda x :x[1]!=0, feat_imps)), key=lambda x :x[1], reverse=True)))\n",
        "\n",
        "ax=sns.barplot(list(feats), list(imps))\n",
        "ax.tick_params(axis='x', rotation=90)\n",
        "\n"
      ],
      "metadata": {
        "colab": {
          "base_uri": "https://localhost:8080/",
          "height": 453
        },
        "id": "H1LYJqod3o2e",
        "outputId": "3be4e5d3-d419-4b10-c8db-7068d1e7cf98"
      },
      "id": "H1LYJqod3o2e",
      "execution_count": 23,
      "outputs": [
        {
          "output_type": "stream",
          "name": "stderr",
          "text": [
            "/usr/local/lib/python3.8/dist-packages/seaborn/_decorators.py:36: FutureWarning: Pass the following variables as keyword args: x, y. From version 0.12, the only valid positional argument will be `data`, and passing other arguments without an explicit keyword will result in an error or misinterpretation.\n",
            "  warnings.warn(\n"
          ]
        },
        {
          "output_type": "display_data",
          "data": {
            "text/plain": [
              "<Figure size 432x288 with 1 Axes>"
            ],
            "image/png": "[encoded data removed]"
          },
          "metadata": {
            "needs_background": "light"
          }
        }
      ]
    },
    {
      "cell_type": "markdown",
      "source": [
        "###Attempt to tune all 4"
      ],
      "metadata": {
        "id": "OM-OR5AQiAPl"
      },
      "id": "OM-OR5AQiAPl"
    },
    {
      "cell_type": "code",
      "execution_count": null,
      "id": "c470c9fd",
      "metadata": {
        "id": "c470c9fd",
        "outputId": "0a0897ab-7cf2-4da5-920a-d45a731dae77",
        "colab": {
          "base_uri": "https://localhost:8080/",
          "height": 375
        }
      },
      "outputs": [
        {
          "output_type": "error",
          "ename": "KeyboardInterrupt",
          "evalue": "ignored",
          "traceback": [
            "\u001b[0;31m---------------------------------------------------------------------------\u001b[0m",
            "\u001b[0;31mKeyboardInterrupt\u001b[0m                         Traceback (most recent call last)",
            "\u001b[0;32m<ipython-input-14-f2c4b8ea3ad7>\u001b[0m in \u001b[0;36m<module>\u001b[0;34m\u001b[0m\n\u001b[1;32m     12\u001b[0m \u001b[0;34m\u001b[0m\u001b[0m\n\u001b[1;32m     13\u001b[0m \u001b[0;32mfor\u001b[0m \u001b[0mkey\u001b[0m \u001b[0;32min\u001b[0m \u001b[0mdata\u001b[0m\u001b[0;34m.\u001b[0m\u001b[0mkeys\u001b[0m\u001b[0;34m(\u001b[0m\u001b[0;34m)\u001b[0m\u001b[0;34m:\u001b[0m\u001b[0;34m\u001b[0m\u001b[0;34m\u001b[0m\u001b[0m\n\u001b[0;32m---> 14\u001b[0;31m     \u001b[0mrf_grid_accuracy\u001b[0m\u001b[0;34m.\u001b[0m\u001b[0mfit\u001b[0m\u001b[0;34m(\u001b[0m\u001b[0mdata\u001b[0m\u001b[0;34m[\u001b[0m\u001b[0mkey\u001b[0m\u001b[0;34m]\u001b[0m\u001b[0;34m[\u001b[0m\u001b[0;36m0\u001b[0m\u001b[0;34m]\u001b[0m\u001b[0;34m,\u001b[0m \u001b[0mdata\u001b[0m\u001b[0;34m[\u001b[0m\u001b[0mkey\u001b[0m\u001b[0;34m]\u001b[0m\u001b[0;34m[\u001b[0m\u001b[0;36m1\u001b[0m\u001b[0;34m]\u001b[0m\u001b[0;34m)\u001b[0m\u001b[0;34m\u001b[0m\u001b[0;34m\u001b[0m\u001b[0m\n\u001b[0m\u001b[1;32m     15\u001b[0m     \u001b[0mprint\u001b[0m\u001b[0;34m(\u001b[0m\u001b[0;34m\"Random Forests / {} [Accuracy]: {}\"\u001b[0m\u001b[0;34m.\u001b[0m\u001b[0mformat\u001b[0m\u001b[0;34m(\u001b[0m\u001b[0mkey\u001b[0m\u001b[0;34m,\u001b[0m \u001b[0mrf_grid_accuracy\u001b[0m\u001b[0;34m.\u001b[0m\u001b[0mscore\u001b[0m\u001b[0;34m(\u001b[0m\u001b[0mdata\u001b[0m\u001b[0;34m[\u001b[0m\u001b[0mkey\u001b[0m\u001b[0;34m]\u001b[0m\u001b[0;34m[\u001b[0m\u001b[0;36m2\u001b[0m\u001b[0;34m]\u001b[0m\u001b[0;34m,\u001b[0m \u001b[0mdata\u001b[0m\u001b[0;34m[\u001b[0m\u001b[0mkey\u001b[0m\u001b[0;34m]\u001b[0m\u001b[0;34m[\u001b[0m\u001b[0;36m3\u001b[0m\u001b[0;34m]\u001b[0m\u001b[0;34m)\u001b[0m\u001b[0;34m)\u001b[0m\u001b[0;34m)\u001b[0m\u001b[0;34m\u001b[0m\u001b[0;34m\u001b[0m\u001b[0m\n\u001b[1;32m     16\u001b[0m     \u001b[0mrf_grid_ap\u001b[0m\u001b[0;34m.\u001b[0m\u001b[0mfit\u001b[0m\u001b[0;34m(\u001b[0m\u001b[0mdata\u001b[0m\u001b[0;34m[\u001b[0m\u001b[0mkey\u001b[0m\u001b[0;34m]\u001b[0m\u001b[0;34m[\u001b[0m\u001b[0;36m0\u001b[0m\u001b[0;34m]\u001b[0m\u001b[0;34m,\u001b[0m \u001b[0mdata\u001b[0m\u001b[0;34m[\u001b[0m\u001b[0mkey\u001b[0m\u001b[0;34m]\u001b[0m\u001b[0;34m[\u001b[0m\u001b[0;36m1\u001b[0m\u001b[0;34m]\u001b[0m\u001b[0;34m)\u001b[0m\u001b[0;34m\u001b[0m\u001b[0;34m\u001b[0m\u001b[0m\n",
            "\u001b[0;32m/usr/local/lib/python3.8/dist-packages/sklearn/model_selection/_search.py\u001b[0m in \u001b[0;36mfit\u001b[0;34m(self, X, y, groups, **fit_params)\u001b[0m\n\u001b[1;32m    889\u001b[0m                 \u001b[0;32mreturn\u001b[0m \u001b[0mresults\u001b[0m\u001b[0;34m\u001b[0m\u001b[0;34m\u001b[0m\u001b[0m\n\u001b[1;32m    890\u001b[0m \u001b[0;34m\u001b[0m\u001b[0m\n\u001b[0;32m--> 891\u001b[0;31m             \u001b[0mself\u001b[0m\u001b[0;34m.\u001b[0m\u001b[0m_run_search\u001b[0m\u001b[0;34m(\u001b[0m\u001b[0mevaluate_candidates\u001b[0m\u001b[0;34m)\u001b[0m\u001b[0;34m\u001b[0m\u001b[0;34m\u001b[0m\u001b[0m\n\u001b[0m\u001b[1;32m    892\u001b[0m \u001b[0;34m\u001b[0m\u001b[0m\n\u001b[1;32m    893\u001b[0m             \u001b[0;31m# multimetric is determined here because in the case of a callable\u001b[0m\u001b[0;34m\u001b[0m\u001b[0;34m\u001b[0m\u001b[0;34m\u001b[0m\u001b[0m\n",
            "\u001b[0;32m/usr/local/lib/python3.8/dist-packages/sklearn/model_selection/_search.py\u001b[0m in \u001b[0;36m_run_search\u001b[0;34m(self, evaluate_candidates)\u001b[0m\n\u001b[1;32m   1764\u001b[0m     \u001b[0;32mdef\u001b[0m \u001b[0m_run_search\u001b[0m\u001b[0;34m(\u001b[0m\u001b[0mself\u001b[0m\u001b[0;34m,\u001b[0m \u001b[0mevaluate_candidates\u001b[0m\u001b[0;34m)\u001b[0m\u001b[0;34m:\u001b[0m\u001b[0;34m\u001b[0m\u001b[0;34m\u001b[0m\u001b[0m\n\u001b[1;32m   1765\u001b[0m         \u001b[0;34m\"\"\"Search n_iter candidates from param_distributions\"\"\"\u001b[0m\u001b[0;34m\u001b[0m\u001b[0;34m\u001b[0m\u001b[0m\n\u001b[0;32m-> 1766\u001b[0;31m         evaluate_candidates(\n\u001b[0m\u001b[1;32m   1767\u001b[0m             ParameterSampler(\n\u001b[1;32m   1768\u001b[0m                 \u001b[0mself\u001b[0m\u001b[0;34m.\u001b[0m\u001b[0mparam_distributions\u001b[0m\u001b[0;34m,\u001b[0m \u001b[0mself\u001b[0m\u001b[0;34m.\u001b[0m\u001b[0mn_iter\u001b[0m\u001b[0;34m,\u001b[0m \u001b[0mrandom_state\u001b[0m\u001b[0;34m=\u001b[0m\u001b[0mself\u001b[0m\u001b[0;34m.\u001b[0m\u001b[0mrandom_state\u001b[0m\u001b[0;34m\u001b[0m\u001b[0;34m\u001b[0m\u001b[0m\n",
            "\u001b[0;32m/usr/local/lib/python3.8/dist-packages/sklearn/model_selection/_search.py\u001b[0m in \u001b[0;36mevaluate_candidates\u001b[0;34m(candidate_params, cv, more_results)\u001b[0m\n\u001b[1;32m    836\u001b[0m                     )\n\u001b[1;32m    837\u001b[0m \u001b[0;34m\u001b[0m\u001b[0m\n\u001b[0;32m--> 838\u001b[0;31m                 out = parallel(\n\u001b[0m\u001b[1;32m    839\u001b[0m                     delayed(_fit_and_score)(\n\u001b[1;32m    840\u001b[0m                         \u001b[0mclone\u001b[0m\u001b[0;34m(\u001b[0m\u001b[0mbase_estimator\u001b[0m\u001b[0;34m)\u001b[0m\u001b[0;34m,\u001b[0m\u001b[0;34m\u001b[0m\u001b[0;34m\u001b[0m\u001b[0m\n",
            "\u001b[0;32m/usr/local/lib/python3.8/dist-packages/joblib/parallel.py\u001b[0m in \u001b[0;36m__call__\u001b[0;34m(self, iterable)\u001b[0m\n\u001b[1;32m   1096\u001b[0m \u001b[0;34m\u001b[0m\u001b[0m\n\u001b[1;32m   1097\u001b[0m             \u001b[0;32mwith\u001b[0m \u001b[0mself\u001b[0m\u001b[0;34m.\u001b[0m\u001b[0m_backend\u001b[0m\u001b[0;34m.\u001b[0m\u001b[0mretrieval_context\u001b[0m\u001b[0;34m(\u001b[0m\u001b[0;34m)\u001b[0m\u001b[0;34m:\u001b[0m\u001b[0;34m\u001b[0m\u001b[0;34m\u001b[0m\u001b[0m\n\u001b[0;32m-> 1098\u001b[0;31m                 \u001b[0mself\u001b[0m\u001b[0;34m.\u001b[0m\u001b[0mretrieve\u001b[0m\u001b[0;34m(\u001b[0m\u001b[0;34m)\u001b[0m\u001b[0;34m\u001b[0m\u001b[0;34m\u001b[0m\u001b[0m\n\u001b[0m\u001b[1;32m   1099\u001b[0m             \u001b[0;31m# Make sure that we get a last message telling us we are done\u001b[0m\u001b[0;34m\u001b[0m\u001b[0;34m\u001b[0m\u001b[0;34m\u001b[0m\u001b[0m\n\u001b[1;32m   1100\u001b[0m             \u001b[0melapsed_time\u001b[0m \u001b[0;34m=\u001b[0m \u001b[0mtime\u001b[0m\u001b[0;34m.\u001b[0m\u001b[0mtime\u001b[0m\u001b[0;34m(\u001b[0m\u001b[0;34m)\u001b[0m \u001b[0;34m-\u001b[0m \u001b[0mself\u001b[0m\u001b[0;34m.\u001b[0m\u001b[0m_start_time\u001b[0m\u001b[0;34m\u001b[0m\u001b[0;34m\u001b[0m\u001b[0m\n",
            "\u001b[0;32m/usr/local/lib/python3.8/dist-packages/joblib/parallel.py\u001b[0m in \u001b[0;36mretrieve\u001b[0;34m(self)\u001b[0m\n\u001b[1;32m    973\u001b[0m             \u001b[0;32mtry\u001b[0m\u001b[0;34m:\u001b[0m\u001b[0;34m\u001b[0m\u001b[0;34m\u001b[0m\u001b[0m\n\u001b[1;32m    974\u001b[0m                 \u001b[0;32mif\u001b[0m \u001b[0mgetattr\u001b[0m\u001b[0;34m(\u001b[0m\u001b[0mself\u001b[0m\u001b[0;34m.\u001b[0m\u001b[0m_backend\u001b[0m\u001b[0;34m,\u001b[0m \u001b[0;34m'supports_timeout'\u001b[0m\u001b[0;34m,\u001b[0m \u001b[0;32mFalse\u001b[0m\u001b[0;34m)\u001b[0m\u001b[0;34m:\u001b[0m\u001b[0;34m\u001b[0m\u001b[0;34m\u001b[0m\u001b[0m\n\u001b[0;32m--> 975\u001b[0;31m                     \u001b[0mself\u001b[0m\u001b[0;34m.\u001b[0m\u001b[0m_output\u001b[0m\u001b[0;34m.\u001b[0m\u001b[0mextend\u001b[0m\u001b[0;34m(\u001b[0m\u001b[0mjob\u001b[0m\u001b[0;34m.\u001b[0m\u001b[0mget\u001b[0m\u001b[0;34m(\u001b[0m\u001b[0mtimeout\u001b[0m\u001b[0;34m=\u001b[0m\u001b[0mself\u001b[0m\u001b[0;34m.\u001b[0m\u001b[0mtimeout\u001b[0m\u001b[0;34m)\u001b[0m\u001b[0;34m)\u001b[0m\u001b[0;34m\u001b[0m\u001b[0;34m\u001b[0m\u001b[0m\n\u001b[0m\u001b[1;32m    976\u001b[0m                 \u001b[0;32melse\u001b[0m\u001b[0;34m:\u001b[0m\u001b[0;34m\u001b[0m\u001b[0;34m\u001b[0m\u001b[0m\n\u001b[1;32m    977\u001b[0m                     \u001b[0mself\u001b[0m\u001b[0;34m.\u001b[0m\u001b[0m_output\u001b[0m\u001b[0;34m.\u001b[0m\u001b[0mextend\u001b[0m\u001b[0;34m(\u001b[0m\u001b[0mjob\u001b[0m\u001b[0;34m.\u001b[0m\u001b[0mget\u001b[0m\u001b[0;34m(\u001b[0m\u001b[0;34m)\u001b[0m\u001b[0;34m)\u001b[0m\u001b[0;34m\u001b[0m\u001b[0;34m\u001b[0m\u001b[0m\n",
            "\u001b[0;32m/usr/local/lib/python3.8/dist-packages/joblib/_parallel_backends.py\u001b[0m in \u001b[0;36mwrap_future_result\u001b[0;34m(future, timeout)\u001b[0m\n\u001b[1;32m    565\u001b[0m         AsyncResults.get from multiprocessing.\"\"\"\n\u001b[1;32m    566\u001b[0m         \u001b[0;32mtry\u001b[0m\u001b[0;34m:\u001b[0m\u001b[0;34m\u001b[0m\u001b[0;34m\u001b[0m\u001b[0m\n\u001b[0;32m--> 567\u001b[0;31m             \u001b[0;32mreturn\u001b[0m \u001b[0mfuture\u001b[0m\u001b[0;34m.\u001b[0m\u001b[0mresult\u001b[0m\u001b[0;34m(\u001b[0m\u001b[0mtimeout\u001b[0m\u001b[0;34m=\u001b[0m\u001b[0mtimeout\u001b[0m\u001b[0;34m)\u001b[0m\u001b[0;34m\u001b[0m\u001b[0;34m\u001b[0m\u001b[0m\n\u001b[0m\u001b[1;32m    568\u001b[0m         \u001b[0;32mexcept\u001b[0m \u001b[0mCfTimeoutError\u001b[0m \u001b[0;32mas\u001b[0m \u001b[0me\u001b[0m\u001b[0;34m:\u001b[0m\u001b[0;34m\u001b[0m\u001b[0;34m\u001b[0m\u001b[0m\n\u001b[1;32m    569\u001b[0m             \u001b[0;32mraise\u001b[0m \u001b[0mTimeoutError\u001b[0m \u001b[0;32mfrom\u001b[0m \u001b[0me\u001b[0m\u001b[0;34m\u001b[0m\u001b[0;34m\u001b[0m\u001b[0m\n",
            "\u001b[0;32m/usr/lib/python3.8/concurrent/futures/_base.py\u001b[0m in \u001b[0;36mresult\u001b[0;34m(self, timeout)\u001b[0m\n\u001b[1;32m    437\u001b[0m                     \u001b[0;32mreturn\u001b[0m \u001b[0mself\u001b[0m\u001b[0;34m.\u001b[0m\u001b[0m__get_result\u001b[0m\u001b[0;34m(\u001b[0m\u001b[0;34m)\u001b[0m\u001b[0;34m\u001b[0m\u001b[0;34m\u001b[0m\u001b[0m\n\u001b[1;32m    438\u001b[0m \u001b[0;34m\u001b[0m\u001b[0m\n\u001b[0;32m--> 439\u001b[0;31m                 \u001b[0mself\u001b[0m\u001b[0;34m.\u001b[0m\u001b[0m_condition\u001b[0m\u001b[0;34m.\u001b[0m\u001b[0mwait\u001b[0m\u001b[0;34m(\u001b[0m\u001b[0mtimeout\u001b[0m\u001b[0;34m)\u001b[0m\u001b[0;34m\u001b[0m\u001b[0;34m\u001b[0m\u001b[0m\n\u001b[0m\u001b[1;32m    440\u001b[0m \u001b[0;34m\u001b[0m\u001b[0m\n\u001b[1;32m    441\u001b[0m                 \u001b[0;32mif\u001b[0m \u001b[0mself\u001b[0m\u001b[0;34m.\u001b[0m\u001b[0m_state\u001b[0m \u001b[0;32min\u001b[0m \u001b[0;34m[\u001b[0m\u001b[0mCANCELLED\u001b[0m\u001b[0;34m,\u001b[0m \u001b[0mCANCELLED_AND_NOTIFIED\u001b[0m\u001b[0;34m]\u001b[0m\u001b[0;34m:\u001b[0m\u001b[0;34m\u001b[0m\u001b[0;34m\u001b[0m\u001b[0m\n",
            "\u001b[0;32m/usr/lib/python3.8/threading.py\u001b[0m in \u001b[0;36mwait\u001b[0;34m(self, timeout)\u001b[0m\n\u001b[1;32m    300\u001b[0m         \u001b[0;32mtry\u001b[0m\u001b[0;34m:\u001b[0m    \u001b[0;31m# restore state no matter what (e.g., KeyboardInterrupt)\u001b[0m\u001b[0;34m\u001b[0m\u001b[0;34m\u001b[0m\u001b[0m\n\u001b[1;32m    301\u001b[0m             \u001b[0;32mif\u001b[0m \u001b[0mtimeout\u001b[0m \u001b[0;32mis\u001b[0m \u001b[0;32mNone\u001b[0m\u001b[0;34m:\u001b[0m\u001b[0;34m\u001b[0m\u001b[0;34m\u001b[0m\u001b[0m\n\u001b[0;32m--> 302\u001b[0;31m                 \u001b[0mwaiter\u001b[0m\u001b[0;34m.\u001b[0m\u001b[0macquire\u001b[0m\u001b[0;34m(\u001b[0m\u001b[0;34m)\u001b[0m\u001b[0;34m\u001b[0m\u001b[0;34m\u001b[0m\u001b[0m\n\u001b[0m\u001b[1;32m    303\u001b[0m                 \u001b[0mgotit\u001b[0m \u001b[0;34m=\u001b[0m \u001b[0;32mTrue\u001b[0m\u001b[0;34m\u001b[0m\u001b[0;34m\u001b[0m\u001b[0m\n\u001b[1;32m    304\u001b[0m             \u001b[0;32melse\u001b[0m\u001b[0;34m:\u001b[0m\u001b[0;34m\u001b[0m\u001b[0;34m\u001b[0m\u001b[0m\n",
            "\u001b[0;31mKeyboardInterrupt\u001b[0m: "
          ]
        }
      ],
      "source": [
        "rf_params = {\n",
        "    'randomforestclassifier__max_depth': [10, 20, 30, 40, 50, 60, 70, 80, 90, 100, None],\n",
        "    'randomforestclassifier__min_samples_leaf': [1, 2, 4],\n",
        "    'randomforestclassifier__n_estimators': [200, 500, 800, 1000, 1200, 1500]\n",
        "}\n",
        "\n",
        "rf_pipe = make_pipeline(StandardScaler(), RandomForestClassifier())\n",
        "rf_grid_accuracy = RandomizedSearchCV(rf_pipe, rf_params, cv = None, scoring='accuracy', refit=True, n_jobs = -1)\n",
        "rf_grid_ap = RandomizedSearchCV(rf_pipe, rf_params, cv = None, scoring='average_precision', refit=True, n_jobs = -1)\n",
        "rf_grid_auc = RandomizedSearchCV(rf_pipe, rf_params, cv = None, scoring='roc_auc', refit=True, n_jobs = -1)\n",
        "rf_grid_f1 = RandomizedSearchCV(rf_pipe, rf_params, cv = None, scoring='f1', refit=True, n_jobs = -1)\n",
        "\n",
        "for key in data.keys():\n",
        "    rf_grid_accuracy.fit(data[key][0], data[key][1])\n",
        "    print(\"Random Forests / {} [Accuracy]: {}\".format(key, rf_grid_accuracy.score(data[key][2], data[key][3])))\n",
        "    rf_grid_ap.fit(data[key][0], data[key][1])\n",
        "    print(\"Random Forests / {} [Average Precision]: {}\".format(key, rf_grid_ap.score(data[key][2], data[key][3])))\n",
        "    rf_grid_auc.fit(data[key][0], data[key][1])\n",
        "    print(\"Random Forests / {} [ROC AUC]: {}\".format(key, rf_grid_auc.score(data[key][2], data[key][3])))\n",
        "    rf_grid_f1.fit(data[key][0], data[key][1])\n",
        "    print(\"Random Forests / {} [F1]: {}\".format(key, rf_grid_f1.score(data[key][2], data[key][3])))\n"
      ]
    }
  ],
  "metadata": {
    "kernelspec": {
      "display_name": "Python 3 (ipykernel)",
      "language": "python",
      "name": "python3"
    },
    "language_info": {
      "codemirror_mode": {
        "name": "ipython",
        "version": 3
      },
      "file_extension": ".py",
      "mimetype": "text/x-python",
      "name": "python",
      "nbconvert_exporter": "python",
      "pygments_lexer": "ipython3",
      "version": "3.9.12"
    },
    "colab": {
      "provenance": []
    }
  },
  "nbformat": 4,
  "nbformat_minor": 5
}