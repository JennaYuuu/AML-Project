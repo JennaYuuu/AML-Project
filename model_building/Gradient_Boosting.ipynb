{
  "cells": [
    {
      "cell_type": "markdown",
      "id": "268d7c3c",
      "metadata": {
        "id": "268d7c3c"
      },
      "source": [
        "# Imports"
      ]
    },
    {
      "cell_type": "code",
      "execution_count": 1,
      "id": "621acb0a",
      "metadata": {
        "id": "621acb0a"
      },
      "outputs": [],
      "source": [
        "import pandas as pd\n",
        "import numpy as np\n",
        "from sklearn.preprocessing import StandardScaler\n",
        "from sklearn.pipeline import make_pipeline\n",
        "from sklearn.model_selection import GridSearchCV\n",
        "from sklearn.model_selection import RandomizedSearchCV\n",
        "from xgboost import plot_importance\n",
        "from sklearn.ensemble import GradientBoostingClassifier\n",
        "from sklearn.metrics import f1_score\n",
        "from sklearn.metrics import accuracy_score\n",
        "from sklearn.metrics import roc_auc_score\n",
        "from sklearn.metrics import average_precision_score"
      ]
    },
    {
      "cell_type": "markdown",
      "id": "916f1966",
      "metadata": {
        "id": "916f1966"
      },
      "source": [
        "# Data"
      ]
    },
    {
      "cell_type": "code",
      "execution_count": 2,
      "id": "e4548893",
      "metadata": {
        "id": "e4548893"
      },
      "outputs": [],
      "source": [
        "dev = pd.read_csv('Data/dev.csv')\n",
        "X_dev = dev.drop(columns=['hospital_death'])\n",
        "y_dev = dev['hospital_death']\n",
        "\n",
        "dev_us = pd.read_csv('Data/dev_us.csv')\n",
        "X_dev_us = dev_us.drop(columns=['hospital_death'])\n",
        "y_dev_us = dev_us['hospital_death']\n",
        "\n",
        "dev_os = pd.read_csv('Data/dev_os.csv')\n",
        "X_dev_os = dev_os.drop(columns=['hospital_death'])\n",
        "y_dev_os = dev_os['hospital_death']\n",
        "\n",
        "dev_smote = pd.read_csv('Data/dev_smote.csv')\n",
        "X_dev_smote = dev_smote.drop(columns=['hospital_death'])\n",
        "y_dev_smote = dev_smote['hospital_death']\n",
        "\n",
        "dev_pca95 = pd.read_pickle('Data/dev_pca95.pkl')\n",
        "X_dev_pca95 = dev_pca95.drop(columns=['hospital_death'])\n",
        "y_dev_pca95 = dev_pca95['hospital_death']\n",
        "\n",
        "dev_us_pca95 = pd.read_pickle('Data/dev_us_pca95.pkl')\n",
        "X_dev_us_pca95 = dev_us_pca95.drop(columns=['hospital_death'])\n",
        "y_dev_us_pca95 = dev_us_pca95['hospital_death']\n",
        "\n",
        "dev_os_pca95 = pd.read_pickle('Data/dev_os_pca95.pkl')\n",
        "X_dev_os_pca95 = dev_os_pca95.drop(columns=['hospital_death'])\n",
        "y_dev_os_pca95 = dev_os_pca95['hospital_death']\n",
        "\n",
        "dev_smote_pca95 = pd.read_pickle('Data/dev_smote_pca95.pkl')\n",
        "X_dev_smote_pca95 = dev_smote_pca95.drop(columns=['hospital_death'])\n",
        "y_dev_smote_pca95 = dev_smote_pca95['hospital_death']\n",
        "\n",
        "test = pd.read_csv(\"Data/test.csv\")\n",
        "X_test = test.drop(columns=['hospital_death'])\n",
        "y_test = test['hospital_death']\n",
        "\n",
        "test_pca95 = pd.read_pickle(\"Data/test_pca95.pkl\")\n",
        "X_test_pca95 = test_pca95.drop(columns=['hospital_death'])\n",
        "y_test_pca95 = test_pca95['hospital_death']\n",
        "\n",
        "test_us_pca95 = pd.read_pickle(\"Data/test_us_pca95.pkl\")\n",
        "X_test_us_pca95 = test_us_pca95.drop(columns=['hospital_death'])\n",
        "y_test_us_pca95 = test_us_pca95['hospital_death']\n",
        "\n",
        "test_os_pca95 = pd.read_pickle(\"Data/test_os_pca95.pkl\")\n",
        "X_test_os_pca95 = test_os_pca95.drop(columns=['hospital_death'])\n",
        "y_test_os_pca95 = test_os_pca95['hospital_death']\n",
        "\n",
        "test_smote_pca95 = pd.read_pickle(\"Data/test_smote_pca95.pkl\")\n",
        "X_test_smote_pca95 = test_smote_pca95.drop(columns=['hospital_death'])\n",
        "y_test_smote_pca95 = test_smote_pca95['hospital_death']\n",
        "\n",
        "data = {\n",
        "    \"original\": (X_dev, y_dev, X_test, y_test),\n",
        "    \"us\": (X_dev_us, y_dev_us, X_test, y_test),\n",
        "    \"os\": (X_dev_os, y_dev_os, X_test, y_test),\n",
        "    \"smote\": (X_dev_smote, y_dev_smote, X_test, y_test)\n",
        "}\n",
        "\n",
        "pca_data = {\n",
        "    \"pca95\": (X_dev_pca95, y_dev_pca95, X_test_pca95, y_test_pca95),\n",
        "    \"us_pca95\": (X_dev_us_pca95, y_dev_us_pca95, X_test_us_pca95, y_test_us_pca95),\n",
        "    \"os_pca95\": (X_dev_os_pca95, y_dev_os_pca95, X_test_os_pca95, y_test_os_pca95),\n",
        "    \"smote_pca95\": (X_dev_smote_pca95, y_dev_smote_pca95, X_test_smote_pca95, y_test_smote_pca95)\n",
        "}\n"
      ]
    },
    {
      "cell_type": "markdown",
      "id": "959d0cb3",
      "metadata": {
        "id": "959d0cb3"
      },
      "source": [
        "# Gradient Boosting"
      ]
    },
    {
      "cell_type": "markdown",
      "source": [
        "##Default Settings"
      ],
      "metadata": {
        "id": "P49pJKnlePJz"
      },
      "id": "P49pJKnlePJz"
    },
    {
      "cell_type": "code",
      "source": [
        "gb_pipe = make_pipeline(StandardScaler(), GradientBoostingClassifier())\n",
        "\n",
        "for key in data.keys():\n",
        "    gb_pipe.fit(data[key][0], data[key][1])\n",
        "    y_pred=gb_pipe.predict(data[key][2])\n",
        "    print(\"Gradient Boosting / {} [Accuracy]: {}\".format(key, accuracy_score(data[key][3], y_pred)))\n",
        "    print(\"Gradient Boosting / {} [Average Precision]: {}\".format(key, average_precision_score(data[key][3], y_pred)))\n",
        "    print(\"Gradient Boosting / {} [ROC AUC]: {}\".format(key, roc_auc_score(data[key][3], y_pred)))\n",
        "    print(\"Gradient Boosting / {} [F1]: {}\".format(key, f1_score(data[key][3], y_pred)))"
      ],
      "metadata": {
        "colab": {
          "base_uri": "https://localhost:8080/"
        },
        "id": "qgOoCNBibjNA",
        "outputId": "e66583a4-9211-47ed-ebe6-d3643c30986c"
      },
      "id": "qgOoCNBibjNA",
      "execution_count": 4,
      "outputs": [
        {
          "output_type": "stream",
          "name": "stdout",
          "text": [
            "Gradient Boosting / original [Accuracy]: 0.928092460339094\n",
            "Gradient Boosting / original [Average Precision]: 0.27164052804278593\n",
            "Gradient Boosting / original [ROC AUC]: 0.648313204739498\n",
            "Gradient Boosting / original [F1]: 0.42677096914385054\n",
            "Gradient Boosting / us [Accuracy]: 0.8085373166875648\n",
            "Gradient Boosting / us [Average Precision]: 0.24404213061429064\n",
            "Gradient Boosting / us [ROC AUC]: 0.8042714054610668\n",
            "Gradient Boosting / us [F1]: 0.41873551804038406\n",
            "Gradient Boosting / os [Accuracy]: 0.8149702883933926\n",
            "Gradient Boosting / os [Average Precision]: 0.24999826026430988\n",
            "Gradient Boosting / os [ROC AUC]: 0.8075056688231311\n",
            "Gradient Boosting / os [F1]: 0.4268828098615332\n",
            "Gradient Boosting / smote [Accuracy]: 0.9163713678242381\n",
            "Gradient Boosting / smote [Average Precision]: 0.27464739917508646\n",
            "Gradient Boosting / smote [ROC AUC]: 0.6988177073831898\n",
            "Gradient Boosting / smote [F1]: 0.4735758407687028\n"
          ]
        }
      ]
    },
    {
      "cell_type": "markdown",
      "source": [
        "###PCA Dataset"
      ],
      "metadata": {
        "id": "Roql-keNg34Y"
      },
      "id": "Roql-keNg34Y"
    },
    {
      "cell_type": "code",
      "source": [
        "gb_pca_pipe = make_pipeline(StandardScaler(), GradientBoostingClassifier())\n",
        "\n",
        "for key in pca_data.keys():\n",
        "    gb_pca_pipe.fit(pca_data[key][0], pca_data[key][1])\n",
        "    y_pred=gb_pca_pipe.predict(pca_data[key][2])\n",
        "    print(\"Gradient Boosting with PCA / {} [Accuracy]: {}\".format(key, accuracy_score(pca_data[key][3], y_pred)))\n",
        "    print(\"Gradient Boosting with PCA / {} [Average Precision]: {}\".format(key, average_precision_score(pca_data[key][3], y_pred)))\n",
        "    print(\"Gradient Boosting with PCA / {} [ROC AUC]: {}\".format(key, roc_auc_score(pca_data[key][3], y_pred)))\n",
        "    print(\"Gradient Boosting with PCA / {} [F1]: {}\".format(key, f1_score(pca_data[key][3], y_pred)))"
      ],
      "metadata": {
        "colab": {
          "base_uri": "https://localhost:8080/",
          "height": 565
        },
        "id": "scwBZmWYewXZ",
        "outputId": "87a00af3-661f-4f47-e6a5-6ff870c5f3a5"
      },
      "id": "scwBZmWYewXZ",
      "execution_count": 6,
      "outputs": [
        {
          "output_type": "stream",
          "name": "stdout",
          "text": [
            "Gradient Boosting with PCA / pca95 [Accuracy]: 0.9252030747424086\n",
            "Gradient Boosting with PCA / pca95 [Average Precision]: 0.2378708463591891\n",
            "Gradient Boosting with PCA / pca95 [ROC AUC]: 0.6229921473230641\n",
            "Gradient Boosting with PCA / pca95 [F1]: 0.3729433272394881\n",
            "Gradient Boosting with PCA / us_pca95 [Accuracy]: 0.9105925966308673\n",
            "Gradient Boosting with PCA / us_pca95 [Average Precision]: 0.08812779697877184\n",
            "Gradient Boosting with PCA / us_pca95 [ROC AUC]: 0.5045920294236044\n",
            "Gradient Boosting with PCA / us_pca95 [F1]: 0.026128266033254157\n"
          ]
        },
        {
          "output_type": "stream",
          "name": "stderr",
          "text": [
            "/usr/local/lib/python3.8/dist-packages/sklearn/base.py:450: UserWarning: X does not have valid feature names, but StandardScaler was fitted with feature names\n",
            "  warnings.warn(\n"
          ]
        },
        {
          "output_type": "error",
          "ename": "ValueError",
          "evalue": "ignored",
          "traceback": [
            "\u001b[0;31m---------------------------------------------------------------------------\u001b[0m",
            "\u001b[0;31mValueError\u001b[0m                                Traceback (most recent call last)",
            "\u001b[0;32m<ipython-input-6-aa6bc394ad87>\u001b[0m in \u001b[0;36m<module>\u001b[0;34m\u001b[0m\n\u001b[1;32m      3\u001b[0m \u001b[0;32mfor\u001b[0m \u001b[0mkey\u001b[0m \u001b[0;32min\u001b[0m \u001b[0mpca_data\u001b[0m\u001b[0;34m.\u001b[0m\u001b[0mkeys\u001b[0m\u001b[0;34m(\u001b[0m\u001b[0;34m)\u001b[0m\u001b[0;34m:\u001b[0m\u001b[0;34m\u001b[0m\u001b[0;34m\u001b[0m\u001b[0m\n\u001b[1;32m      4\u001b[0m     \u001b[0mgb_pca_pipe\u001b[0m\u001b[0;34m.\u001b[0m\u001b[0mfit\u001b[0m\u001b[0;34m(\u001b[0m\u001b[0mpca_data\u001b[0m\u001b[0;34m[\u001b[0m\u001b[0mkey\u001b[0m\u001b[0;34m]\u001b[0m\u001b[0;34m[\u001b[0m\u001b[0;36m0\u001b[0m\u001b[0;34m]\u001b[0m\u001b[0;34m,\u001b[0m \u001b[0mpca_data\u001b[0m\u001b[0;34m[\u001b[0m\u001b[0mkey\u001b[0m\u001b[0;34m]\u001b[0m\u001b[0;34m[\u001b[0m\u001b[0;36m1\u001b[0m\u001b[0;34m]\u001b[0m\u001b[0;34m)\u001b[0m\u001b[0;34m\u001b[0m\u001b[0;34m\u001b[0m\u001b[0m\n\u001b[0;32m----> 5\u001b[0;31m     \u001b[0my_pred\u001b[0m\u001b[0;34m=\u001b[0m\u001b[0mgb_pca_pipe\u001b[0m\u001b[0;34m.\u001b[0m\u001b[0mpredict\u001b[0m\u001b[0;34m(\u001b[0m\u001b[0mpca_data\u001b[0m\u001b[0;34m[\u001b[0m\u001b[0mkey\u001b[0m\u001b[0;34m]\u001b[0m\u001b[0;34m[\u001b[0m\u001b[0;36m2\u001b[0m\u001b[0;34m]\u001b[0m\u001b[0;34m)\u001b[0m\u001b[0;34m\u001b[0m\u001b[0;34m\u001b[0m\u001b[0m\n\u001b[0m\u001b[1;32m      6\u001b[0m     \u001b[0mprint\u001b[0m\u001b[0;34m(\u001b[0m\u001b[0;34m\"Gradient Boosting with PCA / {} [Accuracy]: {}\"\u001b[0m\u001b[0;34m.\u001b[0m\u001b[0mformat\u001b[0m\u001b[0;34m(\u001b[0m\u001b[0mkey\u001b[0m\u001b[0;34m,\u001b[0m \u001b[0maccuracy_score\u001b[0m\u001b[0;34m(\u001b[0m\u001b[0mpca_data\u001b[0m\u001b[0;34m[\u001b[0m\u001b[0mkey\u001b[0m\u001b[0;34m]\u001b[0m\u001b[0;34m[\u001b[0m\u001b[0;36m3\u001b[0m\u001b[0;34m]\u001b[0m\u001b[0;34m,\u001b[0m \u001b[0my_pred\u001b[0m\u001b[0;34m)\u001b[0m\u001b[0;34m)\u001b[0m\u001b[0;34m)\u001b[0m\u001b[0;34m\u001b[0m\u001b[0;34m\u001b[0m\u001b[0m\n\u001b[1;32m      7\u001b[0m     \u001b[0mprint\u001b[0m\u001b[0;34m(\u001b[0m\u001b[0;34m\"Gradient Boosting with PCA / {} [Average Precision]: {}\"\u001b[0m\u001b[0;34m.\u001b[0m\u001b[0mformat\u001b[0m\u001b[0;34m(\u001b[0m\u001b[0mkey\u001b[0m\u001b[0;34m,\u001b[0m \u001b[0maverage_precision_score\u001b[0m\u001b[0;34m(\u001b[0m\u001b[0mpca_data\u001b[0m\u001b[0;34m[\u001b[0m\u001b[0mkey\u001b[0m\u001b[0;34m]\u001b[0m\u001b[0;34m[\u001b[0m\u001b[0;36m3\u001b[0m\u001b[0;34m]\u001b[0m\u001b[0;34m,\u001b[0m \u001b[0my_pred\u001b[0m\u001b[0;34m)\u001b[0m\u001b[0;34m)\u001b[0m\u001b[0;34m)\u001b[0m\u001b[0;34m\u001b[0m\u001b[0;34m\u001b[0m\u001b[0m\n",
            "\u001b[0;32m/usr/local/lib/python3.8/dist-packages/sklearn/utils/metaestimators.py\u001b[0m in \u001b[0;36m<lambda>\u001b[0;34m(*args, **kwargs)\u001b[0m\n\u001b[1;32m    111\u001b[0m \u001b[0;34m\u001b[0m\u001b[0m\n\u001b[1;32m    112\u001b[0m             \u001b[0;31m# lambda, but not partial, allows help() to work with update_wrapper\u001b[0m\u001b[0;34m\u001b[0m\u001b[0;34m\u001b[0m\u001b[0;34m\u001b[0m\u001b[0m\n\u001b[0;32m--> 113\u001b[0;31m             \u001b[0mout\u001b[0m \u001b[0;34m=\u001b[0m \u001b[0;32mlambda\u001b[0m \u001b[0;34m*\u001b[0m\u001b[0margs\u001b[0m\u001b[0;34m,\u001b[0m \u001b[0;34m**\u001b[0m\u001b[0mkwargs\u001b[0m\u001b[0;34m:\u001b[0m \u001b[0mself\u001b[0m\u001b[0;34m.\u001b[0m\u001b[0mfn\u001b[0m\u001b[0;34m(\u001b[0m\u001b[0mobj\u001b[0m\u001b[0;34m,\u001b[0m \u001b[0;34m*\u001b[0m\u001b[0margs\u001b[0m\u001b[0;34m,\u001b[0m \u001b[0;34m**\u001b[0m\u001b[0mkwargs\u001b[0m\u001b[0;34m)\u001b[0m  \u001b[0;31m# noqa\u001b[0m\u001b[0;34m\u001b[0m\u001b[0;34m\u001b[0m\u001b[0m\n\u001b[0m\u001b[1;32m    114\u001b[0m         \u001b[0;32melse\u001b[0m\u001b[0;34m:\u001b[0m\u001b[0;34m\u001b[0m\u001b[0;34m\u001b[0m\u001b[0m\n\u001b[1;32m    115\u001b[0m \u001b[0;34m\u001b[0m\u001b[0m\n",
            "\u001b[0;32m/usr/local/lib/python3.8/dist-packages/sklearn/pipeline.py\u001b[0m in \u001b[0;36mpredict\u001b[0;34m(self, X, **predict_params)\u001b[0m\n\u001b[1;32m    467\u001b[0m         \u001b[0mXt\u001b[0m \u001b[0;34m=\u001b[0m \u001b[0mX\u001b[0m\u001b[0;34m\u001b[0m\u001b[0;34m\u001b[0m\u001b[0m\n\u001b[1;32m    468\u001b[0m         \u001b[0;32mfor\u001b[0m \u001b[0m_\u001b[0m\u001b[0;34m,\u001b[0m \u001b[0mname\u001b[0m\u001b[0;34m,\u001b[0m \u001b[0mtransform\u001b[0m \u001b[0;32min\u001b[0m \u001b[0mself\u001b[0m\u001b[0;34m.\u001b[0m\u001b[0m_iter\u001b[0m\u001b[0;34m(\u001b[0m\u001b[0mwith_final\u001b[0m\u001b[0;34m=\u001b[0m\u001b[0;32mFalse\u001b[0m\u001b[0;34m)\u001b[0m\u001b[0;34m:\u001b[0m\u001b[0;34m\u001b[0m\u001b[0;34m\u001b[0m\u001b[0m\n\u001b[0;32m--> 469\u001b[0;31m             \u001b[0mXt\u001b[0m \u001b[0;34m=\u001b[0m \u001b[0mtransform\u001b[0m\u001b[0;34m.\u001b[0m\u001b[0mtransform\u001b[0m\u001b[0;34m(\u001b[0m\u001b[0mXt\u001b[0m\u001b[0;34m)\u001b[0m\u001b[0;34m\u001b[0m\u001b[0;34m\u001b[0m\u001b[0m\n\u001b[0m\u001b[1;32m    470\u001b[0m         \u001b[0;32mreturn\u001b[0m \u001b[0mself\u001b[0m\u001b[0;34m.\u001b[0m\u001b[0msteps\u001b[0m\u001b[0;34m[\u001b[0m\u001b[0;34m-\u001b[0m\u001b[0;36m1\u001b[0m\u001b[0;34m]\u001b[0m\u001b[0;34m[\u001b[0m\u001b[0;36m1\u001b[0m\u001b[0;34m]\u001b[0m\u001b[0;34m.\u001b[0m\u001b[0mpredict\u001b[0m\u001b[0;34m(\u001b[0m\u001b[0mXt\u001b[0m\u001b[0;34m,\u001b[0m \u001b[0;34m**\u001b[0m\u001b[0mpredict_params\u001b[0m\u001b[0;34m)\u001b[0m\u001b[0;34m\u001b[0m\u001b[0;34m\u001b[0m\u001b[0m\n\u001b[1;32m    471\u001b[0m \u001b[0;34m\u001b[0m\u001b[0m\n",
            "\u001b[0;32m/usr/local/lib/python3.8/dist-packages/sklearn/preprocessing/_data.py\u001b[0m in \u001b[0;36mtransform\u001b[0;34m(self, X, copy)\u001b[0m\n\u001b[1;32m    971\u001b[0m \u001b[0;34m\u001b[0m\u001b[0m\n\u001b[1;32m    972\u001b[0m         \u001b[0mcopy\u001b[0m \u001b[0;34m=\u001b[0m \u001b[0mcopy\u001b[0m \u001b[0;32mif\u001b[0m \u001b[0mcopy\u001b[0m \u001b[0;32mis\u001b[0m \u001b[0;32mnot\u001b[0m \u001b[0;32mNone\u001b[0m \u001b[0;32melse\u001b[0m \u001b[0mself\u001b[0m\u001b[0;34m.\u001b[0m\u001b[0mcopy\u001b[0m\u001b[0;34m\u001b[0m\u001b[0;34m\u001b[0m\u001b[0m\n\u001b[0;32m--> 973\u001b[0;31m         X = self._validate_data(\n\u001b[0m\u001b[1;32m    974\u001b[0m             \u001b[0mX\u001b[0m\u001b[0;34m,\u001b[0m\u001b[0;34m\u001b[0m\u001b[0;34m\u001b[0m\u001b[0m\n\u001b[1;32m    975\u001b[0m             \u001b[0mreset\u001b[0m\u001b[0;34m=\u001b[0m\u001b[0;32mFalse\u001b[0m\u001b[0;34m,\u001b[0m\u001b[0;34m\u001b[0m\u001b[0;34m\u001b[0m\u001b[0m\n",
            "\u001b[0;32m/usr/local/lib/python3.8/dist-packages/sklearn/base.py\u001b[0m in \u001b[0;36m_validate_data\u001b[0;34m(self, X, y, reset, validate_separately, **check_params)\u001b[0m\n\u001b[1;32m    583\u001b[0m \u001b[0;34m\u001b[0m\u001b[0m\n\u001b[1;32m    584\u001b[0m         \u001b[0;32mif\u001b[0m \u001b[0;32mnot\u001b[0m \u001b[0mno_val_X\u001b[0m \u001b[0;32mand\u001b[0m \u001b[0mcheck_params\u001b[0m\u001b[0;34m.\u001b[0m\u001b[0mget\u001b[0m\u001b[0;34m(\u001b[0m\u001b[0;34m\"ensure_2d\"\u001b[0m\u001b[0;34m,\u001b[0m \u001b[0;32mTrue\u001b[0m\u001b[0;34m)\u001b[0m\u001b[0;34m:\u001b[0m\u001b[0;34m\u001b[0m\u001b[0;34m\u001b[0m\u001b[0m\n\u001b[0;32m--> 585\u001b[0;31m             \u001b[0mself\u001b[0m\u001b[0;34m.\u001b[0m\u001b[0m_check_n_features\u001b[0m\u001b[0;34m(\u001b[0m\u001b[0mX\u001b[0m\u001b[0;34m,\u001b[0m \u001b[0mreset\u001b[0m\u001b[0;34m=\u001b[0m\u001b[0mreset\u001b[0m\u001b[0;34m)\u001b[0m\u001b[0;34m\u001b[0m\u001b[0;34m\u001b[0m\u001b[0m\n\u001b[0m\u001b[1;32m    586\u001b[0m \u001b[0;34m\u001b[0m\u001b[0m\n\u001b[1;32m    587\u001b[0m         \u001b[0;32mreturn\u001b[0m \u001b[0mout\u001b[0m\u001b[0;34m\u001b[0m\u001b[0;34m\u001b[0m\u001b[0m\n",
            "\u001b[0;32m/usr/local/lib/python3.8/dist-packages/sklearn/base.py\u001b[0m in \u001b[0;36m_check_n_features\u001b[0;34m(self, X, reset)\u001b[0m\n\u001b[1;32m    398\u001b[0m \u001b[0;34m\u001b[0m\u001b[0m\n\u001b[1;32m    399\u001b[0m         \u001b[0;32mif\u001b[0m \u001b[0mn_features\u001b[0m \u001b[0;34m!=\u001b[0m \u001b[0mself\u001b[0m\u001b[0;34m.\u001b[0m\u001b[0mn_features_in_\u001b[0m\u001b[0;34m:\u001b[0m\u001b[0;34m\u001b[0m\u001b[0;34m\u001b[0m\u001b[0m\n\u001b[0;32m--> 400\u001b[0;31m             raise ValueError(\n\u001b[0m\u001b[1;32m    401\u001b[0m                 \u001b[0;34mf\"X has {n_features} features, but {self.__class__.__name__} \"\u001b[0m\u001b[0;34m\u001b[0m\u001b[0;34m\u001b[0m\u001b[0m\n\u001b[1;32m    402\u001b[0m                 \u001b[0;34mf\"is expecting {self.n_features_in_} features as input.\"\u001b[0m\u001b[0;34m\u001b[0m\u001b[0;34m\u001b[0m\u001b[0m\n",
            "\u001b[0;31mValueError\u001b[0m: X has 47 features, but StandardScaler is expecting 66 features as input."
          ]
        }
      ]
    },
    {
      "cell_type": "markdown",
      "source": [
        "##Hyperparameter Tuning"
      ],
      "metadata": {
        "id": "nycdA6DkeRwS"
      },
      "id": "nycdA6DkeRwS"
    },
    {
      "cell_type": "markdown",
      "source": [
        "###Original Dataset"
      ],
      "metadata": {
        "id": "hWhfNyLphrIM"
      },
      "id": "hWhfNyLphrIM"
    },
    {
      "cell_type": "code",
      "execution_count": 3,
      "id": "70ffd2b4",
      "metadata": {
        "id": "70ffd2b4",
        "outputId": "c1a9de92-0132-4047-fc63-3650b3d03ea3",
        "colab": {
          "base_uri": "https://localhost:8080/"
        }
      },
      "outputs": [
        {
          "output_type": "stream",
          "name": "stdout",
          "text": [
            "Gradient Boosting / original [Accuracy]: 0.9196968870958949\n",
            "Gradient Boosting / original [Average Precision]: 0.20314909628296596\n",
            "Gradient Boosting / original [ROC AUC]: 0.6088241225008556\n",
            "Gradient Boosting / original [F1]: 0.3337856173677069\n"
          ]
        }
      ],
      "source": [
        "gb_params = {\n",
        "    'gradientboostingclassifier__max_depth': [10, 50, 70],\n",
        "    'gradientboostingclassifier__min_samples_leaf': [1, 2, 4],\n",
        "    'gradientboostingclassifier__n_estimators': [50, 100, 250],\n",
        "    'gradientboostingclassifier__learning_rate': [0.01,0.1,1,10]\n",
        "}\n",
        "\n",
        "gb_pipe = make_pipeline(StandardScaler(), GradientBoostingClassifier())\n",
        "gb_grid = RandomizedSearchCV(gb_pipe, gb_params, n_iter=3,cv = None, scoring='accuracy', refit=True, n_jobs = -1)\n",
        "\n",
        "for key in data.keys():\n",
        "    if key== ('original'):\n",
        "      gb_grid.fit(data[key][0], data[key][1])\n",
        "      y_pred=gb_grid.predict(data[key][2])\n",
        "      print(\"Gradient Boosting / {} [Accuracy]: {}\".format(key, accuracy_score(data[key][3], y_pred)))\n",
        "      print(\"Gradient Boosting / {} [Average Precision]: {}\".format(key, average_precision_score(data[key][3], y_pred)))\n",
        "      print(\"Gradient Boosting / {} [ROC AUC]: {}\".format(key, roc_auc_score(data[key][3], y_pred)))\n",
        "      print(\"Gradient Boosting / {} [F1]: {}\".format(key, f1_score(data[key][3], y_pred)))\n"
      ]
    }
  ],
  "metadata": {
    "kernelspec": {
      "display_name": "Python 3 (ipykernel)",
      "language": "python",
      "name": "python3"
    },
    "language_info": {
      "codemirror_mode": {
        "name": "ipython",
        "version": 3
      },
      "file_extension": ".py",
      "mimetype": "text/x-python",
      "name": "python",
      "nbconvert_exporter": "python",
      "pygments_lexer": "ipython3",
      "version": "3.9.12"
    },
    "colab": {
      "provenance": []
    }
  },
  "nbformat": 4,
  "nbformat_minor": 5
}