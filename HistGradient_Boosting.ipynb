{
  "cells": [
    {
      "cell_type": "markdown",
      "id": "268d7c3c",
      "metadata": {
        "id": "268d7c3c"
      },
      "source": [
        "# Imports"
      ]
    },
    {
      "cell_type": "code",
      "execution_count": 1,
      "id": "621acb0a",
      "metadata": {
        "id": "621acb0a"
      },
      "outputs": [],
      "source": [
        "import pandas as pd\n",
        "import numpy as np\n",
        "from sklearn.preprocessing import StandardScaler\n",
        "from sklearn.pipeline import make_pipeline\n",
        "from sklearn.model_selection import GridSearchCV\n",
        "from sklearn.model_selection import RandomizedSearchCV\n",
        "from xgboost import plot_importance\n",
        "from sklearn.ensemble import HistGradientBoostingClassifier\n",
        "from sklearn.metrics import f1_score\n",
        "from sklearn.metrics import accuracy_score\n",
        "from sklearn.metrics import roc_auc_score\n",
        "from sklearn.metrics import average_precision_score"
      ]
    },
    {
      "cell_type": "markdown",
      "id": "916f1966",
      "metadata": {
        "id": "916f1966"
      },
      "source": [
        "# Data"
      ]
    },
    {
      "cell_type": "code",
      "execution_count": 2,
      "id": "e4548893",
      "metadata": {
        "id": "e4548893"
      },
      "outputs": [],
      "source": [
        "dev = pd.read_csv('Data/dev.csv')\n",
        "X_dev = dev.drop(columns=['hospital_death'])\n",
        "y_dev = dev['hospital_death']\n",
        "\n",
        "dev_us = pd.read_csv('Data/dev_us.csv')\n",
        "X_dev_us = dev_us.drop(columns=['hospital_death'])\n",
        "y_dev_us = dev_us['hospital_death']\n",
        "\n",
        "dev_os = pd.read_csv('Data/dev_os.csv')\n",
        "X_dev_os = dev_os.drop(columns=['hospital_death'])\n",
        "y_dev_os = dev_os['hospital_death']\n",
        "\n",
        "dev_smote = pd.read_csv('Data/dev_smote.csv')\n",
        "X_dev_smote = dev_smote.drop(columns=['hospital_death'])\n",
        "y_dev_smote = dev_smote['hospital_death']\n",
        "\n",
        "dev_pca95 = pd.read_pickle('Data/dev_pca95.pkl')\n",
        "X_dev_pca95 = dev_pca95.drop(columns=['hospital_death'])\n",
        "y_dev_pca95 = dev_pca95['hospital_death']\n",
        "\n",
        "dev_us_pca95 = pd.read_pickle('Data/dev_us_pca95.pkl')\n",
        "X_dev_us_pca95 = dev_us_pca95.drop(columns=['hospital_death'])\n",
        "y_dev_us_pca95 = dev_us_pca95['hospital_death']\n",
        "\n",
        "dev_os_pca95 = pd.read_pickle('Data/dev_os_pca95.pkl')\n",
        "X_dev_os_pca95 = dev_os_pca95.drop(columns=['hospital_death'])\n",
        "y_dev_os_pca95 = dev_os_pca95['hospital_death']\n",
        "\n",
        "dev_smote_pca95 = pd.read_pickle('Data/dev_smote_pca95.pkl')\n",
        "X_dev_smote_pca95 = dev_smote_pca95.drop(columns=['hospital_death'])\n",
        "y_dev_smote_pca95 = dev_smote_pca95['hospital_death']\n",
        "\n",
        "test = pd.read_csv(\"Data/test.csv\")\n",
        "X_test = test.drop(columns=['hospital_death'])\n",
        "y_test = test['hospital_death']\n",
        "\n",
        "test = pd.read_csv(\"Data/test_kmeans.csv\")\n",
        "X_test_kmeans = test.drop(columns=['hospital_death'])\n",
        "y_test_kmeans = test['hospital_death']\n",
        "\n",
        "test_pca95 = pd.read_pickle(\"Data/test_pca95.pkl\")\n",
        "X_test_pca95 = test_pca95.drop(columns=['hospital_death'])\n",
        "y_test_pca95 = test_pca95['hospital_death']\n",
        "\n",
        "test_us_pca95 = pd.read_pickle(\"Data/test_us_pca95.pkl\")\n",
        "X_test_us_pca95 = test_us_pca95.drop(columns=['hospital_death'])\n",
        "y_test_us_pca95 = test_us_pca95['hospital_death']\n",
        "\n",
        "test_os_pca95 = pd.read_pickle(\"Data/test_os_pca95.pkl\")\n",
        "X_test_os_pca95 = test_os_pca95.drop(columns=['hospital_death'])\n",
        "y_test_os_pca95 = test_os_pca95['hospital_death']\n",
        "\n",
        "test_smote_pca95 = pd.read_pickle(\"Data/test_smote_pca95.pkl\")\n",
        "X_test_smote_pca95 = test_smote_pca95.drop(columns=['hospital_death'])\n",
        "y_test_smote_pca95 = test_smote_pca95['hospital_death']\n",
        "\n",
        "data = {\n",
        "    \"original\": (X_dev, y_dev, X_test, y_test),\n",
        "    \"us\": (X_dev_us, y_dev_us, X_test, y_test),\n",
        "    \"os\": (X_dev_os, y_dev_os, X_test, y_test),\n",
        "    \"smote\": (X_dev_smote, y_dev_smote, X_test, y_test)\n",
        "}\n",
        "\n",
        "pca_data = {\n",
        "    \"pca95\": (X_dev_pca95, y_dev_pca95, X_test_pca95, y_test_pca95),\n",
        "    \"us_pca95\": (X_dev_us_pca95, y_dev_us_pca95, X_test_us_pca95, y_test_us_pca95),\n",
        "    \"os_pca95\": (X_dev_os_pca95, y_dev_os_pca95, X_test_os_pca95, y_test_os_pca95),\n",
        "    \"smote_pca95\": (X_dev_smote_pca95, y_dev_smote_pca95, X_test_smote_pca95, y_test_smote_pca95)\n",
        "}\n"
      ]
    },
    {
      "cell_type": "markdown",
      "id": "959d0cb3",
      "metadata": {
        "id": "959d0cb3"
      },
      "source": [
        "# HistGradient Boosting"
      ]
    },
    {
      "cell_type": "markdown",
      "source": [
        "##Default Settings"
      ],
      "metadata": {
        "id": "jVyeUBsLfmP2"
      },
      "id": "jVyeUBsLfmP2"
    },
    {
      "cell_type": "code",
      "source": [
        "hgb_pipe = make_pipeline(StandardScaler(), HistGradientBoostingClassifier())\n",
        "\n",
        "for key in data.keys():\n",
        "    hgb_pipe.fit(data[key][0], data[key][1])\n",
        "    y_pred=hgb_pipe.predict(data[key][2])\n",
        "    print(\"Histgradient Boosting / {} [Accuracy]: {}\".format(key, accuracy_score(data[key][3], y_pred)))\n",
        "    print(\"Histgradient Boosting / {} [Average Precision]: {}\".format(key, average_precision_score(data[key][3], y_pred)))\n",
        "    print(\"Histgradient Boosting / {} [ROC AUC]: {}\".format(key, roc_auc_score(data[key][3], y_pred)))\n",
        "    print(\"Histgradient Boosting / {} [F1]: {}\".format(key, f1_score(data[key][3], y_pred)))"
      ],
      "metadata": {
        "colab": {
          "base_uri": "https://localhost:8080/"
        },
        "id": "dJ18EeS6fliC",
        "outputId": "a09ad790-f17d-432a-87af-6f701eda1be2"
      },
      "id": "dJ18EeS6fliC",
      "execution_count": null,
      "outputs": [
        {
          "output_type": "stream",
          "name": "stdout",
          "text": [
            "Histgradient Boosting / original [Accuracy]: 0.9297279616202366\n",
            "Histgradient Boosting / original [Average Precision]: 0.2871380829602554\n",
            "Histgradient Boosting / original [ROC AUC]: 0.6577888838298328\n",
            "Histgradient Boosting / original [F1]: 0.44701844701844706\n",
            "Histgradient Boosting / us [Accuracy]: 0.8103363680968216\n",
            "Histgradient Boosting / us [Average Precision]: 0.2459358395703593\n",
            "Histgradient Boosting / us [ROC AUC]: 0.8055419153686921\n",
            "Histgradient Boosting / us [F1]: 0.4212277491266012\n",
            "Histgradient Boosting / os [Accuracy]: 0.8369405222700758\n",
            "Histgradient Boosting / os [Average Precision]: 0.26523049387709935\n",
            "Histgradient Boosting / os [ROC AUC]: 0.8083734435235956\n",
            "Histgradient Boosting / os [F1]: 0.45028487410402496\n",
            "Histgradient Boosting / smote [Accuracy]: 0.9281469770484654\n",
            "Histgradient Boosting / smote [Average Precision]: 0.29493170981878775\n",
            "Histgradient Boosting / smote [ROC AUC]: 0.6772313641208724\n",
            "Histgradient Boosting / smote [F1]: 0.47322142286171054\n"
          ]
        }
      ]
    },
    {
      "cell_type": "markdown",
      "source": [
        "###PCA dataset"
      ],
      "metadata": {
        "id": "j9NW4Q_-gJPN"
      },
      "id": "j9NW4Q_-gJPN"
    },
    {
      "cell_type": "code",
      "source": [
        "hgb_pca_pipe = make_pipeline(StandardScaler(), HistGradientBoostingClassifier())\n",
        "\n",
        "for key in pca_data.keys():\n",
        "    hgb_pca_pipe.fit(pca_data[key][0], pca_data[key][1])\n",
        "    y_pred=hgb_pca_pipe.predict(pca_data[key][2])\n",
        "    print(\"Histgradient Boosting with PCA / {} [Accuracy]: {}\".format(key, accuracy_score(pca_data[key][3], y_pred)))\n",
        "    print(\"Histgradient Boosting with PCA / {} [Average Precision]: {}\".format(key, average_precision_score(pca_data[key][3], y_pred)))\n",
        "    print(\"Histgradient Boosting with PCA / {} [ROC AUC]: {}\".format(key, roc_auc_score(pca_data[key][3], y_pred)))\n",
        "    print(\"Histgradient Boosting with PCA / {} [F1]: {}\".format(key, f1_score(pca_data[key][3], y_pred)))"
      ],
      "metadata": {
        "colab": {
          "base_uri": "https://localhost:8080/",
          "height": 565
        },
        "id": "kK1r_IV6f4-C",
        "outputId": "4d5a6990-04d8-46d5-c957-ac9ee6c3bfdd"
      },
      "id": "kK1r_IV6f4-C",
      "execution_count": null,
      "outputs": [
        {
          "output_type": "stream",
          "name": "stdout",
          "text": [
            "Histgradient Boosting with PCA / pca95 [Accuracy]: 0.9265659924766941\n",
            "Histgradient Boosting with PCA / pca95 [Average Precision]: 0.2548639013800929\n",
            "Histgradient Boosting with PCA / pca95 [ROC AUC]: 0.6363229842132322\n",
            "Histgradient Boosting with PCA / pca95 [F1]: 0.40159928920479787\n",
            "Histgradient Boosting with PCA / us_pca95 [Accuracy]: 0.9137000490650384\n",
            "Histgradient Boosting with PCA / us_pca95 [Average Precision]: 0.08629995093496157\n",
            "Histgradient Boosting with PCA / us_pca95 [ROC AUC]: 0.5\n",
            "Histgradient Boosting with PCA / us_pca95 [F1]: 0.0\n"
          ]
        },
        {
          "output_type": "stream",
          "name": "stderr",
          "text": [
            "/usr/local/lib/python3.8/dist-packages/sklearn/base.py:450: UserWarning: X does not have valid feature names, but StandardScaler was fitted with feature names\n",
            "  warnings.warn(\n"
          ]
        },
        {
          "output_type": "error",
          "ename": "ValueError",
          "evalue": "ignored",
          "traceback": [
            "\u001b[0;31m---------------------------------------------------------------------------\u001b[0m",
            "\u001b[0;31mValueError\u001b[0m                                Traceback (most recent call last)",
            "\u001b[0;32m<ipython-input-5-c28410cc625a>\u001b[0m in \u001b[0;36m<module>\u001b[0;34m\u001b[0m\n\u001b[1;32m      3\u001b[0m \u001b[0;32mfor\u001b[0m \u001b[0mkey\u001b[0m \u001b[0;32min\u001b[0m \u001b[0mpca_data\u001b[0m\u001b[0;34m.\u001b[0m\u001b[0mkeys\u001b[0m\u001b[0;34m(\u001b[0m\u001b[0;34m)\u001b[0m\u001b[0;34m:\u001b[0m\u001b[0;34m\u001b[0m\u001b[0;34m\u001b[0m\u001b[0m\n\u001b[1;32m      4\u001b[0m     \u001b[0mhgb_pca_pipe\u001b[0m\u001b[0;34m.\u001b[0m\u001b[0mfit\u001b[0m\u001b[0;34m(\u001b[0m\u001b[0mpca_data\u001b[0m\u001b[0;34m[\u001b[0m\u001b[0mkey\u001b[0m\u001b[0;34m]\u001b[0m\u001b[0;34m[\u001b[0m\u001b[0;36m0\u001b[0m\u001b[0;34m]\u001b[0m\u001b[0;34m,\u001b[0m \u001b[0mpca_data\u001b[0m\u001b[0;34m[\u001b[0m\u001b[0mkey\u001b[0m\u001b[0;34m]\u001b[0m\u001b[0;34m[\u001b[0m\u001b[0;36m1\u001b[0m\u001b[0;34m]\u001b[0m\u001b[0;34m)\u001b[0m\u001b[0;34m\u001b[0m\u001b[0;34m\u001b[0m\u001b[0m\n\u001b[0;32m----> 5\u001b[0;31m     \u001b[0my_pred\u001b[0m\u001b[0;34m=\u001b[0m\u001b[0mhgb_pca_pipe\u001b[0m\u001b[0;34m.\u001b[0m\u001b[0mpredict\u001b[0m\u001b[0;34m(\u001b[0m\u001b[0mpca_data\u001b[0m\u001b[0;34m[\u001b[0m\u001b[0mkey\u001b[0m\u001b[0;34m]\u001b[0m\u001b[0;34m[\u001b[0m\u001b[0;36m2\u001b[0m\u001b[0;34m]\u001b[0m\u001b[0;34m)\u001b[0m\u001b[0;34m\u001b[0m\u001b[0;34m\u001b[0m\u001b[0m\n\u001b[0m\u001b[1;32m      6\u001b[0m     \u001b[0mprint\u001b[0m\u001b[0;34m(\u001b[0m\u001b[0;34m\"Histgradient Boosting with PCA / {} [Accuracy]: {}\"\u001b[0m\u001b[0;34m.\u001b[0m\u001b[0mformat\u001b[0m\u001b[0;34m(\u001b[0m\u001b[0mkey\u001b[0m\u001b[0;34m,\u001b[0m \u001b[0maccuracy_score\u001b[0m\u001b[0;34m(\u001b[0m\u001b[0mpca_data\u001b[0m\u001b[0;34m[\u001b[0m\u001b[0mkey\u001b[0m\u001b[0;34m]\u001b[0m\u001b[0;34m[\u001b[0m\u001b[0;36m3\u001b[0m\u001b[0;34m]\u001b[0m\u001b[0;34m,\u001b[0m \u001b[0my_pred\u001b[0m\u001b[0;34m)\u001b[0m\u001b[0;34m)\u001b[0m\u001b[0;34m)\u001b[0m\u001b[0;34m\u001b[0m\u001b[0;34m\u001b[0m\u001b[0m\n\u001b[1;32m      7\u001b[0m     \u001b[0mprint\u001b[0m\u001b[0;34m(\u001b[0m\u001b[0;34m\"Histgradient Boosting with PCA / {} [Average Precision]: {}\"\u001b[0m\u001b[0;34m.\u001b[0m\u001b[0mformat\u001b[0m\u001b[0;34m(\u001b[0m\u001b[0mkey\u001b[0m\u001b[0;34m,\u001b[0m \u001b[0maverage_precision_score\u001b[0m\u001b[0;34m(\u001b[0m\u001b[0mpca_data\u001b[0m\u001b[0;34m[\u001b[0m\u001b[0mkey\u001b[0m\u001b[0;34m]\u001b[0m\u001b[0;34m[\u001b[0m\u001b[0;36m3\u001b[0m\u001b[0;34m]\u001b[0m\u001b[0;34m,\u001b[0m \u001b[0my_pred\u001b[0m\u001b[0;34m)\u001b[0m\u001b[0;34m)\u001b[0m\u001b[0;34m)\u001b[0m\u001b[0;34m\u001b[0m\u001b[0;34m\u001b[0m\u001b[0m\n",
            "\u001b[0;32m/usr/local/lib/python3.8/dist-packages/sklearn/utils/metaestimators.py\u001b[0m in \u001b[0;36m<lambda>\u001b[0;34m(*args, **kwargs)\u001b[0m\n\u001b[1;32m    111\u001b[0m \u001b[0;34m\u001b[0m\u001b[0m\n\u001b[1;32m    112\u001b[0m             \u001b[0;31m# lambda, but not partial, allows help() to work with update_wrapper\u001b[0m\u001b[0;34m\u001b[0m\u001b[0;34m\u001b[0m\u001b[0;34m\u001b[0m\u001b[0m\n\u001b[0;32m--> 113\u001b[0;31m             \u001b[0mout\u001b[0m \u001b[0;34m=\u001b[0m \u001b[0;32mlambda\u001b[0m \u001b[0;34m*\u001b[0m\u001b[0margs\u001b[0m\u001b[0;34m,\u001b[0m \u001b[0;34m**\u001b[0m\u001b[0mkwargs\u001b[0m\u001b[0;34m:\u001b[0m \u001b[0mself\u001b[0m\u001b[0;34m.\u001b[0m\u001b[0mfn\u001b[0m\u001b[0;34m(\u001b[0m\u001b[0mobj\u001b[0m\u001b[0;34m,\u001b[0m \u001b[0;34m*\u001b[0m\u001b[0margs\u001b[0m\u001b[0;34m,\u001b[0m \u001b[0;34m**\u001b[0m\u001b[0mkwargs\u001b[0m\u001b[0;34m)\u001b[0m  \u001b[0;31m# noqa\u001b[0m\u001b[0;34m\u001b[0m\u001b[0;34m\u001b[0m\u001b[0m\n\u001b[0m\u001b[1;32m    114\u001b[0m         \u001b[0;32melse\u001b[0m\u001b[0;34m:\u001b[0m\u001b[0;34m\u001b[0m\u001b[0;34m\u001b[0m\u001b[0m\n\u001b[1;32m    115\u001b[0m \u001b[0;34m\u001b[0m\u001b[0m\n",
            "\u001b[0;32m/usr/local/lib/python3.8/dist-packages/sklearn/pipeline.py\u001b[0m in \u001b[0;36mpredict\u001b[0;34m(self, X, **predict_params)\u001b[0m\n\u001b[1;32m    467\u001b[0m         \u001b[0mXt\u001b[0m \u001b[0;34m=\u001b[0m \u001b[0mX\u001b[0m\u001b[0;34m\u001b[0m\u001b[0;34m\u001b[0m\u001b[0m\n\u001b[1;32m    468\u001b[0m         \u001b[0;32mfor\u001b[0m \u001b[0m_\u001b[0m\u001b[0;34m,\u001b[0m \u001b[0mname\u001b[0m\u001b[0;34m,\u001b[0m \u001b[0mtransform\u001b[0m \u001b[0;32min\u001b[0m \u001b[0mself\u001b[0m\u001b[0;34m.\u001b[0m\u001b[0m_iter\u001b[0m\u001b[0;34m(\u001b[0m\u001b[0mwith_final\u001b[0m\u001b[0;34m=\u001b[0m\u001b[0;32mFalse\u001b[0m\u001b[0;34m)\u001b[0m\u001b[0;34m:\u001b[0m\u001b[0;34m\u001b[0m\u001b[0;34m\u001b[0m\u001b[0m\n\u001b[0;32m--> 469\u001b[0;31m             \u001b[0mXt\u001b[0m \u001b[0;34m=\u001b[0m \u001b[0mtransform\u001b[0m\u001b[0;34m.\u001b[0m\u001b[0mtransform\u001b[0m\u001b[0;34m(\u001b[0m\u001b[0mXt\u001b[0m\u001b[0;34m)\u001b[0m\u001b[0;34m\u001b[0m\u001b[0;34m\u001b[0m\u001b[0m\n\u001b[0m\u001b[1;32m    470\u001b[0m         \u001b[0;32mreturn\u001b[0m \u001b[0mself\u001b[0m\u001b[0;34m.\u001b[0m\u001b[0msteps\u001b[0m\u001b[0;34m[\u001b[0m\u001b[0;34m-\u001b[0m\u001b[0;36m1\u001b[0m\u001b[0;34m]\u001b[0m\u001b[0;34m[\u001b[0m\u001b[0;36m1\u001b[0m\u001b[0;34m]\u001b[0m\u001b[0;34m.\u001b[0m\u001b[0mpredict\u001b[0m\u001b[0;34m(\u001b[0m\u001b[0mXt\u001b[0m\u001b[0;34m,\u001b[0m \u001b[0;34m**\u001b[0m\u001b[0mpredict_params\u001b[0m\u001b[0;34m)\u001b[0m\u001b[0;34m\u001b[0m\u001b[0;34m\u001b[0m\u001b[0m\n\u001b[1;32m    471\u001b[0m \u001b[0;34m\u001b[0m\u001b[0m\n",
            "\u001b[0;32m/usr/local/lib/python3.8/dist-packages/sklearn/preprocessing/_data.py\u001b[0m in \u001b[0;36mtransform\u001b[0;34m(self, X, copy)\u001b[0m\n\u001b[1;32m    971\u001b[0m \u001b[0;34m\u001b[0m\u001b[0m\n\u001b[1;32m    972\u001b[0m         \u001b[0mcopy\u001b[0m \u001b[0;34m=\u001b[0m \u001b[0mcopy\u001b[0m \u001b[0;32mif\u001b[0m \u001b[0mcopy\u001b[0m \u001b[0;32mis\u001b[0m \u001b[0;32mnot\u001b[0m \u001b[0;32mNone\u001b[0m \u001b[0;32melse\u001b[0m \u001b[0mself\u001b[0m\u001b[0;34m.\u001b[0m\u001b[0mcopy\u001b[0m\u001b[0;34m\u001b[0m\u001b[0;34m\u001b[0m\u001b[0m\n\u001b[0;32m--> 973\u001b[0;31m         X = self._validate_data(\n\u001b[0m\u001b[1;32m    974\u001b[0m             \u001b[0mX\u001b[0m\u001b[0;34m,\u001b[0m\u001b[0;34m\u001b[0m\u001b[0;34m\u001b[0m\u001b[0m\n\u001b[1;32m    975\u001b[0m             \u001b[0mreset\u001b[0m\u001b[0;34m=\u001b[0m\u001b[0;32mFalse\u001b[0m\u001b[0;34m,\u001b[0m\u001b[0;34m\u001b[0m\u001b[0;34m\u001b[0m\u001b[0m\n",
            "\u001b[0;32m/usr/local/lib/python3.8/dist-packages/sklearn/base.py\u001b[0m in \u001b[0;36m_validate_data\u001b[0;34m(self, X, y, reset, validate_separately, **check_params)\u001b[0m\n\u001b[1;32m    583\u001b[0m \u001b[0;34m\u001b[0m\u001b[0m\n\u001b[1;32m    584\u001b[0m         \u001b[0;32mif\u001b[0m \u001b[0;32mnot\u001b[0m \u001b[0mno_val_X\u001b[0m \u001b[0;32mand\u001b[0m \u001b[0mcheck_params\u001b[0m\u001b[0;34m.\u001b[0m\u001b[0mget\u001b[0m\u001b[0;34m(\u001b[0m\u001b[0;34m\"ensure_2d\"\u001b[0m\u001b[0;34m,\u001b[0m \u001b[0;32mTrue\u001b[0m\u001b[0;34m)\u001b[0m\u001b[0;34m:\u001b[0m\u001b[0;34m\u001b[0m\u001b[0;34m\u001b[0m\u001b[0m\n\u001b[0;32m--> 585\u001b[0;31m             \u001b[0mself\u001b[0m\u001b[0;34m.\u001b[0m\u001b[0m_check_n_features\u001b[0m\u001b[0;34m(\u001b[0m\u001b[0mX\u001b[0m\u001b[0;34m,\u001b[0m \u001b[0mreset\u001b[0m\u001b[0;34m=\u001b[0m\u001b[0mreset\u001b[0m\u001b[0;34m)\u001b[0m\u001b[0;34m\u001b[0m\u001b[0;34m\u001b[0m\u001b[0m\n\u001b[0m\u001b[1;32m    586\u001b[0m \u001b[0;34m\u001b[0m\u001b[0m\n\u001b[1;32m    587\u001b[0m         \u001b[0;32mreturn\u001b[0m \u001b[0mout\u001b[0m\u001b[0;34m\u001b[0m\u001b[0;34m\u001b[0m\u001b[0m\n",
            "\u001b[0;32m/usr/local/lib/python3.8/dist-packages/sklearn/base.py\u001b[0m in \u001b[0;36m_check_n_features\u001b[0;34m(self, X, reset)\u001b[0m\n\u001b[1;32m    398\u001b[0m \u001b[0;34m\u001b[0m\u001b[0m\n\u001b[1;32m    399\u001b[0m         \u001b[0;32mif\u001b[0m \u001b[0mn_features\u001b[0m \u001b[0;34m!=\u001b[0m \u001b[0mself\u001b[0m\u001b[0;34m.\u001b[0m\u001b[0mn_features_in_\u001b[0m\u001b[0;34m:\u001b[0m\u001b[0;34m\u001b[0m\u001b[0;34m\u001b[0m\u001b[0m\n\u001b[0;32m--> 400\u001b[0;31m             raise ValueError(\n\u001b[0m\u001b[1;32m    401\u001b[0m                 \u001b[0;34mf\"X has {n_features} features, but {self.__class__.__name__} \"\u001b[0m\u001b[0;34m\u001b[0m\u001b[0;34m\u001b[0m\u001b[0m\n\u001b[1;32m    402\u001b[0m                 \u001b[0;34mf\"is expecting {self.n_features_in_} features as input.\"\u001b[0m\u001b[0;34m\u001b[0m\u001b[0;34m\u001b[0m\u001b[0m\n",
            "\u001b[0;31mValueError\u001b[0m: X has 47 features, but StandardScaler is expecting 66 features as input."
          ]
        }
      ]
    },
    {
      "cell_type": "markdown",
      "source": [
        "##Hyperparameter Tuning"
      ],
      "metadata": {
        "id": "1mTmX5bifvKM"
      },
      "id": "1mTmX5bifvKM"
    },
    {
      "cell_type": "markdown",
      "source": [
        "###Tuning all 4 datasets"
      ],
      "metadata": {
        "id": "MKBjJSR3fQiV"
      },
      "id": "MKBjJSR3fQiV"
    },
    {
      "cell_type": "code",
      "source": [
        "hgb_params = {\n",
        "    'histgradientboostingclassifier__max_depth': [10, 20, 30, 40, 50, 60, 70, 80, 90, 100, None],\n",
        "    'histgradientboostingclassifier__min_samples_leaf': [1, 2, 4],\n",
        "    'histgradientboostingclassifier__learning_rate': [0.01,0.1,1,10],\n",
        "    'histgradientboostingclassifier__max_bins': [100, 150, 200, 255]\n",
        "}\n",
        "\n",
        "hgb_pipe = make_pipeline(StandardScaler(), HistGradientBoostingClassifier())\n",
        "hgb_grid= RandomizedSearchCV(hgb_pipe, hgb_params, n_iter = 50, cv = 2, scoring='accuracy', refit=True, n_jobs = -1)\n",
        "\n",
        "for key in data.keys():\n",
        "    hgb_grid.fit(data[key][0], data[key][1])\n",
        "    y_pred=hgb_grid.predict(data[key][2])\n",
        "    print(\"Histgradient Boosting / {} [Accuracy]: {}\".format(key, accuracy_score(data[key][3], y_pred)))\n",
        "    print(\"Histgradient Boosting / {} [Average Precision]: {}\".format(key, average_precision_score(data[key][3], y_pred)))\n",
        "    print(\"Histgradient Boosting / {} [ROC AUC]: {}\".format(key, roc_auc_score(data[key][3], y_pred)))\n",
        "    print(\"Histgradient Boosting / {} [F1]: {}\".format(key, f1_score(data[key][3], y_pred)))"
      ],
      "metadata": {
        "colab": {
          "base_uri": "https://localhost:8080/"
        },
        "id": "V9fgFTWU9BKd",
        "outputId": "736d1996-f68f-429c-a73a-32454d66563d"
      },
      "id": "V9fgFTWU9BKd",
      "execution_count": null,
      "outputs": [
        {
          "output_type": "stream",
          "name": "stdout",
          "text": [
            "Histgradient Boosting / original [Accuracy]: 0.9294553780733795\n",
            "Histgradient Boosting / original [Average Precision]: 0.28734214720573076\n",
            "Histgradient Boosting / original [ROC AUC]: 0.6599279034249643\n",
            "Histgradient Boosting / original [F1]: 0.4498299319727891\n",
            "Histgradient Boosting / us [Accuracy]: 0.8103363680968216\n",
            "Histgradient Boosting / us [Average Precision]: 0.24756494485229902\n",
            "Histgradient Boosting / us [ROC AUC]: 0.8078300996416278\n",
            "Histgradient Boosting / us [F1]: 0.42276422764227645\n",
            "Histgradient Boosting / os [Accuracy]: 0.8415744425666467\n",
            "Histgradient Boosting / os [Average Precision]: 0.21725292408360292\n",
            "Histgradient Boosting / os [ROC AUC]: 0.7402615536193776\n",
            "Histgradient Boosting / os [F1]: 0.402303578774167\n",
            "Histgradient Boosting / smote [Accuracy]: 0.9278743935016083\n",
            "Histgradient Boosting / smote [Average Precision]: 0.29481109920233084\n",
            "Histgradient Boosting / smote [ROC AUC]: 0.6785123146136531\n",
            "Histgradient Boosting / smote [F1]: 0.4743742550655543\n"
          ]
        }
      ]
    },
    {
      "cell_type": "markdown",
      "source": [
        "#####Tuning with different scoring"
      ],
      "metadata": {
        "id": "mBV_u6mDfY75"
      },
      "id": "mBV_u6mDfY75"
    },
    {
      "cell_type": "code",
      "execution_count": null,
      "id": "70ffd2b4",
      "metadata": {
        "id": "70ffd2b4",
        "outputId": "62ce6426-7fd1-4b7e-92a8-f80b95d77636",
        "colab": {
          "base_uri": "https://localhost:8080/"
        }
      },
      "outputs": [
        {
          "output_type": "stream",
          "name": "stdout",
          "text": [
            "Histgradient Boosting / original [Accuracy]: 0.9284195605953225\n",
            "Histgradient Boosting / original [Average Precision]: 0.5500386574240925\n",
            "Histgradient Boosting / original [ROC AUC]: 0.8930389565747041\n",
            "Histgradient Boosting / original [F1]: 0.4453746337379657\n",
            "Histgradient Boosting / us [Accuracy]: 0.8075014992095078\n",
            "Histgradient Boosting / us [Average Precision]: 0.5396137523235867\n",
            "Histgradient Boosting / us [ROC AUC]: 0.890015031427292\n",
            "Histgradient Boosting / us [F1]: 0.4197080291970803\n",
            "Histgradient Boosting / os [Accuracy]: 0.8391757073543041\n",
            "Histgradient Boosting / os [Average Precision]: 0.5402645394611757\n",
            "Histgradient Boosting / os [ROC AUC]: 0.895087308922215\n",
            "Histgradient Boosting / os [F1]: 0.4021121039805036\n",
            "Histgradient Boosting / smote [Accuracy]: 0.927056642861037\n",
            "Histgradient Boosting / smote [Average Precision]: 0.5396141268502195\n",
            "Histgradient Boosting / smote [ROC AUC]: 0.8909065518629472\n",
            "Histgradient Boosting / smote [F1]: 0.4814090019569472\n"
          ]
        }
      ],
      "source": [
        "hgb_params = {\n",
        "    'histgradientboostingclassifier__max_depth': [10, 20, 30, 40, 50, 60, 70, 80, 90, 100, None],\n",
        "    'histgradientboostingclassifier__min_samples_leaf': [1, 2, 4],\n",
        "    'histgradientboostingclassifier__learning_rate': [0.01,0.1,1,10],\n",
        "    'histgradientboostingclassifier__max_bins': [100, 150, 200, 255]\n",
        "}\n",
        "\n",
        "hgb_pipe = make_pipeline(StandardScaler(), HistGradientBoostingClassifier())\n",
        "hgb_grid_accuracy = RandomizedSearchCV(hgb_pipe, hgb_params, n_iter = 50, cv = 2, scoring='accuracy', refit=True, n_jobs = -1)\n",
        "hgb_grid_ap = RandomizedSearchCV(hgb_pipe, hgb_params, n_iter = 50, cv = 2, scoring='average_precision', refit=True, n_jobs = -1)\n",
        "hgb_grid_auc = RandomizedSearchCV(hgb_pipe, hgb_params, n_iter = 50, cv = 2, scoring='roc_auc', refit=True, n_jobs = -1)\n",
        "hgb_grid_f1 = RandomizedSearchCV(hgb_pipe, hgb_params, n_iter = 50, cv = 2, scoring='f1', refit=True, n_jobs = -1)\n",
        "\n",
        "for key in data.keys():\n",
        "    hgb_grid_accuracy.fit(data[key][0], data[key][1])\n",
        "    print(\"Histgradient Boosting / {} [Accuracy]: {}\".format(key, hgb_grid_accuracy.score(data[key][2], data[key][3])))\n",
        "    hgb_grid_ap.fit(data[key][0], data[key][1])\n",
        "    print(\"Histgradient Boosting / {} [Average Precision]: {}\".format(key, hgb_grid_ap.score(data[key][2], data[key][3])))\n",
        "    hgb_grid_auc.fit(data[key][0], data[key][1])\n",
        "    print(\"Histgradient Boosting / {} [ROC AUC]: {}\".format(key, hgb_grid_auc.score(data[key][2], data[key][3])))\n",
        "    hgb_grid_f1.fit(data[key][0], data[key][1])\n",
        "    print(\"Histgradient Boosting / {} [F1]: {}\".format(key, hgb_grid_f1.score(data[key][2], data[key][3])))\n"
      ]
    },
    {
      "cell_type": "code",
      "source": [
        "for key in data.keys():\n",
        "  print(\"Histgradient Boosting / {} [Accuracy]: {}\".format(key, hgb_grid_accuracy.best_params_))\n",
        "  print(\"Histgradient Boosting / {} [Average Precision]: {}\".format(key, hgb_grid_ap.best_params_))\n",
        "  print(\"Histgradient Boosting / {} [ROC AUC]: {}\".format(key, hgb_grid_auc.best_params_))\n",
        "  print(\"Histgradient Boosting / {} [F1]: {}\".format(key, hgb_grid_f1.best_params_))\n",
        "\n",
        "for key in data.keys():\n",
        "  print(\"Histgradient Boosting / {} : {}\".format(key, hgb_grid.best_params_))\n"
      ],
      "metadata": {
        "colab": {
          "base_uri": "https://localhost:8080/"
        },
        "id": "Coo3VrnD8dH4",
        "outputId": "8af9e46f-873e-40ea-f8e3-c7bbe2b89ce8"
      },
      "id": "Coo3VrnD8dH4",
      "execution_count": null,
      "outputs": [
        {
          "output_type": "stream",
          "name": "stdout",
          "text": [
            "Histgradient Boosting / original [Accuracy]: {'histgradientboostingclassifier__min_samples_leaf': 1, 'histgradientboostingclassifier__max_depth': 10, 'histgradientboostingclassifier__max_bins': 200, 'histgradientboostingclassifier__learning_rate': 0.1}\n",
            "Histgradient Boosting / original [Average Precision]: {'histgradientboostingclassifier__min_samples_leaf': 2, 'histgradientboostingclassifier__max_depth': 10, 'histgradientboostingclassifier__max_bins': 255, 'histgradientboostingclassifier__learning_rate': 0.1}\n",
            "Histgradient Boosting / original [ROC AUC]: {'histgradientboostingclassifier__min_samples_leaf': 4, 'histgradientboostingclassifier__max_depth': 50, 'histgradientboostingclassifier__max_bins': 255, 'histgradientboostingclassifier__learning_rate': 0.1}\n",
            "Histgradient Boosting / original [F1]: {'histgradientboostingclassifier__min_samples_leaf': 2, 'histgradientboostingclassifier__max_depth': 10, 'histgradientboostingclassifier__max_bins': 255, 'histgradientboostingclassifier__learning_rate': 0.1}\n",
            "Histgradient Boosting / us [Accuracy]: {'histgradientboostingclassifier__min_samples_leaf': 1, 'histgradientboostingclassifier__max_depth': 10, 'histgradientboostingclassifier__max_bins': 200, 'histgradientboostingclassifier__learning_rate': 0.1}\n",
            "Histgradient Boosting / us [Average Precision]: {'histgradientboostingclassifier__min_samples_leaf': 2, 'histgradientboostingclassifier__max_depth': 10, 'histgradientboostingclassifier__max_bins': 255, 'histgradientboostingclassifier__learning_rate': 0.1}\n",
            "Histgradient Boosting / us [ROC AUC]: {'histgradientboostingclassifier__min_samples_leaf': 4, 'histgradientboostingclassifier__max_depth': 50, 'histgradientboostingclassifier__max_bins': 255, 'histgradientboostingclassifier__learning_rate': 0.1}\n",
            "Histgradient Boosting / us [F1]: {'histgradientboostingclassifier__min_samples_leaf': 2, 'histgradientboostingclassifier__max_depth': 10, 'histgradientboostingclassifier__max_bins': 255, 'histgradientboostingclassifier__learning_rate': 0.1}\n",
            "Histgradient Boosting / os [Accuracy]: {'histgradientboostingclassifier__min_samples_leaf': 1, 'histgradientboostingclassifier__max_depth': 10, 'histgradientboostingclassifier__max_bins': 200, 'histgradientboostingclassifier__learning_rate': 0.1}\n",
            "Histgradient Boosting / os [Average Precision]: {'histgradientboostingclassifier__min_samples_leaf': 2, 'histgradientboostingclassifier__max_depth': 10, 'histgradientboostingclassifier__max_bins': 255, 'histgradientboostingclassifier__learning_rate': 0.1}\n",
            "Histgradient Boosting / os [ROC AUC]: {'histgradientboostingclassifier__min_samples_leaf': 4, 'histgradientboostingclassifier__max_depth': 50, 'histgradientboostingclassifier__max_bins': 255, 'histgradientboostingclassifier__learning_rate': 0.1}\n",
            "Histgradient Boosting / os [F1]: {'histgradientboostingclassifier__min_samples_leaf': 2, 'histgradientboostingclassifier__max_depth': 10, 'histgradientboostingclassifier__max_bins': 255, 'histgradientboostingclassifier__learning_rate': 0.1}\n",
            "Histgradient Boosting / smote [Accuracy]: {'histgradientboostingclassifier__min_samples_leaf': 1, 'histgradientboostingclassifier__max_depth': 10, 'histgradientboostingclassifier__max_bins': 200, 'histgradientboostingclassifier__learning_rate': 0.1}\n",
            "Histgradient Boosting / smote [Average Precision]: {'histgradientboostingclassifier__min_samples_leaf': 2, 'histgradientboostingclassifier__max_depth': 10, 'histgradientboostingclassifier__max_bins': 255, 'histgradientboostingclassifier__learning_rate': 0.1}\n",
            "Histgradient Boosting / smote [ROC AUC]: {'histgradientboostingclassifier__min_samples_leaf': 4, 'histgradientboostingclassifier__max_depth': 50, 'histgradientboostingclassifier__max_bins': 255, 'histgradientboostingclassifier__learning_rate': 0.1}\n",
            "Histgradient Boosting / smote [F1]: {'histgradientboostingclassifier__min_samples_leaf': 2, 'histgradientboostingclassifier__max_depth': 10, 'histgradientboostingclassifier__max_bins': 255, 'histgradientboostingclassifier__learning_rate': 0.1}\n"
          ]
        }
      ]
    },
    {
      "cell_type": "markdown",
      "source": [
        "###Tuning Original"
      ],
      "metadata": {
        "id": "z6JDanIMfgmz"
      },
      "id": "z6JDanIMfgmz"
    },
    {
      "cell_type": "code",
      "source": [
        "hgb_params = {\n",
        "    'histgradientboostingclassifier__max_depth': [10, 20, 30, 40, 50, 60, 70, 80, 90, 100, None],\n",
        "    'histgradientboostingclassifier__min_samples_leaf': [1, 2, 4],\n",
        "    'histgradientboostingclassifier__learning_rate': [0.01,0.1,1,10],\n",
        "    'histgradientboostingclassifier__max_bins': [100, 150, 200, 255]\n",
        "}\n",
        "\n",
        "original_hgb_pipe = make_pipeline(StandardScaler(), HistGradientBoostingClassifier())\n",
        "original_hgb_grid= RandomizedSearchCV(original_hgb_pipe, hgb_params, n_iter = 100, cv = None, scoring='accuracy', refit=True, n_jobs = -1)\n",
        "\n",
        "for key in data.keys():\n",
        "  if key=='original':\n",
        "      original_hgb_grid.fit(data[key][0], data[key][1])\n",
        "      original_y_pred=original_hgb_grid.predict(data[key][2])\n",
        "      print(\"Histgradient Boosting / {} [Accuracy]: {}\".format(key, accuracy_score(data[key][3], original_y_pred)))\n",
        "      print(\"Histgradient Boosting / {} [Average Precision]: {}\".format(key, average_precision_score(data[key][3], original_y_pred)))\n",
        "      print(\"Histgradient Boosting / {} [ROC AUC]: {}\".format(key, roc_auc_score(data[key][3], original_y_pred)))\n",
        "      print(\"Histgradient Boosting / {} [F1]: {}\".format(key, f1_score(data[key][3], original_y_pred)))"
      ],
      "metadata": {
        "colab": {
          "base_uri": "https://localhost:8080/"
        },
        "id": "TQc9mNqRURmJ",
        "outputId": "79290ea2-a3d1-474a-e2d3-de5d2fe1c2c9"
      },
      "id": "TQc9mNqRURmJ",
      "execution_count": 4,
      "outputs": [
        {
          "output_type": "stream",
          "name": "stdout",
          "text": [
            "Histgradient Boosting / original [Accuracy]: 0.9292918279452652\n",
            "Histgradient Boosting / original [Average Precision]: 0.286013297707298\n",
            "Histgradient Boosting / original [ROC AUC]: 0.6592663585500478\n",
            "Histgradient Boosting / original [F1]: 0.44831986388770734\n"
          ]
        }
      ]
    },
    {
      "cell_type": "code",
      "source": [
        "for key in data.keys():\n",
        "  if key=='original':\n",
        "    print(\"Histgradient Boosting / {} : {}\".format(key, original_hgb_grid.best_params_))"
      ],
      "metadata": {
        "colab": {
          "base_uri": "https://localhost:8080/"
        },
        "id": "hD2wTV1QVmnE",
        "outputId": "a995f8c7-6e24-4004-a72d-7af7734d8adb"
      },
      "id": "hD2wTV1QVmnE",
      "execution_count": 5,
      "outputs": [
        {
          "output_type": "stream",
          "name": "stdout",
          "text": [
            "Histgradient Boosting / original : {'histgradientboostingclassifier__min_samples_leaf': 4, 'histgradientboostingclassifier__max_depth': 90, 'histgradientboostingclassifier__max_bins': 200, 'histgradientboostingclassifier__learning_rate': 0.1}\n"
          ]
        }
      ]
    },
    {
      "cell_type": "markdown",
      "source": [
        "###Tuning original using F1 scoring"
      ],
      "metadata": {
        "id": "XA0zlXUUfx04"
      },
      "id": "XA0zlXUUfx04"
    },
    {
      "cell_type": "code",
      "source": [
        "hgb_params = {\n",
        "    'histgradientboostingclassifier__max_depth': [10, 20, 30, 40, 50, 60, 70, 80, 90, 100, None],\n",
        "    'histgradientboostingclassifier__min_samples_leaf': [1, 2, 4],\n",
        "    'histgradientboostingclassifier__learning_rate': [0.01,0.1,1,10],\n",
        "    'histgradientboostingclassifier__max_bins': [100, 150, 200, 255]\n",
        "}\n",
        "\n",
        "original_hgb_pipe = make_pipeline(StandardScaler(), HistGradientBoostingClassifier())\n",
        "original_hgb_grid= RandomizedSearchCV(original_hgb_pipe, hgb_params, n_iter = 50, cv = None, scoring='f1', refit=True, n_jobs = -1)\n",
        "\n",
        "for key in data.keys():\n",
        "  if key=='original':\n",
        "      original_hgb_grid.fit(data[key][0], data[key][1])\n",
        "      original_y_pred=original_hgb_grid.predict(data[key][2])\n",
        "      print(\"Histgradient Boosting / {} [Accuracy]: {}\".format(key, accuracy_score(data[key][3], original_y_pred)))\n",
        "      print(\"Histgradient Boosting / {} [Average Precision]: {}\".format(key, average_precision_score(data[key][3], original_y_pred)))\n",
        "      print(\"Histgradient Boosting / {} [ROC AUC]: {}\".format(key, roc_auc_score(data[key][3], original_y_pred)))\n",
        "      print(\"Histgradient Boosting / {} [F1]: {}\".format(key, f1_score(data[key][3], original_y_pred)))"
      ],
      "metadata": {
        "colab": {
          "base_uri": "https://localhost:8080/"
        },
        "id": "7y41yg1NcU4W",
        "outputId": "ead6e6bd-101f-4e9b-8b98-b514c12162f8"
      },
      "id": "7y41yg1NcU4W",
      "execution_count": 3,
      "outputs": [
        {
          "output_type": "stream",
          "name": "stdout",
          "text": [
            "Histgradient Boosting / original [Accuracy]: 0.9295644114921223\n",
            "Histgradient Boosting / original [Average Precision]: 0.28859025679411854\n",
            "Histgradient Boosting / original [ROC AUC]: 0.6608456383984369\n",
            "Histgradient Boosting / original [F1]: 0.4516129032258065\n"
          ]
        }
      ]
    },
    {
      "cell_type": "code",
      "source": [
        "for key in data.keys():\n",
        "  if key=='original':\n",
        "    print(\"Histgradient Boosting / {} : {}\".format(key, original_hgb_grid.best_params_))"
      ],
      "metadata": {
        "colab": {
          "base_uri": "https://localhost:8080/"
        },
        "id": "OJGtbwmWcbpn",
        "outputId": "a9b1a864-dcd9-4139-c292-b81a40667299"
      },
      "id": "OJGtbwmWcbpn",
      "execution_count": 4,
      "outputs": [
        {
          "output_type": "stream",
          "name": "stdout",
          "text": [
            "Histgradient Boosting / original : {'histgradientboostingclassifier__min_samples_leaf': 4, 'histgradientboostingclassifier__max_depth': 10, 'histgradientboostingclassifier__max_bins': 150, 'histgradientboostingclassifier__learning_rate': 0.1}\n"
          ]
        }
      ]
    },
    {
      "cell_type": "markdown",
      "source": [
        "###Tuning Smote"
      ],
      "metadata": {
        "id": "Jcu87vqvfkzm"
      },
      "id": "Jcu87vqvfkzm"
    },
    {
      "cell_type": "code",
      "source": [
        "smote_hgb_pipe = make_pipeline(StandardScaler(), HistGradientBoostingClassifier())\n",
        "smote_hgb_grid= RandomizedSearchCV(smote_hgb_pipe, hgb_params, n_iter = 100, cv = None, scoring='average', refit=True, n_jobs = -1)\n",
        "\n",
        "for key in data.keys():\n",
        "  if key=='smote':\n",
        "      smote_hgb_grid.fit(data[key][0], data[key][1])\n",
        "      smote_y_pred=smote_hgb_grid.predict(data[key][2])\n",
        "      print(\"Histgradient Boosting / {} [Accuracy]: {}\".format(key, accuracy_score(data[key][3], smote_y_pred)))\n",
        "      print(\"Histgradient Boosting / {} [Average Precision]: {}\".format(key, average_precision_score(data[key][3], smote_y_pred)))\n",
        "      print(\"Histgradient Boosting / {} [ROC AUC]: {}\".format(key, roc_auc_score(data[key][3], smote_y_pred)))\n",
        "      print(\"Histgradient Boosting / {} [F1]: {}\".format(key, f1_score(data[key][3], smote_y_pred)))"
      ],
      "metadata": {
        "colab": {
          "base_uri": "https://localhost:8080/"
        },
        "id": "NDMykugDUq3c",
        "outputId": "17cae621-60f5-4895-c6ef-5e5193b22cb5"
      },
      "id": "NDMykugDUq3c",
      "execution_count": 6,
      "outputs": [
        {
          "output_type": "stream",
          "name": "stdout",
          "text": [
            "Histgradient Boosting / smote [Accuracy]: 0.9276018099547512\n",
            "Histgradient Boosting / smote [Average Precision]: 0.2971090133590154\n",
            "Histgradient Boosting / smote [ROC AUC]: 0.6826534954476033\n",
            "Histgradient Boosting / smote [F1]: 0.47962382445141066\n"
          ]
        }
      ]
    },
    {
      "cell_type": "code",
      "source": [
        "for key in data.keys():\n",
        "  if key=='smote':\n",
        "    print(\"Histgradient Boosting / {} : {}\".format(key, smote_hgb_grid.best_params_))"
      ],
      "metadata": {
        "colab": {
          "base_uri": "https://localhost:8080/"
        },
        "id": "qw5vfMqyW17O",
        "outputId": "64278622-3c6c-4820-9e5a-8e8acab8f1e6"
      },
      "id": "qw5vfMqyW17O",
      "execution_count": 7,
      "outputs": [
        {
          "output_type": "stream",
          "name": "stdout",
          "text": [
            "Histgradient Boosting / smote : {'histgradientboostingclassifier__min_samples_leaf': 2, 'histgradientboostingclassifier__max_depth': 10, 'histgradientboostingclassifier__max_bins': 255, 'histgradientboostingclassifier__learning_rate': 0.1}\n"
          ]
        }
      ]
    },
    {
      "cell_type": "markdown",
      "source": [
        "###Training using optimized hyperparameters"
      ],
      "metadata": {
        "id": "6V4UoZymfqyo"
      },
      "id": "6V4UoZymfqyo"
    },
    {
      "cell_type": "code",
      "source": [
        "original_hgb_pipe = make_pipeline(StandardScaler(), HistGradientBoostingClassifier(original_hgb_grid.best_params_))\n",
        "original_hgb_grid.fit(data['original'][0], data['original'][1])\n",
        "original_y_pred=original_hgb_grid.predict(data['original'][2])\n",
        "\n",
        "print(\"Histgradient Boosting / {} [Accuracy]: {}\".format('original', accuracy_score(data['original'][3], original_y_pred)))\n",
        "print(\"Histgradient Boosting / {} [Average Precision]: {}\".format('original', average_precision_score(data['original'][3], original_y_pred)))\n",
        "print(\"Histgradient Boosting / {} [ROC AUC]: {}\".format('original', roc_auc_score(data['original'][3], original_y_pred)))\n",
        "print(\"Histgradient Boosting / {} [F1]: {}\".format('original', f1_score(data['original'][3], original_y_pred)))"
      ],
      "metadata": {
        "colab": {
          "base_uri": "https://localhost:8080/"
        },
        "id": "DZAt3BYLZ5LL",
        "outputId": "54804716-586b-4062-80d4-28bba0760751"
      },
      "id": "DZAt3BYLZ5LL",
      "execution_count": null,
      "outputs": [
        {
          "output_type": "stream",
          "name": "stdout",
          "text": [
            "Histgradient Boosting / original [Accuracy]: 0.9285831107234367\n",
            "Histgradient Boosting / original [Average Precision]: 0.28087791639359233\n",
            "Histgradient Boosting / original [ROC AUC]: 0.6571623921830547\n",
            "Histgradient Boosting / original [F1]: 0.44302721088435376\n"
          ]
        }
      ]
    },
    {
      "cell_type": "code",
      "source": [
        "smote_hgb_pipe = make_pipeline(StandardScaler(), HistGradientBoostingClassifier(smote_hgb_grid.best_params_))\n",
        "smote_hgb_grid.fit(data['smote'][0], data['smote'][1])\n",
        "smote_y_pred=smote_hgb_grid.predict(data['smote'][2])\n",
        "\n",
        "print(\"Histgradient Boosting / {} [Accuracy]: {}\".format('smote' , accuracy_score(data['smote'][3], smote_y_pred)))\n",
        "print(\"Histgradient Boosting / {} [Average Precision]: {}\".format('smote', average_precision_score(data['smote'][3], smote_y_pred)))\n",
        "print(\"Histgradient Boosting / {} [ROC AUC]: {}\".format('smote', roc_auc_score(data['smote'][3], smote_y_pred)))\n",
        "print(\"Histgradient Boosting / {} [F1]: {}\".format('smote', f1_score(data['smote'][3], smote_y_pred)))"
      ],
      "metadata": {
        "colab": {
          "base_uri": "https://localhost:8080/"
        },
        "id": "rsL6b6CfcCXR",
        "outputId": "bcdbf490-a34e-4398-fccc-4da26bca7237"
      },
      "id": "rsL6b6CfcCXR",
      "execution_count": null,
      "outputs": [
        {
          "output_type": "stream",
          "name": "stdout",
          "text": [
            "Histgradient Boosting / smote [Accuracy]: 0.9274927765360083\n",
            "Histgradient Boosting / smote [Average Precision]: 0.29349510398205947\n",
            "Histgradient Boosting / smote [ROC AUC]: 0.6788755301329611\n",
            "Histgradient Boosting / smote [F1]: 0.47389240506329117\n"
          ]
        }
      ]
    }
  ],
  "metadata": {
    "kernelspec": {
      "display_name": "Python 3 (ipykernel)",
      "language": "python",
      "name": "python3"
    },
    "language_info": {
      "codemirror_mode": {
        "name": "ipython",
        "version": 3
      },
      "file_extension": ".py",
      "mimetype": "text/x-python",
      "name": "python",
      "nbconvert_exporter": "python",
      "pygments_lexer": "ipython3",
      "version": "3.9.12"
    },
    "colab": {
      "provenance": []
    }
  },
  "nbformat": 4,
  "nbformat_minor": 5
}